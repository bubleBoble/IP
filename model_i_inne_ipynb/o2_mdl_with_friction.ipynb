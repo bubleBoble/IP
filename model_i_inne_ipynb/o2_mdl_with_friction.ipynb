{
 "cells": [
  {
   "cell_type": "markdown",
   "metadata": {},
   "source": [
    "# <b> Modele tarcia - lepkie i stribeck-a"
   ]
  },
  {
   "cell_type": "markdown",
   "metadata": {},
   "source": [
    "\n",
    "\\begin{equation}\n",
    "    \\begin{split}\n",
    "        & L = \\frac{L_pm_p + L_cm_c}{m_r} \\\\\n",
    "        & m_r = m_p + m_c \\\\\n",
    "        & m_r = m_p + m_c \\\\\n",
    "        & M_t = M+m_r \\\\\n",
    "        & J_t = J_{cm} + m_rL^2 \\\\\n",
    "        & J_{cm} = \\frac{4}{3}m_p L_p^2 + m_cL_c^2 -L^2m_r \\\\\n",
    "        & J_{cm} = \\frac{L_p^2}{m_r} \\left[\\frac{4}{3} m_r (3m_c + m_p) - (2m_c + m_p)^2 \\right]\n",
    "    \\end{split}\n",
    "\\end{equation}"
   ]
  },
  {
   "cell_type": "code",
   "execution_count": 8,
   "metadata": {
    "tags": []
   },
   "outputs": [],
   "source": [
    "# imports\n",
    "from IPython.display import display as disp\n",
    "from sympy import symbols, cos, sin\n",
    "import sympy as smp\n",
    "# Newtown notation for derivatives (dot notation)\n",
    "from sympy.physics.mechanics import dynamicsymbols, init_vprinting\n",
    "init_vprinting() "
   ]
  },
  {
   "cell_type": "code",
   "execution_count": 2,
   "metadata": {
    "tags": []
   },
   "outputs": [],
   "source": [
    "# Symbols\n",
    "Mt, Jt, mr, L, Lc, g, gamma, D, Ff = smp.symbols('M_t J_t m_r L L_c g gamma D F_f')\n",
    "\n",
    "# t = smp.symbols('t', real=True)\n",
    "t = smp.symbols('t')\n",
    "\n",
    "the, x, u = smp.symbols('theta, x, u', cls=smp.Function)\n",
    "\n",
    "the = the(t)\n",
    "x = x(t)\n",
    "u = u(t)\n",
    "\n",
    "Dthe = smp.diff(the, t)\n",
    "DDthe = smp.diff(the, t, 2)\n",
    "Dx = smp.diff(x, t)\n",
    "DDx = smp.diff(x, t, 2)"
   ]
  },
  {
   "cell_type": "markdown",
   "metadata": {},
   "source": [
    "\\begin{equation}\n",
    "    (M + m_r) \\ddot{x} + Lm_rcos(\\theta)\\ddot{\\theta} + F_f -Lm_r\\sin(\\theta)\\dot{\\theta}^2 \n",
    "    -u - D\\cos(\\theta) = 0\n",
    "\\end{equation}\n",
    "\n",
    "\\begin{equation}\n",
    "    (J_{cm} + m_rL^2)\\ddot{\\theta} + m_rL\\cos(\\theta)\\ddot{x} + \\gamma\\dot{\\theta} - m_rgL\\sin(\\theta)\n",
    "    + L_c D = 0\n",
    "\\end{equation}"
   ]
  },
  {
   "cell_type": "markdown",
   "metadata": {},
   "source": [
    "    \n",
    "\\begin{equation}\n",
    "    \\begin{bmatrix}\n",
    "        M_t & m_rL\\cos(\\theta)\\\\\n",
    "        m_rL\\cos(\\theta) & J_t \n",
    "    \\end{bmatrix}\n",
    "    \\begin{bmatrix}\n",
    "        \\ddot{x}\\\\\n",
    "        \\ddot{\\theta}\n",
    "    \\end{bmatrix}\n",
    "    +\n",
    "    \\begin{bmatrix}\n",
    "        F_f - Lm_r\\sin(\\theta)\\dot{\\theta}^2\\\\\n",
    "        \\gamma\\dot{\\theta} - m_r g L\\sin(\\theta)\n",
    "    \\end{bmatrix}\n",
    "    +\n",
    "    \\begin{bmatrix}\n",
    "        -u\\\\\n",
    "        0\n",
    "    \\end{bmatrix}\n",
    "    +\n",
    "    \\begin{bmatrix}\n",
    "        -D\\cos(\\theta)\\\\\n",
    "        -L_c D\n",
    "    \\end{bmatrix}\n",
    "    =\n",
    "    0\n",
    "\\end{equation}"
   ]
  },
  {
   "cell_type": "code",
   "execution_count": 3,
   "metadata": {
    "jupyter": {
     "source_hidden": true
    },
    "tags": []
   },
   "outputs": [],
   "source": [
    "# equations\n",
    "a1 = smp.Matrix([ \n",
    "    [Mt, mr*L*cos(the)],\n",
    "    [mr*L*cos(the), Jt]\n",
    "])\n",
    "a2  = smp.Matrix([\n",
    "    [DDx],\n",
    "    [DDthe]\n",
    "])\n",
    "a3 = smp.Matrix([\n",
    "    [Ff - L*mr*sin(the)*Dthe**2],\n",
    "    [gamma*Dthe - mr*g*L*sin(the)]\n",
    "]) \n",
    "a4 = smp.Matrix([\n",
    "    [-u],\n",
    "    [0]\n",
    "])\n",
    "a5 = smp.Matrix([\n",
    "    [-D*cos(the)],\n",
    "    [-Lc*D]\n",
    "])\n",
    "\n",
    "# LHS of the model equations, F(...) = 0\n",
    "F = a1*a2 + a3 + a4 + a5"
   ]
  },
  {
   "cell_type": "markdown",
   "metadata": {},
   "source": [
    "Stribeck friction model\n",
    "$$F_{f_{stribeck}} = \\left[ \\mu_c + (\\mu_s - \\mu_c) * \\exp \\left(-\\left(\\frac{\\dot{x}}{v_s}\\right) ^ i \\right)\\right] M_t  g  * sign(\\dot{x}) + b \\dot{x}$$"
   ]
  },
  {
   "cell_type": "code",
   "execution_count": 11,
   "metadata": {
    "tags": []
   },
   "outputs": [],
   "source": [
    "# viscous friction\n",
    "b = smp.symbols('b')\n",
    "Ff_b = b*Dx\n",
    "\n",
    "# stribeck friction\n",
    "uc, us, vs, i = smp.symbols('mu_c mu_s v_s i')\n",
    "Ff_s = (uc + (us - uc) * smp.exp(-(Dx/vs)**i)) * Mt*g * smp.sign(Dx) + b*Dx\n",
    "\n",
    "# stribeck friction, sign(Dx) ->np.-> tanh(500*Dx)\n",
    "uc, us, vs, i = smp.symbols('mu_c mu_s v_s i')\n",
    "Ff_s2 = (uc + (us - uc) * smp.exp(-(Dx/vs)**i)) * Mt*g * smp.tanh(100*Dx) + b*Dx"
   ]
  },
  {
   "cell_type": "code",
   "execution_count": 5,
   "metadata": {
    "tags": []
   },
   "outputs": [
    {
     "data": {
      "text/plain": [
       "'Tarcie lepkie'"
      ]
     },
     "metadata": {},
     "output_type": "display_data"
    },
    {
     "data": {
      "image/png": "[encoded data removed]",
      "text/latex": [
       "$\\displaystyle b \\dot{x}$"
      ],
      "text/plain": [
       "b⋅ẋ"
      ]
     },
     "execution_count": 5,
     "metadata": {},
     "output_type": "execute_result"
    }
   ],
   "source": [
    "disp('Tarcie lepkie')\n",
    "Ff_b"
   ]
  },
  {
   "cell_type": "code",
   "execution_count": 10,
   "metadata": {
    "tags": []
   },
   "outputs": [
    {
     "data": {
      "text/plain": [
       "'Tarcie model Stribeck-a'"
      ]
     },
     "metadata": {},
     "output_type": "display_data"
    },
    {
     "data": {
      "image/png": "[encoded data removed]",
      "text/latex": [
       "$\\displaystyle M_{t} g \\left(\\mu_{c} + \\left(- \\mu_{c} + \\mu_{s}\\right) e^{- \\left(\\frac{\\dot{x}}{v_{s}}\\right)^{i}}\\right) \\operatorname{sign}{\\left(\\dot{x} \\right)} + b \\dot{x}$"
      ],
      "text/plain": [
       "     ⎛                        i⎞              \n",
       "     ⎜                    ⎛ẋ⎞ ⎟              \n",
       "     ⎜                   -⎜──⎟ ⎟              \n",
       "     ⎜                    ⎝vₛ⎠ ⎟              \n",
       "Mₜ⋅g⋅⎝μ_c + (-μ_c + μₛ)⋅ℯ      ⎠⋅sign(ẋ) + b⋅ẋ"
      ]
     },
     "execution_count": 10,
     "metadata": {},
     "output_type": "execute_result"
    }
   ],
   "source": [
    "disp('Tarcie model Stribeck-a')\n",
    "Ff_s"
   ]
  },
  {
   "cell_type": "code",
   "execution_count": 7,
   "metadata": {
    "tags": []
   },
   "outputs": [
    {
     "data": {
      "text/plain": [
       "'Tarcie model Stribeck-a bez signum'"
      ]
     },
     "metadata": {},
     "output_type": "display_data"
    },
    {
     "data": {
      "image/png": "[encoded data removed]",
      "text/latex": [
       "$\\displaystyle M_{t} g \\left(\\mu_{c} + \\left(- \\mu_{c} + \\mu_{s}\\right) e^{- \\left(\\frac{\\dot{x}}{v_{s}}\\right)^{i}}\\right) \\tanh{\\left(100 \\dot{x} \\right)} + b \\dot{x}$"
      ],
      "text/plain": [
       "     ⎛                        i⎞                  \n",
       "     ⎜                    ⎛ẋ⎞ ⎟                  \n",
       "     ⎜                   -⎜──⎟ ⎟                  \n",
       "     ⎜                    ⎝vₛ⎠ ⎟                  \n",
       "Mₜ⋅g⋅⎝μ_c + (-μ_c + μₛ)⋅ℯ      ⎠⋅tanh(100⋅ẋ) + b⋅ẋ"
      ]
     },
     "execution_count": 7,
     "metadata": {},
     "output_type": "execute_result"
    }
   ],
   "source": [
    "disp('Tarcie model Stribeck-a bez signum')\n",
    "Ff_s2"
   ]
  }
 ],
 "metadata": {
  "kernelspec": {
   "display_name": "systemsKer",
   "language": "python",
   "name": "systems"
  },
  "language_info": {
   "codemirror_mode": {
    "name": "ipython",
    "version": 3
   },
   "file_extension": ".py",
   "mimetype": "text/x-python",
   "name": "python",
   "nbconvert_exporter": "python",
   "pygments_lexer": "ipython3",
   "version": "3.9.16"
  },
  "vscode": {
   "interpreter": {
    "hash": "1a1644aade9e1d826661d79d97f8a96b3be37f68f2e7d0bbeb3d255db6365bb8"
   }
  }
 },
 "nbformat": 4,
 "nbformat_minor": 4
}
