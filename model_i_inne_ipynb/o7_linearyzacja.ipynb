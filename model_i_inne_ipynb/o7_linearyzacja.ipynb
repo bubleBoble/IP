{
 "cells": [
  {
   "cell_type": "code",
   "execution_count": 1,
   "id": "e51b5021-e6cf-4646-9534-1c33e673c6fa",
   "metadata": {},
   "outputs": [],
   "source": [
    "# 1-podstawić, 0-nie podstawiwać\n",
    "podstawic_parametry_czy_nie = 0;"
   ]
  },
  {
   "cell_type": "markdown",
   "id": "926afae9-2b79-4c2b-82cf-9fd93a73d334",
   "metadata": {
    "tags": []
   },
   "source": [
    "### importy"
   ]
  },
  {
   "cell_type": "code",
   "execution_count": 3,
   "id": "8b59ac9f-fb2c-4c8a-8276-8355b01be5ef",
   "metadata": {
    "tags": []
   },
   "outputs": [],
   "source": [
    "# imports\n",
    "from IPython.display import display as disp\n",
    "from IPython.display import Markdown as dispmd\n",
    "from IPython.display import Latex as dispLtx\n",
    "\n",
    "from sympy import symbols, cos, sin\n",
    "import sympy as smp\n",
    "import numpy as np\n",
    "\n",
    "# Newtown notation for derivatives (dot notation) -> bardzo spowalnia printowanie równań\n",
    "from sympy.physics.mechanics import dynamicsymbols, init_vprinting\n",
    "init_vprinting() "
   ]
  },
  {
   "cell_type": "markdown",
   "id": "f677d067-9c88-4525-9f5c-7b4c552b354e",
   "metadata": {
    "tags": []
   },
   "source": [
    "### równania modelu, symboliczne"
   ]
  },
  {
   "cell_type": "code",
   "execution_count": 3,
   "id": "8cfda2d8-ac07-4612-84b9-7f67496e9b95",
   "metadata": {
    "tags": []
   },
   "outputs": [],
   "source": [
    "# Symbols\n",
    "Mt, Jt, mr, L, Lc, g, gamma, D, Ff = smp.symbols('M_t J_t m_r L L_c g gamma D F_f')\n",
    "\n",
    "# t = smp.symbols('t', real=True)\n",
    "t = smp.symbols('t')\n",
    "\n",
    "the, x, u = smp.symbols('theta, x, u', cls=smp.Function)\n",
    "\n",
    "the = the(t)\n",
    "x = x(t)\n",
    "u = u(t)\n",
    "\n",
    "Dthe = smp.diff(the, t)\n",
    "DDthe = smp.diff(the, t, 2)\n",
    "Dx = smp.diff(x, t)\n",
    "DDx = smp.diff(x, t, 2)"
   ]
  },
  {
   "cell_type": "code",
   "execution_count": 4,
   "id": "85440245-8c08-4436-afd3-ae4f652cd01c",
   "metadata": {
    "tags": []
   },
   "outputs": [],
   "source": [
    "a1 = smp.Matrix([ \n",
    "    [Mt, mr*L*cos(the)],\n",
    "    [mr*L*cos(the), Jt]\n",
    "])\n",
    "a2  = smp.Matrix([\n",
    "    [DDx],\n",
    "    [DDthe]\n",
    "])\n",
    "a3 = smp.Matrix([\n",
    "    [Ff - L*mr*sin(the)*Dthe**2],\n",
    "    [gamma*Dthe - mr*g*L*sin(the)]\n",
    "]) \n",
    "a4 = smp.Matrix([\n",
    "    [-u],\n",
    "    [0]\n",
    "])\n",
    "a5 = smp.Matrix([\n",
    "    [-D*cos(the)],\n",
    "    [-Lc*D]\n",
    "])"
   ]
  },
  {
   "cell_type": "code",
   "execution_count": 5,
   "id": "adefed12-e510-4976-8c45-b5192661d212",
   "metadata": {
    "tags": []
   },
   "outputs": [],
   "source": [
    "# lewa strona równania\n",
    "F = a1 * a2 + a3 + a4 + a5"
   ]
  },
  {
   "cell_type": "markdown",
   "id": "32ef79e2-f0c8-482e-b951-b46046e7a1d6",
   "metadata": {
    "tags": []
   },
   "source": [
    "### modele tarcia"
   ]
  },
  {
   "cell_type": "code",
   "execution_count": 7,
   "id": "81856ec3-3d78-49b1-abee-2274c461e4bb",
   "metadata": {
    "tags": []
   },
   "outputs": [],
   "source": [
    "# modele sił tarcia do podstawienia do F za Ff\n",
    "\n",
    "# tarcie lepkie\n",
    "b = smp.symbols('b')\n",
    "Ff_lepkie = b*Dx\n",
    "# tarcie Stribeck-a\n",
    "uc, us, vs, i = smp.symbols('mu_c mu_s v_s i')\n",
    "Ff_stribeck_sign = (uc + (us - uc) * smp.exp(-(Dx/vs)**i)) * Mt*g * smp.sign(Dx) + b*Dx\n",
    "\n",
    "# tarcie Stribeck-a, sign(Dx) -> np. tanh(500*Dx)\n",
    "uc, us, vs, i = smp.symbols('mu_c mu_s v_s i')\n",
    "Ff_stribeck_tanh = (uc + (us - uc) * smp.exp(-(Dx/vs)**i)) * Mt*g * smp.tanh(400*Dx) + b*Dx"
   ]
  },
  {
   "cell_type": "code",
   "execution_count": 8,
   "id": "3fe763fc-4585-40cb-8087-bdd604a62c71",
   "metadata": {
    "tags": []
   },
   "outputs": [
    {
     "data": {
      "text/plain": [
       "'F = 0'"
      ]
     },
     "metadata": {},
     "output_type": "display_data"
    },
    {
     "data": {
      "image/png": "[encoded data removed]",
      "text/latex": [
       "$\\displaystyle \\left[\\begin{matrix}- D \\cos{\\left(\\theta \\right)} + F_{f} - L m_{r} \\sin{\\left(\\theta \\right)} \\dot{\\theta}^{2} + L m_{r} \\cos{\\left(\\theta \\right)} \\ddot{\\theta} + M_{t} \\ddot{x} - u\\\\- D L_{c} + J_{t} \\ddot{\\theta} - L g m_{r} \\sin{\\left(\\theta \\right)} + L m_{r} \\cos{\\left(\\theta \\right)} \\ddot{x} + \\gamma \\dot{\\theta}\\end{matrix}\\right]$"
      ],
      "text/plain": [
       "⎡                               2                           ⎤\n",
       "⎢-D⋅cos(θ) + F_f - L⋅mᵣ⋅sin(θ)⋅θ̇  + L⋅mᵣ⋅cos(θ)⋅θ̈ + Mₜ⋅ẍ - u⎥\n",
       "⎢                                                           ⎥\n",
       "⎣    -D⋅L_c + Jₜ⋅θ̈ - L⋅g⋅mᵣ⋅sin(θ) + L⋅mᵣ⋅cos(θ)⋅ẍ + γ⋅θ̇    ⎦"
      ]
     },
     "metadata": {},
     "output_type": "display_data"
    },
    {
     "data": {
      "text/plain": [
       "'tarcie lepkie'"
      ]
     },
     "metadata": {},
     "output_type": "display_data"
    },
    {
     "data": {
      "image/png": "[encoded data removed]",
      "text/latex": [
       "$\\displaystyle b \\dot{x}$"
      ],
      "text/plain": [
       "b⋅ẋ"
      ]
     },
     "metadata": {},
     "output_type": "display_data"
    },
    {
     "data": {
      "text/plain": [
       "'tarcie Stribeck sign'"
      ]
     },
     "metadata": {},
     "output_type": "display_data"
    },
    {
     "data": {
      "image/png": "[encoded data removed]",
      "text/latex": [
       "$\\displaystyle M_{t} g \\left(\\mu_{c} + \\left(- \\mu_{c} + \\mu_{s}\\right) e^{- \\left(\\frac{\\dot{x}}{v_{s}}\\right)^{i}}\\right) \\operatorname{sign}{\\left(\\dot{x} \\right)} + b \\dot{x}$"
      ],
      "text/plain": [
       "     ⎛                        i⎞              \n",
       "     ⎜                    ⎛ẋ⎞ ⎟              \n",
       "     ⎜                   -⎜──⎟ ⎟              \n",
       "     ⎜                    ⎝vₛ⎠ ⎟              \n",
       "Mₜ⋅g⋅⎝μ_c + (-μ_c + μₛ)⋅ℯ      ⎠⋅sign(ẋ) + b⋅ẋ"
      ]
     },
     "metadata": {},
     "output_type": "display_data"
    },
    {
     "data": {
      "text/plain": [
       "'tarcie Stribeck tanh'"
      ]
     },
     "metadata": {},
     "output_type": "display_data"
    },
    {
     "data": {
      "image/png": "[encoded data removed]",
      "text/latex": [
       "$\\displaystyle M_{t} g \\left(\\mu_{c} + \\left(- \\mu_{c} + \\mu_{s}\\right) e^{- \\left(\\frac{\\dot{x}}{v_{s}}\\right)^{i}}\\right) \\tanh{\\left(400 \\dot{x} \\right)} + b \\dot{x}$"
      ],
      "text/plain": [
       "     ⎛                        i⎞                  \n",
       "     ⎜                    ⎛ẋ⎞ ⎟                  \n",
       "     ⎜                   -⎜──⎟ ⎟                  \n",
       "     ⎜                    ⎝vₛ⎠ ⎟                  \n",
       "Mₜ⋅g⋅⎝μ_c + (-μ_c + μₛ)⋅ℯ      ⎠⋅tanh(400⋅ẋ) + b⋅ẋ"
      ]
     },
     "metadata": {},
     "output_type": "display_data"
    }
   ],
   "source": [
    "disp('F = 0')\n",
    "disp(F)\n",
    "disp('tarcie lepkie')\n",
    "disp(Ff_lepkie)\n",
    "disp('tarcie Stribeck sign')\n",
    "disp(Ff_stribeck_sign)\n",
    "disp('tarcie Stribeck tanh')\n",
    "disp(Ff_stribeck_tanh)"
   ]
  },
  {
   "cell_type": "markdown",
   "id": "4756f0d1-e342-41f1-b794-d137707c32c4",
   "metadata": {
    "tags": []
   },
   "source": [
    "### jak zlinearyzować"
   ]
  },
  {
   "cell_type": "markdown",
   "id": "41a54e82-24e6-4fec-b064-b8503292b854",
   "metadata": {},
   "source": [
    "\\begin{equation}\n",
    "    \\begin{bmatrix}\n",
    "        M_t & m_rL\\cos(\\theta)\\\\\n",
    "        m_rL\\cos(\\theta) & J_t \n",
    "    \\end{bmatrix}\n",
    "    \\begin{bmatrix}\n",
    "        \\ddot{x}\\\\\n",
    "        \\ddot{\\theta}\n",
    "    \\end{bmatrix}\n",
    "    +\n",
    "    \\begin{bmatrix}\n",
    "        F_f - Lm_r\\sin(\\theta)\\dot{\\theta}^2\\\\\n",
    "        \\gamma\\dot{\\theta} - m_r g L\\sin(\\theta)\n",
    "    \\end{bmatrix}\n",
    "    +\n",
    "    \\begin{bmatrix}\n",
    "        -u\\\\\n",
    "        0\n",
    "    \\end{bmatrix}\n",
    "    +\n",
    "    \\begin{bmatrix}\n",
    "        -D\\cos(\\theta)\\\\\n",
    "        -L_c D\n",
    "    \\end{bmatrix}\n",
    "    =\n",
    "    0\n",
    "\\end{equation}\n",
    "\n",
    "$$\\boldsymbol{F}(\\ddot{x}, \\dot{x}, \\ddot{\\theta}, \\dot{\\theta}, \\theta, u, D) = 0$$\n",
    "$$F_f = F_f(\\dot{x})$$"
   ]
  },
  {
   "cell_type": "markdown",
   "id": "48d620fa-e89b-40bb-b36f-4f461f2a9126",
   "metadata": {},
   "source": [
    "punkty pracy, g-góra, d-dół  \n",
    "<font size=\"4\"> \n",
    "$S_{g/d} = (\\theta_0,\\ \\dot{x}_0,\\ \\dot{\\theta}_0,\\ \\ddot{x}_0,\\ \\ddot{\\theta}_0,\\ u_0,\\ D_0)$"
   ]
  },
  {
   "cell_type": "markdown",
   "id": "6a60ae22-56a0-493f-b914-560d74a85c19",
   "metadata": {
    "tags": []
   },
   "source": [
    "---\n",
    "górne położenie:   \n",
    "$S_g = (\\ 0,\\ 0,\\ 0,\\ 0,\\ 0,\\ 0,\\ 0\\ )$   \n",
    "\n",
    "Przyrostowe zmienne = oryginalne zmienne  \n",
    "$\\Delta \\theta = \\theta - 0$  \n",
    "...   \n",
    "$\\Delta D = D - 0$"
   ]
  },
  {
   "cell_type": "markdown",
   "id": "bc8c485e-7fe6-4b42-b6ed-a6df41dcf6b0",
   "metadata": {
    "tags": []
   },
   "source": [
    "---\n",
    "dolne położenie:   \n",
    "$S_d = (\\ \\pi,\\ 0,\\ 0,\\ 0,\\ 0,\\ 0,\\ 0\\ )$   \n",
    "  \n",
    "Tylko $\\Delta \\theta$ jest inna    \n",
    "$\\Delta \\theta = \\theta - \\pi$  \n",
    "...   \n",
    "$\\Delta D = D - 0$"
   ]
  },
  {
   "cell_type": "markdown",
   "id": "fbf9b407-3655-4da9-8b60-3a30fddb3a52",
   "metadata": {},
   "source": [
    "---\n",
    "<font size=\"2\">  \n",
    "    $$\n",
    "    \\left[ \\frac{\\partial F}{\\partial \\theta} \\right]_{S_0} \\Delta\\theta + \n",
    "    \\left[ \\frac{\\partial F}{\\partial \\dot{x}} \\right]_{S_0} \\Delta\\dot{x} + \n",
    "    \\left[ \\frac{\\partial F}{\\partial \\dot{\\theta}} \\right]_{S_0} \\Delta\\dot{\\theta} + \n",
    "    \\left[ \\frac{\\partial F}{\\partial \\ddot{x}} \\right]_{S_0} \\Delta\\ddot{x} + \n",
    "    \\left[ \\frac{\\partial F}{\\partial \\ddot{\\theta}} \\right]_{S_0} \\Delta\\ddot{\\theta} + \n",
    "    \\left[ \\frac{\\partial F}{\\partial u} \\right]_{S_0} \\Delta u + \n",
    "    \\left[ \\frac{\\partial F}{\\partial D} \\right]_{S_0} \\Delta D = 0\n",
    "    $$"
   ]
  },
  {
   "cell_type": "markdown",
   "id": "a9cecfdb-89d3-4c97-a479-29c6437a5b0e",
   "metadata": {
    "tags": []
   },
   "source": [
    "### parametry "
   ]
  },
  {
   "cell_type": "code",
   "execution_count": 9,
   "id": "002f6ae6-6d8f-4db0-bbdf-9a883f908de2",
   "metadata": {
    "tags": []
   },
   "outputs": [],
   "source": [
    "M = 0.815\n",
    "mp = 0.21\n",
    "mc = 0\n",
    "Lp = 0.305\n",
    "Lc = 2*Lp\n",
    "g = 9.8145\n",
    "mr = mp+mc\n",
    "Mt = M+mr\n",
    "L = (Lp*mp + Lc*mc) / mr\n",
    "Jcm = Lp**2 / mr * ( 4/3 * mr*(3 * mc + mp) - (2*mc + mp)**2 )\n",
    "Jt = Jcm + mr*L**2\n",
    "gamma = 0.1\n",
    "b_lepkie = 2.1\n",
    "b_stribeck = 3\n",
    "miu_c      = 0.04287\n",
    "miu_s      = 0.0861\n",
    "vs         = 0.105\n",
    "i          = 2\n",
    "delta      = 400\n",
    "\n",
    "params_visc_values = [M, mc, mp, Lp, Lc, g, b_lepkie, gamma, mr, Mt, L, Jcm, Jt]\n",
    "params_stri_values = [M, mc, mp, Lp, Lc, g, b_stribeck, gamma, mr, Mt, L, Jcm, Jt, miu_c, miu_s, vs, i]"
   ]
  },
  {
   "cell_type": "code",
   "execution_count": 13,
   "id": "ba81631b-1660-421c-be5a-fc0bb851ec3b",
   "metadata": {
    "tags": []
   },
   "outputs": [],
   "source": [
    "# lista parametrów modeli - potrzebna do podstawienia liczb\n",
    "# trzeba zdefiniować dodatkwoe symbole, niektóre są redefiniowane\n",
    "\n",
    "M, mc, mp, Lp, Lc, g, b_lepkie, gamma, mr, Mt, L, Jcm, Jt = smp.symbols('M m_c m_p L_p L_c g b gamma m_r M_t L J_{cm} J_t')\n",
    "# params lepkie\n",
    "params_visc = [M, mc, mp, Lp, Lc, g, b_lepkie, gamma, mr, Mt, L, Jcm, Jt]\n",
    "\n",
    "M, mc, mp, Lp, Lc, g, b_stribeck, gamma, mr, Mt, L, Jcm, Jt, miu_c, miu_s, vs, i = smp.symbols('M m_c m_p L_p L_c g b gamma m_r M_t L J_{cm} J_t mu_c mu_s v_s i')\n",
    "# params Stribeck\n",
    "params_stri = [M, mc, mp, Lp, Lc, g, b_stribeck, gamma, mr, Mt, L, Jcm, Jt, miu_c, miu_s, vs, i]"
   ]
  },
  {
   "cell_type": "code",
   "execution_count": 15,
   "id": "379ec150-3467-4e34-805e-7df7f26e9b90",
   "metadata": {
    "tags": []
   },
   "outputs": [
    {
     "data": {
      "text/plain": [
       "True"
      ]
     },
     "execution_count": 15,
     "metadata": {},
     "output_type": "execute_result"
    }
   ],
   "source": [
    "# # powinno być true, true\n",
    "len(params_visc) == len(params_visc_values)\n",
    "len(params_stri) == len(params_stri_values)"
   ]
  },
  {
   "cell_type": "markdown",
   "id": "3fb5fdd7-5d21-4ac0-a1d4-023168549884",
   "metadata": {
    "tags": []
   },
   "source": [
    "### <u> punkty pracy"
   ]
  },
  {
   "cell_type": "code",
   "execution_count": 4,
   "id": "87957398-8426-4453-b7d5-83353cc7725d",
   "metadata": {
    "tags": []
   },
   "outputs": [
    {
     "data": {
      "text/plain": [
       "'Sg'"
      ]
     },
     "metadata": {},
     "output_type": "display_data"
    },
    {
     "data": {
      "image/png": "[encoded data removed]",
      "text/latex": [
       "$\\displaystyle \\left[ 0, \\  0, \\  0, \\  0, \\  0, \\  0, \\  0\\right]$"
      ],
      "text/plain": [
       "[0, 0, 0, 0, 0, 0, 0]"
      ]
     },
     "metadata": {},
     "output_type": "display_data"
    },
    {
     "data": {
      "text/plain": [
       "'Sd'"
      ]
     },
     "metadata": {},
     "output_type": "display_data"
    },
    {
     "data": {
      "image/png": "[encoded data removed]",
      "text/latex": [
       "$\\displaystyle \\left[ 3.14159265358979, \\  0, \\  0, \\  0, \\  0, \\  0, \\  0\\right]$"
      ],
      "text/plain": [
       "[3.141592653589793, 0, 0, 0, 0, 0, 0]"
      ]
     },
     "metadata": {},
     "output_type": "display_data"
    },
    {
     "ename": "NameError",
     "evalue": "name 'the' is not defined",
     "output_type": "error",
     "traceback": [
      "\u001b[1;31m---------------------------------------------------------------------------\u001b[0m",
      "\u001b[1;31mNameError\u001b[0m                                 Traceback (most recent call last)",
      "Cell \u001b[1;32mIn[4], line 9\u001b[0m\n\u001b[0;32m      7\u001b[0m disp(Sd)\n\u001b[0;32m      8\u001b[0m \u001b[38;5;66;03m# punkt pracy symbolicznie - uzyty do podstawienia punktu pracy z wart. numerycznymi\u001b[39;00m\n\u001b[1;32m----> 9\u001b[0m S0 \u001b[38;5;241m=\u001b[39m [\u001b[43mthe\u001b[49m, Dx, Dthe, DDx, DDthe, u, D]\n\u001b[0;32m     10\u001b[0m disp(\u001b[38;5;124m'\u001b[39m\u001b[38;5;124mS0\u001b[39m\u001b[38;5;124m'\u001b[39m)\n\u001b[0;32m     11\u001b[0m disp(S0)\n",
      "\u001b[1;31mNameError\u001b[0m: name 'the' is not defined"
     ]
    }
   ],
   "source": [
    "# punkty pracy\n",
    "Sg = [0, 0, 0, 0, 0, 0, 0]\n",
    "disp('Sg')\n",
    "disp(Sg)\n",
    "Sd = [np.pi, 0, 0, 0, 0, 0, 0]\n",
    "disp('Sd')\n",
    "disp(Sd)\n",
    "# punkt pracy symbolicznie - uzyty do podstawienia punktu pracy z wart. numerycznymi\n",
    "S0 = [the, Dx, Dthe, DDx, DDthe, u, D]\n",
    "disp('S0')\n",
    "disp(S0)"
   ]
  },
  {
   "cell_type": "markdown",
   "id": "b1e6040e-6b64-4f4c-871d-f74236a92c8d",
   "metadata": {
    "tags": []
   },
   "source": [
    "### zmienne przyrostowe (symbole)"
   ]
  },
  {
   "cell_type": "code",
   "execution_count": 5,
   "id": "c78b61cd-31f2-46d6-befe-f3845e3f5b9e",
   "metadata": {
    "tags": []
   },
   "outputs": [
    {
     "ename": "NameError",
     "evalue": "name 't' is not defined",
     "output_type": "error",
     "traceback": [
      "\u001b[1;31m---------------------------------------------------------------------------\u001b[0m",
      "\u001b[1;31mNameError\u001b[0m                                 Traceback (most recent call last)",
      "Cell \u001b[1;32mIn[5], line 7\u001b[0m\n\u001b[0;32m      4\u001b[0m D_u, D_D \u001b[38;5;241m=\u001b[39m smp\u001b[38;5;241m.\u001b[39msymbols(\u001b[38;5;124mr\u001b[39m\u001b[38;5;124m'\u001b[39m\u001b[38;5;124m\\\u001b[39m\u001b[38;5;124mDelta\u001b[39m\u001b[38;5;132;01m{u}\u001b[39;00m\u001b[38;5;124m \u001b[39m\u001b[38;5;124m\\\u001b[39m\u001b[38;5;124mDelta\u001b[39m\u001b[38;5;132;01m{D}\u001b[39;00m\u001b[38;5;124m'\u001b[39m)\n\u001b[0;32m      6\u001b[0m D_the \u001b[38;5;241m=\u001b[39m smp\u001b[38;5;241m.\u001b[39msymbols(\u001b[38;5;124mr\u001b[39m\u001b[38;5;124m'\u001b[39m\u001b[38;5;124m\\\u001b[39m\u001b[38;5;124mDelta\u001b[39m\u001b[38;5;124m{\u001b[39m\u001b[38;5;124m\\\u001b[39m\u001b[38;5;124mtheta}\u001b[39m\u001b[38;5;124m'\u001b[39m, \u001b[38;5;28mcls\u001b[39m\u001b[38;5;241m=\u001b[39msmp\u001b[38;5;241m.\u001b[39mFunction)\n\u001b[1;32m----> 7\u001b[0m D_the \u001b[38;5;241m=\u001b[39m D_the(\u001b[43mt\u001b[49m)\n\u001b[0;32m      8\u001b[0m D_Dthe \u001b[38;5;241m=\u001b[39m D_the\u001b[38;5;241m.\u001b[39mdiff(t)\n\u001b[0;32m      9\u001b[0m D_DDthe \u001b[38;5;241m=\u001b[39m D_the\u001b[38;5;241m.\u001b[39mdiff(t, \u001b[38;5;241m2\u001b[39m)\n",
      "\u001b[1;31mNameError\u001b[0m: name 't' is not defined"
     ]
    }
   ],
   "source": [
    "# zmienne przyrostowe\n",
    "# D_the, D_Dthe, D_DDthe = smp.symbols(r'\\Delta\\theta \\Delta\\dot{\\theta} \\Delta\\ddot{\\theta}')\n",
    "# D_Dx, D_DDx = D_Dx, D_DDx = smp.symbols(r'\\Delta\\dot{x} \\Delta\\ddot{x}')\n",
    "D_u, D_D = smp.symbols(r'\\Delta{u} \\Delta{D}')\n",
    "\n",
    "D_the = smp.symbols(r'\\Delta{\\theta}', cls=smp.Function)\n",
    "D_the = D_the(t)\n",
    "D_Dthe = D_the.diff(t)\n",
    "D_DDthe = D_the.diff(t, 2)\n",
    "\n",
    "D_x = smp.symbols(r'\\Delta{x}', cls=smp.Function)\n",
    "D_x = D_x(t)\n",
    "D_Dx = D_x.diff(t)\n",
    "D_DDx = D_x.diff(t, 2)\n",
    "D_x1, D_x2, D_x3, D_x4 = smp.symbols('\\Delta{x_1} \\Delta{x_2} \\Delta{x_3} \\Delta{x_4}', cls=smp.Function)\n",
    "D_x1 = D_x1(t); D_x2 = D_x2(t); D_x3 = D_x3(t); D_x4 = D_x4(t) \n",
    "\n",
    "# kolejność zmiennych przyrostowych musi być taka sama jak kolejność symboli w punkcie pracy\n",
    "zmienne_przyrostowe = [D_the, D_Dx, D_Dthe, D_DDx, D_DDthe, D_u, D_D]"
   ]
  },
  {
   "cell_type": "code",
   "execution_count": 18,
   "id": "4c472d18-3405-459d-bd1b-2ac73684aed7",
   "metadata": {
    "tags": []
   },
   "outputs": [
    {
     "data": {
      "image/png": "[encoded data removed]",
      "text/latex": [
       "$\\displaystyle \\left[ \\Delta{\\theta}, \\  \\dot{\\Delta{x}}, \\  \\dot{\\Delta{\\theta}}, \\  \\ddot{\\Delta{x}}, \\  \\ddot{\\Delta{\\theta}}, \\  \\Delta{u}, \\  \\Delta{D}\\right]$"
      ],
      "text/plain": [
       "[\\Delta{\\theta}, \\Delṫa{x}, \\Delta{\\̇theta}, \\Delẗa{x}, \\Delta{\\̈theta}, \\De\n",
       "lta{u}, \\Delta{D}]"
      ]
     },
     "execution_count": 18,
     "metadata": {},
     "output_type": "execute_result"
    }
   ],
   "source": [
    "zmienne_przyrostowe"
   ]
  },
  {
   "cell_type": "markdown",
   "id": "19775388-b85c-49a7-8721-08edab2c6151",
   "metadata": {
    "tags": []
   },
   "source": [
    "## <b> 1. <u> Linearyzacja / tarcie LEPKIE / górne położenie (Sg)"
   ]
  },
  {
   "cell_type": "markdown",
   "id": "9a4f0cd9-1481-4ec1-bebb-555ec803c0b6",
   "metadata": {
    "tags": []
   },
   "source": [
    "### 1.1 model do linearyzacji"
   ]
  },
  {
   "cell_type": "code",
   "execution_count": 19,
   "id": "06458408-24b0-4897-8e06-90ffd6785fd7",
   "metadata": {
    "tags": []
   },
   "outputs": [
    {
     "data": {
      "image/png": "[encoded data removed]",
      "text/latex": [
       "$\\displaystyle \\left[\\begin{matrix}- D \\cos{\\left(\\theta \\right)} - L m_{r} \\sin{\\left(\\theta \\right)} \\dot{\\theta}^{2} + L m_{r} \\cos{\\left(\\theta \\right)} \\ddot{\\theta} + M_{t} \\ddot{x} + b \\dot{x} - u\\\\- D L_{c} + J_{t} \\ddot{\\theta} - L g m_{r} \\sin{\\left(\\theta \\right)} + L m_{r} \\cos{\\left(\\theta \\right)} \\ddot{x} + \\gamma \\dot{\\theta}\\end{matrix}\\right]$"
      ],
      "text/plain": [
       "⎡                         2                                 ⎤\n",
       "⎢-D⋅cos(θ) - L⋅mᵣ⋅sin(θ)⋅θ̇  + L⋅mᵣ⋅cos(θ)⋅θ̈ + Mₜ⋅ẍ + b⋅ẋ - u⎥\n",
       "⎢                                                           ⎥\n",
       "⎣    -D⋅L_c + Jₜ⋅θ̈ - L⋅g⋅mᵣ⋅sin(θ) + L⋅mᵣ⋅cos(θ)⋅ẍ + γ⋅θ̇    ⎦"
      ]
     },
     "execution_count": 19,
     "metadata": {},
     "output_type": "execute_result"
    }
   ],
   "source": [
    "# podstawienie tarcia, równania modelu do zlinearyzowania\n",
    "F_visc = F.subs(Ff, Ff_lepkie)\n",
    "F_visc"
   ]
  },
  {
   "cell_type": "code",
   "execution_count": 21,
   "id": "a47b37a7-ac93-43f8-9fba-27add4c9e5e5",
   "metadata": {
    "tags": []
   },
   "outputs": [],
   "source": [
    "# podstawienie parametrów do modelu\n",
    "if podstawic_parametry_czy_nie:\n",
    "    F_visc = F_visc.subs(dict(zip(params_visc, params_visc_values)))"
   ]
  },
  {
   "cell_type": "code",
   "execution_count": 22,
   "id": "de592174-2e1f-4083-a22b-7d2634f2e24e",
   "metadata": {
    "tags": []
   },
   "outputs": [
    {
     "data": {
      "image/png": "[encoded data removed]",
      "text/latex": [
       "$\\displaystyle \\left[\\begin{matrix}- D \\cos{\\left(\\theta \\right)} - L m_{r} \\sin{\\left(\\theta \\right)} \\dot{\\theta}^{2} + L m_{r} \\cos{\\left(\\theta \\right)} \\ddot{\\theta} + M_{t} \\ddot{x} + b \\dot{x} - u\\\\- D L_{c} + J_{t} \\ddot{\\theta} - L g m_{r} \\sin{\\left(\\theta \\right)} + L m_{r} \\cos{\\left(\\theta \\right)} \\ddot{x} + \\gamma \\dot{\\theta}\\end{matrix}\\right]$"
      ],
      "text/plain": [
       "⎡                         2                                 ⎤\n",
       "⎢-D⋅cos(θ) - L⋅mᵣ⋅sin(θ)⋅θ̇  + L⋅mᵣ⋅cos(θ)⋅θ̈ + Mₜ⋅ẍ + b⋅ẋ - u⎥\n",
       "⎢                                                           ⎥\n",
       "⎣    -D⋅L_c + Jₜ⋅θ̈ - L⋅g⋅mᵣ⋅sin(θ) + L⋅mᵣ⋅cos(θ)⋅ẍ + γ⋅θ̇    ⎦"
      ]
     },
     "execution_count": 22,
     "metadata": {},
     "output_type": "execute_result"
    }
   ],
   "source": [
    "# jezeli parametry zostały podstawione, jedyne symbole jakie powinny zostać\n",
    "# to symbole sygnałów \n",
    "F_visc"
   ]
  },
  {
   "cell_type": "markdown",
   "id": "1385ffd3-4eb3-4de9-a7ce-8c010fddb61e",
   "metadata": {
    "tags": []
   },
   "source": [
    "### 1.2 pochodne cząstkowe"
   ]
  },
  {
   "cell_type": "code",
   "execution_count": 37,
   "id": "05324d65-596d-4c9d-a307-96fab9f02c1d",
   "metadata": {
    "tags": []
   },
   "outputs": [],
   "source": [
    "# pochodne cząstkowe F\n",
    "dF_dthe   = F_visc.diff(the)\n",
    "dF_dDthe  = F_visc.diff(Dthe)\n",
    "df_dDDthe = F_visc.diff(DDthe)\n",
    "dF_dDx    = F_visc.diff(Dx)\n",
    "dF_dDDx   = F_visc.diff(DDx)\n",
    "dF_du     = F_visc.diff(u)\n",
    "dF_dD     = F_visc.diff(D)\n",
    "\n",
    "# kolejność taka jaką przyjąłem w oznaczeniu punktów pracy\n",
    "# żeby potem zrobić iloczny skalarny wektora pochodnych z wektorem punktu pracy \n",
    "# [𝜃, 𝑥˙, 𝜃˙, 𝑥¨, 𝜃¨, 𝑢, 𝐷]\n",
    "par_deriv = [dF_dthe, dF_dDx, dF_dDthe, dF_dDDx, df_dDDthe, dF_du, dF_dD]"
   ]
  },
  {
   "cell_type": "code",
   "execution_count": 38,
   "id": "7bd1080e-b292-49ea-98e0-2d2308af85ab",
   "metadata": {
    "tags": []
   },
   "outputs": [
    {
     "data": {
      "image/png": "[encoded data removed]",
      "text/latex": [
       "$\\displaystyle \\left[ \\left[\\begin{matrix}D \\sin{\\left(\\theta \\right)} - L m_{r} \\sin{\\left(\\theta \\right)} \\ddot{\\theta} - L m_{r} \\cos{\\left(\\theta \\right)} \\dot{\\theta}^{2}\\\\- L g m_{r} \\cos{\\left(\\theta \\right)} - L m_{r} \\sin{\\left(\\theta \\right)} \\ddot{x}\\end{matrix}\\right], \\  \\left[\\begin{matrix}b\\\\0\\end{matrix}\\right], \\  \\left[\\begin{matrix}- 2 L m_{r} \\sin{\\left(\\theta \\right)} \\dot{\\theta}\\\\\\gamma\\end{matrix}\\right], \\  \\left[\\begin{matrix}M_{t}\\\\L m_{r} \\cos{\\left(\\theta \\right)}\\end{matrix}\\right], \\  \\left[\\begin{matrix}L m_{r} \\cos{\\left(\\theta \\right)}\\\\J_{t}\\end{matrix}\\right], \\  \\left[\\begin{matrix}-1\\\\0\\end{matrix}\\right], \\  \\left[\\begin{matrix}- \\cos{\\left(\\theta \\right)}\\\\- L_{c}\\end{matrix}\\right]\\right]$"
      ],
      "text/plain": [
       "⎡⎡                                        2⎤                                  \n",
       "⎢⎢D⋅sin(θ) - L⋅mᵣ⋅sin(θ)⋅θ̈ - L⋅mᵣ⋅cos(θ)⋅θ̇ ⎥  ⎡b⎤  ⎡-2⋅L⋅mᵣ⋅sin(θ)⋅θ̇⎤  ⎡   \n",
       "⎢⎢                                         ⎥, ⎢ ⎥, ⎢                ⎥, ⎢      \n",
       "⎣⎣     -L⋅g⋅mᵣ⋅cos(θ) - L⋅mᵣ⋅sin(θ)⋅ẍ      ⎦  ⎣0⎦  ⎣       γ        ⎦  ⎣L⋅mᵣ⋅\n",
       "\n",
       "                                      ⎤\n",
       " Mₜ     ⎤  ⎡L⋅mᵣ⋅cos(θ)⎤  ⎡-1⎤  ⎡-cos(θ)⎤⎥\n",
       "     ⎥, ⎢           ⎥, ⎢  ⎥, ⎢       ⎥⎥\n",
       "cos(θ)⎦  ⎣    Jₜ     ⎦  ⎣0 ⎦  ⎣ -L_c  ⎦⎦"
      ]
     },
     "execution_count": 38,
     "metadata": {},
     "output_type": "execute_result"
    }
   ],
   "source": [
    "par_deriv"
   ]
  },
  {
   "cell_type": "code",
   "execution_count": 39,
   "id": "479793da-7bfa-4e45-9f72-9c43923636c9",
   "metadata": {
    "tags": []
   },
   "outputs": [],
   "source": [
    "'''\n",
    "żeby zamienić na raz wiele symboli trzeba te symbole razem z liczbami \n",
    "zamieścić w dict\n",
    "{symbol1: value1, symbol2: value2 ...}\n",
    "\n",
    "przykład: dict(zip(S0, [1, 2, 3, 4, 5, 6, 7]))\n",
    "'''\n",
    "symb_val_dict = dict(zip(S0, Sg))\n",
    "for i, deriv in enumerate(par_deriv):\n",
    "    par_deriv[i] = deriv.subs(symb_val_dict).doit()"
   ]
  },
  {
   "cell_type": "code",
   "execution_count": 40,
   "id": "2dbfac82-3256-4f42-8bac-c230b0adab8e",
   "metadata": {
    "tags": []
   },
   "outputs": [
    {
     "data": {
      "image/png": "[encoded data removed]",
      "text/latex": [
       "$\\displaystyle \\left[ \\left[\\begin{matrix}0\\\\- L g m_{r}\\end{matrix}\\right], \\  \\left[\\begin{matrix}b\\\\0\\end{matrix}\\right], \\  \\left[\\begin{matrix}0\\\\\\gamma\\end{matrix}\\right], \\  \\left[\\begin{matrix}M_{t}\\\\L m_{r}\\end{matrix}\\right], \\  \\left[\\begin{matrix}L m_{r}\\\\J_{t}\\end{matrix}\\right], \\  \\left[\\begin{matrix}-1\\\\0\\end{matrix}\\right], \\  \\left[\\begin{matrix}-1\\\\- L_{c}\\end{matrix}\\right]\\right]$"
      ],
      "text/plain": [
       "⎡⎡   0   ⎤  ⎡b⎤  ⎡0⎤  ⎡ Mₜ ⎤  ⎡L⋅mᵣ⎤  ⎡-1⎤  ⎡ -1 ⎤⎤\n",
       "⎢⎢       ⎥, ⎢ ⎥, ⎢ ⎥, ⎢    ⎥, ⎢    ⎥, ⎢  ⎥, ⎢    ⎥⎥\n",
       "⎣⎣-L⋅g⋅mᵣ⎦  ⎣0⎦  ⎣γ⎦  ⎣L⋅mᵣ⎦  ⎣ Jₜ ⎦  ⎣0 ⎦  ⎣-L_c⎦⎦"
      ]
     },
     "execution_count": 40,
     "metadata": {},
     "output_type": "execute_result"
    }
   ],
   "source": [
    "par_deriv"
   ]
  },
  {
   "cell_type": "code",
   "execution_count": 41,
   "id": "9830040f-8757-4f7b-862e-f99ef5d89a54",
   "metadata": {
    "tags": []
   },
   "outputs": [],
   "source": [
    "# LHS modelu zlinearyzowanego\n",
    "F_visc_lin = np.array(par_deriv).T @ np.array(zmienne_przyrostowe) "
   ]
  },
  {
   "cell_type": "markdown",
   "id": "de2e14d6-87fb-45fe-9256-68c8b6c05c14",
   "metadata": {
    "tags": []
   },
   "source": [
    "### 1.3 model"
   ]
  },
  {
   "cell_type": "code",
   "execution_count": 42,
   "id": "a26c9001-be35-480a-97f7-be35493c11c3",
   "metadata": {
    "tags": []
   },
   "outputs": [
    {
     "data": {
      "text/plain": [
       "'tarcie: lepkie'"
      ]
     },
     "metadata": {},
     "output_type": "display_data"
    },
    {
     "data": {
      "text/plain": [
       "'Sg = górne położenie'"
      ]
     },
     "metadata": {},
     "output_type": "display_data"
    },
    {
     "data": {
      "image/png": "[encoded data removed]",
      "text/latex": [
       "$\\displaystyle \\left[\\begin{matrix}L m_{r} \\ddot{\\Delta{\\theta}} + M_{t} \\ddot{\\Delta{x}} - \\Delta{D} - \\Delta{u} + b \\dot{\\Delta{x}}\\\\J_{t} \\ddot{\\Delta{\\theta}} - L g m_{r} \\Delta{\\theta} + L m_{r} \\ddot{\\Delta{x}} - L_{c} \\Delta{D} + \\gamma \\dot{\\Delta{\\theta}}\\end{matrix}\\right]$"
      ],
      "text/plain": [
       "⎡          L⋅mᵣ⋅\\Delta{\\̈theta} + Mₜ⋅\\Delẗa{x} - \\Delta{D} - \\Delta{u} + b⋅\\D\n",
       "⎢                                                                             \n",
       "⎣Jₜ⋅\\Delta{\\̈theta} - L⋅g⋅mᵣ⋅\\Delta{\\theta} + L⋅mᵣ⋅\\Delẗa{x} - L_c⋅\\Delta{D} \n",
       "\n",
       "elṫa{x}           ⎤\n",
       "                ⎥\n",
       "+ γ⋅\\Delta{\\̇theta}⎦"
      ]
     },
     "execution_count": 42,
     "metadata": {},
     "output_type": "execute_result"
    }
   ],
   "source": [
    "disp('tarcie: lepkie')\n",
    "disp('Sg = górne położenie')\n",
    "\n",
    "smp.Matrix([\n",
    "    F_visc_lin[0, 0],\n",
    "    F_visc_lin[0, 1]\n",
    "])"
   ]
  },
  {
   "cell_type": "markdown",
   "id": "8acceed3-4c4b-4ae0-8e71-6e4b5c5659d1",
   "metadata": {
    "tags": []
   },
   "source": [
    "### 1.4 model równania stanu"
   ]
  },
  {
   "cell_type": "code",
   "execution_count": 55,
   "id": "9576770f-3cd7-4283-82fa-02ac03c5cf9e",
   "metadata": {
    "tags": []
   },
   "outputs": [],
   "source": [
    "# te macierze są napisane w taki sposób\n",
    "# żebym nie musiał nic dodawać po zmianie parametrów modelu\n",
    "A = smp.Matrix([\n",
    "    [F_visc_lin[0, 0].coeff(D_DDthe), F_visc_lin[0, 0].coeff(D_DDx)],\n",
    "    [F_visc_lin[0, 1].coeff(D_DDthe), F_visc_lin[0, 1].coeff(D_DDx)]\n",
    "])\n",
    "\n",
    "B = smp.Matrix([\n",
    "    [D_DDthe],\n",
    "    [D_DDx]\n",
    "])\n",
    "C = smp.Matrix([\n",
    "    [F_visc_lin[0, 0].coeff(D_Dx)*D_Dx + F_visc_lin[0, 0].coeff(D_D)*D_D + F_visc_lin[0, 0].coeff(D_u)*D_u],\n",
    "    [F_visc_lin[0, 1].coeff(D_Dthe)*D_Dthe + F_visc_lin[0, 1].coeff(D_the)*D_the + F_visc_lin[0, 1].coeff(D_D)*D_D]\n",
    "])"
   ]
  },
  {
   "cell_type": "code",
   "execution_count": 56,
   "id": "74bf964b-4d84-4002-bbbb-3d52157591fb",
   "metadata": {
    "tags": []
   },
   "outputs": [
    {
     "data": {
      "text/plain": [
       "'A*B + C powinno być takie samo jak model wyżej (1.3 model)'"
      ]
     },
     "metadata": {},
     "output_type": "display_data"
    },
    {
     "data": {
      "image/png": "[encoded data removed]",
      "text/latex": [
       "$\\displaystyle \\left[\\begin{matrix}L m_{r} \\ddot{\\Delta{\\theta}} + M_{t} \\ddot{\\Delta{x}} - \\Delta{D} - \\Delta{u} + b \\dot{\\Delta{x}}\\\\J_{t} \\ddot{\\Delta{\\theta}} - L g m_{r} \\Delta{\\theta} + L m_{r} \\ddot{\\Delta{x}} - L_{c} \\Delta{D} + \\gamma \\dot{\\Delta{\\theta}}\\end{matrix}\\right]$"
      ],
      "text/plain": [
       "⎡          L⋅mᵣ⋅\\Delta{\\̈theta} + Mₜ⋅\\Delẗa{x} - \\Delta{D} - \\Delta{u} + b⋅\\D\n",
       "⎢                                                                             \n",
       "⎣Jₜ⋅\\Delta{\\̈theta} - L⋅g⋅mᵣ⋅\\Delta{\\theta} + L⋅mᵣ⋅\\Delẗa{x} - L_c⋅\\Delta{D} \n",
       "\n",
       "elṫa{x}           ⎤\n",
       "                ⎥\n",
       "+ γ⋅\\Delta{\\̇theta}⎦"
      ]
     },
     "execution_count": 56,
     "metadata": {},
     "output_type": "execute_result"
    }
   ],
   "source": [
    "disp('A*B + C powinno być takie samo jak model wyżej (1.3 model)')\n",
    "A@B+C"
   ]
  },
  {
   "cell_type": "code",
   "execution_count": 57,
   "id": "e11b9c14-ddc1-4125-8e28-f89fba66ef45",
   "metadata": {
    "tags": []
   },
   "outputs": [],
   "source": [
    "D_DDx_ss, D_DDthe_ss = A.inv()*C * (-1)"
   ]
  },
  {
   "cell_type": "code",
   "execution_count": 60,
   "id": "fd26d719-0056-46e2-8f59-33d2b0abec31",
   "metadata": {
    "tags": []
   },
   "outputs": [
    {
     "data": {
      "text/plain": [
       "'tarcie: lepkie'"
      ]
     },
     "metadata": {},
     "output_type": "display_data"
    },
    {
     "data": {
      "text/plain": [
       "'Sg = górne położenie'"
      ]
     },
     "metadata": {},
     "output_type": "display_data"
    },
    {
     "data": {
      "text/plain": [
       "'State vector.'"
      ]
     },
     "metadata": {},
     "output_type": "display_data"
    },
    {
     "data": {
      "image/png": "[encoded data removed]",
      "text/latex": [
       "$\\displaystyle \\left[\\begin{matrix}\\Delta{x_1} & \\Delta{x_2} & \\Delta{x_3} & \\Delta{x_4}\\end{matrix}\\right] = \\left[\\begin{matrix}\\Delta{x} & \\Delta{\\theta} & \\dot{\\Delta{x}} & \\dot{\\Delta{\\theta}}\\end{matrix}\\right]$"
      ],
      "text/plain": [
       "[\\Delta{x_1}  \\Delta{x_2}  \\Delta{x_3}  \\Delta{x_4}] = [\\Delta{x}  \\Delta{\\the\n",
       "ta}  \\Delṫa{x}  \\Delta{\\̇theta}]"
      ]
     },
     "metadata": {},
     "output_type": "display_data"
    },
    {
     "data": {
      "text/plain": [
       "'State equations'"
      ]
     },
     "metadata": {},
     "output_type": "display_data"
    },
    {
     "data": {
      "image/png": "[encoded data removed]",
      "text/latex": [
       "$\\displaystyle \\left[\\begin{matrix}\\dot{\\Delta{x}}\\\\\\dot{\\Delta{\\theta}}\\\\\\ddot{\\Delta{x}}\\\\\\ddot{\\Delta{\\theta}}\\end{matrix}\\right] = \\left[\\begin{matrix}\\dot{\\Delta{x}}\\\\\\dot{\\Delta{\\theta}}\\\\\\frac{L m_{r} \\left(- \\Delta{D} - \\Delta{u} + b \\dot{\\Delta{x}}\\right)}{J_{t} M_{t} - L^{2} m_{r}^{2}} - \\frac{M_{t} \\left(- L g m_{r} \\Delta{\\theta} - L_{c} \\Delta{D} + \\gamma \\dot{\\Delta{\\theta}}\\right)}{J_{t} M_{t} - L^{2} m_{r}^{2}}\\\\- \\frac{J_{t} \\left(- \\Delta{D} - \\Delta{u} + b \\dot{\\Delta{x}}\\right)}{J_{t} M_{t} - L^{2} m_{r}^{2}} + \\frac{L m_{r} \\left(- L g m_{r} \\Delta{\\theta} - L_{c} \\Delta{D} + \\gamma \\dot{\\Delta{\\theta}}\\right)}{J_{t} M_{t} - L^{2} m_{r}^{2}}\\end{matrix}\\right]$"
      ],
      "text/plain": [
       "                   ⎡                                                  \\Delṫa{\n",
       "                   ⎢                                                          \n",
       "                   ⎢                                                \\Delta{\\̇t\n",
       "⎡  \\Delṫa{x}   ⎤   ⎢                                                         \n",
       "⎢              ⎥   ⎢ L⋅mᵣ⋅(-\\Delta{D} - \\Delta{u} + b⋅\\Delṫa{x})   Mₜ⋅(-L⋅g⋅m\n",
       "⎢\\Delta{\\̇theta}⎥   ⎢ ─────────────────────────────────────────── - ──────────\n",
       "⎢              ⎥ = ⎢                         2   2                            \n",
       "⎢  \\Delẗa{x}   ⎥   ⎢                Jₜ⋅Mₜ - L ⋅mᵣ                            \n",
       "⎢              ⎥   ⎢                                                          \n",
       "⎣\\Delta{\\̈theta}⎦   ⎢  Jₜ⋅(-\\Delta{D} - \\Delta{u} + b⋅\\Delṫa{x})   L⋅mᵣ⋅(-L⋅g\n",
       "                   ⎢- ───────────────────────────────────────── + ────────────\n",
       "                   ⎢                         2   2                            \n",
       "                   ⎣                Jₜ⋅Mₜ - L ⋅mᵣ                             \n",
       "\n",
       "x}                                                   ⎤\n",
       "                                                    ⎥\n",
       "heta}                                                ⎥\n",
       "                                                     ⎥\n",
       "ᵣ⋅\\Delta{\\theta} - L_c⋅\\Delta{D} + γ⋅\\Delta{\\̇theta}) ⎥\n",
       "──────────────────────────────────────────────────── ⎥\n",
       "                      2   2                         ⎥\n",
       "              Jₜ⋅Mₜ - L ⋅mᵣ                          ⎥\n",
       "                                                    ⎥\n",
       "⋅mᵣ⋅\\Delta{\\theta} - L_c⋅\\Delta{D} + γ⋅\\Delta{\\̇theta})⎥\n",
       "────────────────────────────────────────────────────⎥\n",
       "                      2   2                         ⎥\n",
       "             Jₜ⋅Mₜ - L ⋅mᵣ                          ⎦"
      ]
     },
     "metadata": {},
     "output_type": "display_data"
    },
    {
     "name": "stdout",
     "output_type": "stream",
     "text": [
      "state_equations w x-ach\n"
     ]
    },
    {
     "data": {
      "image/png": "[encoded data removed]",
      "text/latex": [
       "$\\displaystyle \\left[\\begin{matrix}\\dot{\\Delta{x}_1}\\\\\\dot{\\Delta{x}_2}\\\\\\dot{\\Delta{x}_3}\\\\\\dot{\\Delta{x}_4}\\end{matrix}\\right] = \\left[\\begin{matrix}\\Delta{x_3}\\\\\\Delta{x_4}\\\\\\frac{L m_{r} \\left(- \\Delta{D} - \\Delta{u} + b \\Delta{x_3}\\right)}{J_{t} M_{t} - L^{2} m_{r}^{2}} - \\frac{M_{t} \\left(- L g m_{r} \\Delta{x_2} - L_{c} \\Delta{D} + \\gamma \\Delta{x_4}\\right)}{J_{t} M_{t} - L^{2} m_{r}^{2}}\\\\- \\frac{J_{t} \\left(- \\Delta{D} - \\Delta{u} + b \\Delta{x_3}\\right)}{J_{t} M_{t} - L^{2} m_{r}^{2}} + \\frac{L m_{r} \\left(- L g m_{r} \\Delta{x_2} - L_{c} \\Delta{D} + \\gamma \\Delta{x_4}\\right)}{J_{t} M_{t} - L^{2} m_{r}^{2}}\\end{matrix}\\right]$"
      ],
      "text/plain": [
       "                ⎡                                               \\Delta{x_3}   \n",
       "                ⎢                                                             \n",
       "                ⎢                                               \\Delta{x_4}   \n",
       "⎡\\Deltȧ{x_1}⎤   ⎢                                                            \n",
       "⎢           ⎥   ⎢ L⋅mᵣ⋅(-\\Delta{D} - \\Delta{u} + b⋅\\Delta{x_3})   Mₜ⋅(-L⋅g⋅mᵣ⋅\n",
       "⎢\\Deltȧ{x_2}⎥   ⎢ ───────────────────────────────────────────── - ───────────\n",
       "⎢           ⎥ = ⎢                          2   2                              \n",
       "⎢\\Deltȧ{x_3}⎥   ⎢                 Jₜ⋅Mₜ - L ⋅mᵣ                              \n",
       "⎢           ⎥   ⎢                                                             \n",
       "⎣\\Deltȧ{x_4}⎦   ⎢  Jₜ⋅(-\\Delta{D} - \\Delta{u} + b⋅\\Delta{x_3})   L⋅mᵣ⋅(-L⋅g⋅m\n",
       "                ⎢- ─────────────────────────────────────────── + ─────────────\n",
       "                ⎢                          2   2                              \n",
       "                ⎣                 Jₜ⋅Mₜ - L ⋅mᵣ                               \n",
       "\n",
       "                                             ⎤\n",
       "                                             ⎥\n",
       "                                             ⎥\n",
       "                                              ⎥\n",
       "\\Delta{x_2} - L_c⋅\\Delta{D} + γ⋅\\Delta{x_4}) ⎥\n",
       "───────────────────────────────────────────── ⎥\n",
       "                  2   2                      ⎥\n",
       "          Jₜ⋅Mₜ - L ⋅mᵣ                       ⎥\n",
       "                                             ⎥\n",
       "ᵣ⋅\\Delta{x_2} - L_c⋅\\Delta{D} + γ⋅\\Delta{x_4})⎥\n",
       "─────────────────────────────────────────────⎥\n",
       "                  2   2                      ⎥\n",
       "         Jₜ⋅Mₜ - L ⋅mᵣ                       ⎦"
      ]
     },
     "metadata": {},
     "output_type": "display_data"
    }
   ],
   "source": [
    "# state vector, x1 x2 x3 x4\n",
    "state_vec = smp.Matrix([ [D_x1], [D_x2], [D_x3], [D_x4] ])\n",
    "\n",
    "# state vector, x theta ...\n",
    "state_vec_noraml = smp.Matrix([\n",
    "    [D_x],\n",
    "    [D_the],\n",
    "    [D_Dx],\n",
    "    [D_Dthe]\n",
    "])\n",
    "\n",
    "disp('tarcie: lepkie')\n",
    "disp('Sg = górne położenie')\n",
    "disp('State vector.')\n",
    "disp( smp.Eq( state_vec.T, state_vec_noraml.T ) )\n",
    "\n",
    "state_vec_diff = state_vec.diff(t)\n",
    "state_vec_noraml_diff = state_vec_noraml.diff(t)\n",
    "\n",
    "state_equations_normal = smp.Matrix([\n",
    "    [D_Dx],\n",
    "    [D_Dthe],\n",
    "    [D_DDx_ss],\n",
    "    [D_DDthe_ss]\n",
    "])\n",
    "\n",
    "disp('State equations')\n",
    "disp(\n",
    "    smp.Eq(\n",
    "        state_vec_noraml_diff,\n",
    "        state_equations_normal\n",
    "    )\n",
    ")\n",
    "\n",
    "state_equations = state_equations_normal.subs([(D_Dx, D_x3),\n",
    "                                               (D_Dthe, D_x4),\n",
    "                                               (D_x, D_x1),\n",
    "                                               (D_the, D_x2)])\n",
    "print('state_equations w x-ach')\n",
    "disp(\n",
    "    smp.Eq(\n",
    "        state_vec.diff(t),\n",
    "        state_equations\n",
    "    )\n",
    ")"
   ]
  },
  {
   "cell_type": "code",
   "execution_count": 62,
   "id": "cd30faea-bbbe-43b8-844f-170c6f33e44b",
   "metadata": {
    "tags": []
   },
   "outputs": [
    {
     "data": {
      "text/latex": [
       "$\\dot{\\boldsymbol{x}} = A\\boldsymbol{x} + Bu + HD$"
      ],
      "text/plain": [
       "<IPython.core.display.Latex object>"
      ]
     },
     "execution_count": 62,
     "metadata": {},
     "output_type": "execute_result"
    }
   ],
   "source": [
    "dispLtx(r'$\\dot{\\boldsymbol{x}} = A\\boldsymbol{x} + Bu + HD$')"
   ]
  },
  {
   "cell_type": "code",
   "execution_count": 85,
   "id": "cd140043-c237-4811-91b3-145b48233842",
   "metadata": {
    "tags": []
   },
   "outputs": [],
   "source": [
    "# zamiana równań stanu na wielomiany (sympy.Poly) żeby można było wyciągnąć \n",
    "# symboliczne współczynniki\n",
    "state_equations = [smp.Poly(state_eq, [D_x1, D_x2, D_x3, D_x4, D_D, D_u]).as_expr() for state_eq in state_equations]"
   ]
  },
  {
   "cell_type": "code",
   "execution_count": 86,
   "id": "c156c6cd-357f-44c8-95d2-b537f55f45f3",
   "metadata": {
    "jupyter": {
     "source_hidden": true
    },
    "tags": []
   },
   "outputs": [
    {
     "data": {
      "text/plain": [
       "'A:'"
      ]
     },
     "metadata": {},
     "output_type": "display_data"
    },
    {
     "data": {
      "image/png": "[encoded data removed]",
      "text/latex": [
       "$\\displaystyle \\left[\\begin{matrix}0 & 0 & 1 & 0\\\\0 & 0 & 0 & 1\\\\0 & \\frac{L M_{t} g m_{r}}{J_{t} M_{t} - L^{2} m_{r}^{2}} & \\frac{L b m_{r}}{J_{t} M_{t} - L^{2} m_{r}^{2}} & - \\frac{M_{t} \\gamma}{J_{t} M_{t} - L^{2} m_{r}^{2}}\\\\0 & - \\frac{L^{2} g m_{r}^{2}}{J_{t} M_{t} - L^{2} m_{r}^{2}} & - \\frac{J_{t} b}{J_{t} M_{t} - L^{2} m_{r}^{2}} & \\frac{L \\gamma m_{r}}{J_{t} M_{t} - L^{2} m_{r}^{2}}\\end{matrix}\\right]$"
      ],
      "text/plain": [
       "⎡0        0               1               0       ⎤\n",
       "⎢                                                 ⎥\n",
       "⎢0        0               0               1       ⎥\n",
       "⎢                                                 ⎥\n",
       "⎢     L⋅Mₜ⋅g⋅mᵣ         L⋅b⋅mᵣ          -Mₜ⋅γ     ⎥\n",
       "⎢0  ──────────────  ──────────────  ──────────────⎥\n",
       "⎢            2   2           2   2           2   2⎥\n",
       "⎢   Jₜ⋅Mₜ - L ⋅mᵣ   Jₜ⋅Mₜ - L ⋅mᵣ   Jₜ⋅Mₜ - L ⋅mᵣ ⎥\n",
       "⎢                                                 ⎥\n",
       "⎢       2     2                                   ⎥\n",
       "⎢     -L ⋅g⋅mᵣ          -Jₜ⋅b           L⋅γ⋅mᵣ    ⎥\n",
       "⎢0  ──────────────  ──────────────  ──────────────⎥\n",
       "⎢            2   2           2   2           2   2⎥\n",
       "⎣   Jₜ⋅Mₜ - L ⋅mᵣ   Jₜ⋅Mₜ - L ⋅mᵣ   Jₜ⋅Mₜ - L ⋅mᵣ ⎦"
      ]
     },
     "metadata": {},
     "output_type": "display_data"
    },
    {
     "data": {
      "text/plain": [
       "'B:'"
      ]
     },
     "metadata": {},
     "output_type": "display_data"
    },
    {
     "data": {
      "image/png": "[encoded data removed]",
      "text/latex": [
       "$\\displaystyle \\left[\\begin{matrix}0\\\\0\\\\- \\frac{L m_{r}}{J_{t} M_{t} - L^{2} m_{r}^{2}}\\\\\\frac{J_{t}}{J_{t} M_{t} - L^{2} m_{r}^{2}}\\end{matrix}\\right]$"
      ],
      "text/plain": [
       "⎡      0       ⎤\n",
       "⎢              ⎥\n",
       "⎢      0       ⎥\n",
       "⎢              ⎥\n",
       "⎢    -L⋅mᵣ     ⎥\n",
       "⎢──────────────⎥\n",
       "⎢         2   2⎥\n",
       "⎢Jₜ⋅Mₜ - L ⋅mᵣ ⎥\n",
       "⎢              ⎥\n",
       "⎢      Jₜ      ⎥\n",
       "⎢──────────────⎥\n",
       "⎢         2   2⎥\n",
       "⎣Jₜ⋅Mₜ - L ⋅mᵣ ⎦"
      ]
     },
     "metadata": {},
     "output_type": "display_data"
    },
    {
     "data": {
      "text/plain": [
       "'H:'"
      ]
     },
     "metadata": {},
     "output_type": "display_data"
    },
    {
     "data": {
      "image/png": "[encoded data removed]",
      "text/latex": [
       "$\\displaystyle \\left[\\begin{matrix}0\\\\0\\\\\\frac{- L m_{r} + L_{c} M_{t}}{J_{t} M_{t} - L^{2} m_{r}^{2}}\\\\\\frac{J_{t} - L L_{c} m_{r}}{J_{t} M_{t} - L^{2} m_{r}^{2}}\\end{matrix}\\right]$"
      ],
      "text/plain": [
       "⎡      0       ⎤\n",
       "⎢              ⎥\n",
       "⎢      0       ⎥\n",
       "⎢              ⎥\n",
       "⎢-L⋅mᵣ + L_c⋅Mₜ⎥\n",
       "⎢──────────────⎥\n",
       "⎢         2   2⎥\n",
       "⎢Jₜ⋅Mₜ - L ⋅mᵣ ⎥\n",
       "⎢              ⎥\n",
       "⎢Jₜ - L⋅L_c⋅mᵣ ⎥\n",
       "⎢──────────────⎥\n",
       "⎢         2   2⎥\n",
       "⎣Jₜ⋅Mₜ - L ⋅mᵣ ⎦"
      ]
     },
     "metadata": {},
     "output_type": "display_data"
    }
   ],
   "source": [
    "# równania zapisane w postaci wektorowo-macierzowej\n",
    "# x_dot = Ax + Bu + HD\n",
    "# macierz mnożąca wektor stanu\n",
    "A = smp.Matrix([\n",
    "    [ state_equations[0].coeff(D_x1), state_equations[0].coeff(D_x2), state_equations[0].coeff(D_x3), state_equations[0].coeff(D_x4) ],\n",
    "    [ state_equations[1].coeff(D_x1), state_equations[1].coeff(D_x2), state_equations[1].coeff(D_x3), state_equations[1].coeff(D_x4) ],\n",
    "    [ state_equations[2].coeff(D_x1), state_equations[2].coeff(D_x2), state_equations[2].coeff(D_x3), state_equations[2].coeff(D_x4) ],\n",
    "    [ state_equations[3].coeff(D_x1), state_equations[3].coeff(D_x2), state_equations[3].coeff(D_x3), state_equations[3].coeff(D_x4) ]\n",
    "])\n",
    "# dispLtx(r'$\\dot{\\boldsymbol{x}} = A\\boldsymbol{x} + Bu + HD$')\n",
    "disp('A:')\n",
    "disp(A)\n",
    "# macierz mnożąca wymuszenie\n",
    "B = smp.Matrix([\n",
    "    [0],\n",
    "    [0],\n",
    "    [state_equations[2].coeff(D_u)],\n",
    "    [state_equations[3].coeff(D_u)]\n",
    "])\n",
    "disp('B:')\n",
    "disp(B)\n",
    "# macierz mnożąca sygnał zakłuceń\n",
    "H = smp.Matrix([\n",
    "    [0],\n",
    "    [0],\n",
    "    [state_equations[2].coeff(D_D)],\n",
    "    [state_equations[3].coeff(D_D)]\n",
    "]) \n",
    "disp('H:')\n",
    "disp(H)"
   ]
  },
  {
   "cell_type": "markdown",
   "id": "1210690d-cd9b-4ef7-9af3-f9289880c729",
   "metadata": {
    "tags": []
   },
   "source": [
    "# <b> zmienić * na @ "
   ]
  },
  {
   "cell_type": "markdown",
   "id": "fc1e8892-775e-4529-b3f9-381d08158cfc",
   "metadata": {
    "jp-MarkdownHeadingCollapsed": true,
    "tags": []
   },
   "source": [
    "## <b> 2. <u> Linearyzacja / tarcie LEPKIE / dolne położenie (Sd)"
   ]
  },
  {
   "cell_type": "markdown",
   "id": "abf704d1-0138-426e-b550-e3aba50ff867",
   "metadata": {
    "jp-MarkdownHeadingCollapsed": true,
    "tags": []
   },
   "source": [
    "### 2.1 model"
   ]
  },
  {
   "cell_type": "code",
   "execution_count": 29,
   "id": "8fca5bd9-38bb-4f63-85df-c3ab31147063",
   "metadata": {
    "jupyter": {
     "source_hidden": true
    },
    "tags": []
   },
   "outputs": [
    {
     "data": {
      "text/plain": [
       "'tarcie: lepkie'"
      ]
     },
     "metadata": {},
     "output_type": "display_data"
    },
    {
     "data": {
      "text/plain": [
       "'Sd = dolne położenie'"
      ]
     },
     "metadata": {},
     "output_type": "display_data"
    },
    {
     "data": {
      "image/png": "[encoded data removed]",
      "text/latex": [
       "$\\displaystyle \\left[\\begin{matrix}- 1.0 L m_{r} \\ddot{\\Delta{\\theta}} + M_{t} \\ddot{\\Delta{x}} + 1.0 \\Delta{D} - \\Delta{u} + b \\dot{\\Delta{x}}\\\\J_{t} \\ddot{\\Delta{\\theta}} + 1.0 L g m_{r} \\Delta{\\theta} - 1.0 L m_{r} \\ddot{\\Delta{x}} - L_{c} \\Delta{D} + \\gamma \\dot{\\Delta{\\theta}}\\end{matrix}\\right]$"
      ],
      "text/plain": [
       "⎡          -L⋅mᵣ⋅\\Delta{\\̈theta} + Mₜ⋅\\Delẗa{x} + 1.0⋅\\Delta{D} - \\Delta{u} +\n",
       "⎢                                                                             \n",
       "⎣Jₜ⋅\\Delta{\\̈theta} + 1.0⋅L⋅g⋅mᵣ⋅\\Delta{\\theta} - L⋅mᵣ⋅\\Delẗa{x} - L_c⋅\\Delta\n",
       "\n",
       " b⋅\\Delṫa{x}          ⎤\n",
       "                    ⎥\n",
       "{D} + γ⋅\\Delta{\\̇theta}⎦"
      ]
     },
     "execution_count": 29,
     "metadata": {},
     "output_type": "execute_result"
    }
   ],
   "source": [
    "par_deriv = [dF_dthe, dF_dDx, dF_dDthe, dF_dDDx, df_dDDthe, dF_du, dF_dD]\n",
    "symb_val_dict = dict(zip(S0, Sd))\n",
    "for i, deriv in enumerate(par_deriv):\n",
    "    par_deriv[i] = deriv.subs(symb_val_dict).doit()\n",
    "F_visc_lin = np.array(par_deriv).T @ np.array(zmienne_przyrostowe) \n",
    "disp('tarcie: lepkie')\n",
    "disp('Sd = dolne położenie')\n",
    "smp.Matrix([\n",
    "    F_visc_lin[0, 0],\n",
    "    F_visc_lin[0, 1]\n",
    "])"
   ]
  },
  {
   "cell_type": "markdown",
   "id": "2b366127-ffb3-4e1f-9e45-05bb27ddee91",
   "metadata": {
    "tags": []
   },
   "source": [
    "### 2.2 model równania stanu"
   ]
  },
  {
   "cell_type": "code",
   "execution_count": 30,
   "id": "82c50288-a3aa-4309-b172-8ae40ca4086f",
   "metadata": {
    "jupyter": {
     "source_hidden": true
    },
    "tags": []
   },
   "outputs": [],
   "source": [
    "# te macierze napisane w taki sposób\n",
    "# żebym nie musiał nic dodawać po zmianie parametrów modelu\n",
    "A = smp.Matrix([\n",
    "    [F_visc_lin[0, 0].coeff(D_DDthe), F_visc_lin[0, 0].coeff(D_DDx)],\n",
    "    [F_visc_lin[0, 1].coeff(D_DDthe), F_visc_lin[0, 1].coeff(D_DDx)]\n",
    "])\n",
    "\n",
    "B = smp.Matrix([\n",
    "    [D_DDthe],\n",
    "    [D_DDx]\n",
    "])\n",
    "C = smp.Matrix([\n",
    "    [F_visc_lin[0, 0].coeff(D_Dx)*D_Dx + F_visc_lin[0, 0].coeff(D_D)*D_D + F_visc_lin[0, 0].coeff(D_u)*D_u],\n",
    "    [F_visc_lin[0, 1].coeff(D_Dthe)*D_Dthe + F_visc_lin[0, 1].coeff(D_the)*D_the + F_visc_lin[0, 1].coeff(D_D)*D_D]\n",
    "])"
   ]
  },
  {
   "cell_type": "code",
   "execution_count": 31,
   "id": "4d3e736f-1880-4778-90ef-323f73ff460f",
   "metadata": {
    "jupyter": {
     "source_hidden": true
    },
    "tags": []
   },
   "outputs": [
    {
     "data": {
      "text/plain": [
       "'A*B + C powinno być takie samo jak model wyżej'"
      ]
     },
     "metadata": {},
     "output_type": "display_data"
    },
    {
     "data": {
      "image/png": "[encoded data removed]",
      "text/latex": [
       "$\\displaystyle \\left[\\begin{matrix}- 1.0 L m_{r} \\ddot{\\Delta{\\theta}} + M_{t} \\ddot{\\Delta{x}} + 1.0 \\Delta{D} - \\Delta{u} + b \\dot{\\Delta{x}}\\\\J_{t} \\ddot{\\Delta{\\theta}} + 1.0 L g m_{r} \\Delta{\\theta} - 1.0 L m_{r} \\ddot{\\Delta{x}} - L_{c} \\Delta{D} + \\gamma \\dot{\\Delta{\\theta}}\\end{matrix}\\right]$"
      ],
      "text/plain": [
       "⎡          -L⋅mᵣ⋅\\Delta{\\̈theta} + Mₜ⋅\\Delẗa{x} + 1.0⋅\\Delta{D} - \\Delta{u} +\n",
       "⎢                                                                             \n",
       "⎣Jₜ⋅\\Delta{\\̈theta} + 1.0⋅L⋅g⋅mᵣ⋅\\Delta{\\theta} - L⋅mᵣ⋅\\Delẗa{x} - L_c⋅\\Delta\n",
       "\n",
       " b⋅\\Delṫa{x}          ⎤\n",
       "                    ⎥\n",
       "{D} + γ⋅\\Delta{\\̇theta}⎦"
      ]
     },
     "execution_count": 31,
     "metadata": {},
     "output_type": "execute_result"
    }
   ],
   "source": [
    "disp('A*B + C powinno być takie samo jak model wyżej')\n",
    "A*B+C"
   ]
  },
  {
   "cell_type": "code",
   "execution_count": 32,
   "id": "1074ba7b-b3de-4307-a542-87f2ce743f1b",
   "metadata": {
    "jupyter": {
     "source_hidden": true
    },
    "tags": []
   },
   "outputs": [],
   "source": [
    "D_DDx_ss, D_DDthe_ss = -A.inv()*C"
   ]
  },
  {
   "cell_type": "code",
   "execution_count": 33,
   "id": "c7246ec4-bf74-4947-b939-5bb251ce374f",
   "metadata": {
    "jupyter": {
     "source_hidden": true
    },
    "tags": []
   },
   "outputs": [
    {
     "data": {
      "text/plain": [
       "'tarcie: lepkie'"
      ]
     },
     "metadata": {},
     "output_type": "display_data"
    },
    {
     "data": {
      "text/plain": [
       "'Sd = dolne położenie'"
      ]
     },
     "metadata": {},
     "output_type": "display_data"
    },
    {
     "data": {
      "text/plain": [
       "'State vector.'"
      ]
     },
     "metadata": {},
     "output_type": "display_data"
    },
    {
     "data": {
      "image/png": "[encoded data removed]",
      "text/latex": [
       "$\\displaystyle \\left[\\begin{matrix}\\Delta{x_1} & \\Delta{x_2} & \\Delta{x_3} & \\Delta{x_4}\\end{matrix}\\right] = \\left[\\begin{matrix}\\Delta{x} & \\Delta{\\theta} & \\dot{\\Delta{x}} & \\dot{\\Delta{\\theta}}\\end{matrix}\\right]$"
      ],
      "text/plain": [
       "[\\Delta{x_1}  \\Delta{x_2}  \\Delta{x_3}  \\Delta{x_4}] = [\\Delta{x}  \\Delta{\\the\n",
       "ta}  \\Delṫa{x}  \\Delta{\\̇theta}]"
      ]
     },
     "metadata": {},
     "output_type": "display_data"
    },
    {
     "data": {
      "text/plain": [
       "'State equations'"
      ]
     },
     "metadata": {},
     "output_type": "display_data"
    },
    {
     "data": {
      "image/png": "[encoded data removed]",
      "text/latex": [
       "$\\displaystyle \\left[\\begin{matrix}\\dot{\\Delta{x}}\\\\\\dot{\\Delta{\\theta}}\\\\\\ddot{\\Delta{x}}\\\\\\ddot{\\Delta{\\theta}}\\end{matrix}\\right] = \\left[\\begin{matrix}\\dot{\\Delta{x}}\\\\\\dot{\\Delta{\\theta}}\\\\- \\frac{1.0 L m_{r} \\left(1.0 \\Delta{D} - \\Delta{u} + b \\dot{\\Delta{x}}\\right)}{1.0 J_{t} M_{t} - 1.0 L^{2} m_{r}^{2}} - \\frac{1.0 M_{t} \\left(1.0 L g m_{r} \\Delta{\\theta} - L_{c} \\Delta{D} + \\gamma \\dot{\\Delta{\\theta}}\\right)}{1.0 J_{t} M_{t} - 1.0 L^{2} m_{r}^{2}}\\\\- \\frac{1.0 J_{t} \\left(1.0 \\Delta{D} - \\Delta{u} + b \\dot{\\Delta{x}}\\right)}{1.0 J_{t} M_{t} - 1.0 L^{2} m_{r}^{2}} - \\frac{1.0 L m_{r} \\left(1.0 L g m_{r} \\Delta{\\theta} - L_{c} \\Delta{D} + \\gamma \\dot{\\Delta{\\theta}}\\right)}{1.0 J_{t} M_{t} - 1.0 L^{2} m_{r}^{2}}\\end{matrix}\\right]$"
      ],
      "text/plain": [
       "                   ⎡                                                     \\Delt\n",
       "                   ⎢                                                          \n",
       "                   ⎢                                                   \\Delta{\n",
       "⎡  \\Delṫa{x}   ⎤   ⎢                                                         \n",
       "⎢              ⎥   ⎢  L⋅mᵣ⋅(1.0⋅\\Delta{D} - \\Delta{u} + b⋅\\Delṫa{x})   Mₜ⋅(1.\n",
       "⎢\\Delta{\\̇theta}⎥   ⎢- ────────────────────────────────────────────── - ──────\n",
       "⎢              ⎥ = ⎢                             2   2                        \n",
       "⎢  \\Delẗa{x}   ⎥   ⎢                1.0⋅Jₜ⋅Mₜ - L ⋅mᵣ                        \n",
       "⎢              ⎥   ⎢                                                          \n",
       "⎣\\Delta{\\̈theta}⎦   ⎢  Jₜ⋅(1.0⋅\\Delta{D} - \\Delta{u} + b⋅\\Delṫa{x})   L⋅mᵣ⋅(1\n",
       "                   ⎢- ──────────────────────────────────────────── - ─────────\n",
       "                   ⎢                            2   2                         \n",
       "                   ⎣               1.0⋅Jₜ⋅Mₜ - L ⋅mᵣ                          \n",
       "\n",
       "̇a{x}                                                      ⎤\n",
       "                                                          ⎥\n",
       "\\̇theta}                                                   ⎥\n",
       "                                                           ⎥\n",
       "0⋅L⋅g⋅mᵣ⋅\\Delta{\\theta} - L_c⋅\\Delta{D} + γ⋅\\Delta{\\̇theta})⎥\n",
       "───────────────────────────────────────────────────────────⎥\n",
       "                              2   2                       ⎥\n",
       "                  1.0⋅Jₜ⋅Mₜ - L ⋅mᵣ                        ⎥\n",
       "                                                          ⎥\n",
       ".0⋅L⋅g⋅mᵣ⋅\\Delta{\\theta} - L_c⋅\\Delta{D} + γ⋅\\Delta{\\̇theta})⎥\n",
       "──────────────────────────────────────────────────────────⎥\n",
       "                             2   2                        ⎥\n",
       "                1.0⋅Jₜ⋅Mₜ - L ⋅mᵣ                         ⎦"
      ]
     },
     "metadata": {},
     "output_type": "display_data"
    },
    {
     "name": "stdout",
     "output_type": "stream",
     "text": [
      "state_equations w x-ach\n"
     ]
    },
    {
     "data": {
      "image/png": "[encoded data removed]",
      "text/latex": [
       "$\\displaystyle \\left[\\begin{matrix}\\dot{\\Delta{x}_1}\\\\\\dot{\\Delta{x}_2}\\\\\\dot{\\Delta{x}_3}\\\\\\dot{\\Delta{x}_4}\\end{matrix}\\right] = \\left[\\begin{matrix}\\Delta{x_3}\\\\\\Delta{x_4}\\\\- \\frac{1.0 L m_{r} \\left(1.0 \\Delta{D} - \\Delta{u} + b \\Delta{x_3}\\right)}{1.0 J_{t} M_{t} - 1.0 L^{2} m_{r}^{2}} - \\frac{1.0 M_{t} \\left(1.0 L g m_{r} \\Delta{x_2} - L_{c} \\Delta{D} + \\gamma \\Delta{x_4}\\right)}{1.0 J_{t} M_{t} - 1.0 L^{2} m_{r}^{2}}\\\\- \\frac{1.0 J_{t} \\left(1.0 \\Delta{D} - \\Delta{u} + b \\Delta{x_3}\\right)}{1.0 J_{t} M_{t} - 1.0 L^{2} m_{r}^{2}} - \\frac{1.0 L m_{r} \\left(1.0 L g m_{r} \\Delta{x_2} - L_{c} \\Delta{D} + \\gamma \\Delta{x_4}\\right)}{1.0 J_{t} M_{t} - 1.0 L^{2} m_{r}^{2}}\\end{matrix}\\right]$"
      ],
      "text/plain": [
       "                ⎡                                                  \\Delta{x_3}\n",
       "                ⎢                                                             \n",
       "                ⎢                                                  \\Delta{x_4}\n",
       "⎡\\Deltȧ{x_1}⎤   ⎢                                                            \n",
       "⎢           ⎥   ⎢  L⋅mᵣ⋅(1.0⋅\\Delta{D} - \\Delta{u} + b⋅\\Delta{x_3})   Mₜ⋅(1.0⋅\n",
       "⎢\\Deltȧ{x_2}⎥   ⎢- ──────────────────────────────────────────────── - ───────\n",
       "⎢           ⎥ = ⎢                              2   2                          \n",
       "⎢\\Deltȧ{x_3}⎥   ⎢                 1.0⋅Jₜ⋅Mₜ - L ⋅mᵣ                          \n",
       "⎢           ⎥   ⎢                                                             \n",
       "⎣\\Deltȧ{x_4}⎦   ⎢  Jₜ⋅(1.0⋅\\Delta{D} - \\Delta{u} + b⋅\\Delta{x_3})   L⋅mᵣ⋅(1.0\n",
       "                ⎢- ────────────────────────────────────────────── - ──────────\n",
       "                ⎢                             2   2                           \n",
       "                ⎣                1.0⋅Jₜ⋅Mₜ - L ⋅mᵣ                            \n",
       "\n",
       "                                                   ⎤\n",
       "                                                   ⎥\n",
       "                                                   ⎥\n",
       "                                                    ⎥\n",
       "L⋅g⋅mᵣ⋅\\Delta{x_2} - L_c⋅\\Delta{D} + γ⋅\\Delta{x_4})⎥\n",
       "────────────────────────────────────────────────────⎥\n",
       "                          2   2                    ⎥\n",
       "              1.0⋅Jₜ⋅Mₜ - L ⋅mᵣ                     ⎥\n",
       "                                                   ⎥\n",
       "⋅L⋅g⋅mᵣ⋅\\Delta{x_2} - L_c⋅\\Delta{D} + γ⋅\\Delta{x_4})⎥\n",
       "───────────────────────────────────────────────────⎥\n",
       "                         2   2                     ⎥\n",
       "            1.0⋅Jₜ⋅Mₜ - L ⋅mᵣ                      ⎦"
      ]
     },
     "metadata": {},
     "output_type": "display_data"
    }
   ],
   "source": [
    "# state vector, x1 x2 x3 x4\n",
    "state_vec = smp.Matrix([ [D_x1], [D_x2], [D_x3], [D_x4] ])\n",
    "\n",
    "# state vector, x theta ...\n",
    "state_vec_noraml = smp.Matrix([\n",
    "    [D_x],\n",
    "    [D_the],\n",
    "    [D_Dx],\n",
    "    [D_Dthe]\n",
    "])\n",
    "\n",
    "disp('tarcie: lepkie')\n",
    "disp('Sd = dolne położenie')\n",
    "disp('State vector.')\n",
    "disp( smp.Eq( state_vec.T, state_vec_noraml.T ) )\n",
    "\n",
    "state_vec_diff = state_vec.diff(t)\n",
    "state_vec_noraml_diff = state_vec_noraml.diff(t)\n",
    "\n",
    "state_equations_normal = smp.Matrix([\n",
    "    [D_Dx],\n",
    "    [D_Dthe],\n",
    "    [D_DDx_ss],\n",
    "    [D_DDthe_ss]\n",
    "])\n",
    "\n",
    "disp('State equations')\n",
    "disp(\n",
    "    smp.Eq(\n",
    "        state_vec_noraml_diff,\n",
    "        state_equations_normal\n",
    "    )\n",
    ")\n",
    "\n",
    "state_equations = state_equations_normal.subs([(D_Dx, D_x3),\n",
    "                                               (D_Dthe, D_x4),\n",
    "                                               (D_x, D_x1),\n",
    "                                               (D_the, D_x2)])\n",
    "print('state_equations w x-ach')\n",
    "disp(\n",
    "    smp.Eq(\n",
    "        state_vec.diff(t),\n",
    "        state_equations\n",
    "    )\n",
    ")"
   ]
  },
  {
   "cell_type": "code",
   "execution_count": 34,
   "id": "0c2db13c-ed2b-4f28-aded-711257188ba5",
   "metadata": {
    "jupyter": {
     "source_hidden": true
    },
    "tags": []
   },
   "outputs": [
    {
     "data": {
      "text/latex": [
       "$\\dot{\\boldsymbol{x}} = A\\boldsymbol{x} + Bu + HD$"
      ],
      "text/plain": [
       "<IPython.core.display.Latex object>"
      ]
     },
     "execution_count": 34,
     "metadata": {},
     "output_type": "execute_result"
    }
   ],
   "source": [
    "dispLtx(r'$\\dot{\\boldsymbol{x}} = A\\boldsymbol{x} + Bu + HD$')"
   ]
  },
  {
   "cell_type": "code",
   "execution_count": 35,
   "id": "5848eae7-6f03-4b4b-90d9-55d4936628f8",
   "metadata": {
    "jupyter": {
     "source_hidden": true
    },
    "tags": []
   },
   "outputs": [],
   "source": [
    "# zamiana równań stanu na wielomiany (sympy.Poly) żeby można było wyciągnąć \n",
    "# symboliczne współczynniki\n",
    "state_equations = [smp.Poly(state_eq, [D_x1, D_x2, D_x3, D_x4, D_D, D_u]).as_expr() for state_eq in state_equations]"
   ]
  },
  {
   "cell_type": "code",
   "execution_count": 36,
   "id": "3d583e95-08e1-4758-8bd8-11c9a27ca5b8",
   "metadata": {
    "jupyter": {
     "source_hidden": true
    },
    "tags": []
   },
   "outputs": [
    {
     "data": {
      "text/plain": [
       "'A:'"
      ]
     },
     "metadata": {},
     "output_type": "display_data"
    },
    {
     "data": {
      "image/png": "[encoded data removed]",
      "text/latex": [
       "$\\displaystyle \\left[\\begin{matrix}0 & 0 & 1 & 0\\\\0 & 0 & 0 & 1\\\\0 & - \\frac{1.0 L M_{t} g m_{r}}{1.0 J_{t} M_{t} - 1.0 L^{2} m_{r}^{2}} & - \\frac{1.0 L b m_{r}}{1.0 J_{t} M_{t} - 1.0 L^{2} m_{r}^{2}} & - \\frac{1.0 M_{t} \\gamma}{1.0 J_{t} M_{t} - 1.0 L^{2} m_{r}^{2}}\\\\0 & - \\frac{1.0 L^{2} g m_{r}^{2}}{1.0 J_{t} M_{t} - 1.0 L^{2} m_{r}^{2}} & - \\frac{1.0 J_{t} b}{1.0 J_{t} M_{t} - 1.0 L^{2} m_{r}^{2}} & - \\frac{1.0 L \\gamma m_{r}}{1.0 J_{t} M_{t} - 1.0 L^{2} m_{r}^{2}}\\end{matrix}\\right]$"
      ],
      "text/plain": [
       "⎡0          0                   1                   0         ⎤\n",
       "⎢                                                             ⎥\n",
       "⎢0          0                   0                   1         ⎥\n",
       "⎢                                                             ⎥\n",
       "⎢    -1.0⋅L⋅Mₜ⋅g⋅mᵣ        -1.0⋅L⋅b⋅mᵣ          -1.0⋅Mₜ⋅γ     ⎥\n",
       "⎢0  ──────────────────  ──────────────────  ──────────────────⎥\n",
       "⎢                2   2               2   2               2   2⎥\n",
       "⎢   1.0⋅Jₜ⋅Mₜ - L ⋅mᵣ   1.0⋅Jₜ⋅Mₜ - L ⋅mᵣ   1.0⋅Jₜ⋅Mₜ - L ⋅mᵣ ⎥\n",
       "⎢                                                             ⎥\n",
       "⎢           2     2                                           ⎥\n",
       "⎢     -1.0⋅L ⋅g⋅mᵣ          -1.0⋅Jₜ⋅b          -1.0⋅L⋅γ⋅mᵣ    ⎥\n",
       "⎢0  ──────────────────  ──────────────────  ──────────────────⎥\n",
       "⎢                2   2               2   2               2   2⎥\n",
       "⎣   1.0⋅Jₜ⋅Mₜ - L ⋅mᵣ   1.0⋅Jₜ⋅Mₜ - L ⋅mᵣ   1.0⋅Jₜ⋅Mₜ - L ⋅mᵣ ⎦"
      ]
     },
     "metadata": {},
     "output_type": "display_data"
    },
    {
     "data": {
      "text/plain": [
       "'B:'"
      ]
     },
     "metadata": {},
     "output_type": "display_data"
    },
    {
     "data": {
      "image/png": "[encoded data removed]",
      "text/latex": [
       "$\\displaystyle \\left[\\begin{matrix}0\\\\0\\\\\\frac{1.0 L m_{r}}{1.0 J_{t} M_{t} - 1.0 L^{2} m_{r}^{2}}\\\\\\frac{1.0 J_{t}}{1.0 J_{t} M_{t} - 1.0 L^{2} m_{r}^{2}}\\end{matrix}\\right]$"
      ],
      "text/plain": [
       "⎡        0         ⎤\n",
       "⎢                  ⎥\n",
       "⎢        0         ⎥\n",
       "⎢                  ⎥\n",
       "⎢     1.0⋅L⋅mᵣ     ⎥\n",
       "⎢──────────────────⎥\n",
       "⎢             2   2⎥\n",
       "⎢1.0⋅Jₜ⋅Mₜ - L ⋅mᵣ ⎥\n",
       "⎢                  ⎥\n",
       "⎢      1.0⋅Jₜ      ⎥\n",
       "⎢──────────────────⎥\n",
       "⎢             2   2⎥\n",
       "⎣1.0⋅Jₜ⋅Mₜ - L ⋅mᵣ ⎦"
      ]
     },
     "metadata": {},
     "output_type": "display_data"
    },
    {
     "data": {
      "text/plain": [
       "'H:'"
      ]
     },
     "metadata": {},
     "output_type": "display_data"
    },
    {
     "data": {
      "image/png": "[encoded data removed]",
      "text/latex": [
       "$\\displaystyle \\left[\\begin{matrix}0\\\\0\\\\\\frac{- 1.0 L m_{r} + 1.0 L_{c} M_{t}}{1.0 J_{t} M_{t} - 1.0 L^{2} m_{r}^{2}}\\\\\\frac{- 1.0 J_{t} + 1.0 L L_{c} m_{r}}{1.0 J_{t} M_{t} - 1.0 L^{2} m_{r}^{2}}\\end{matrix}\\right]$"
      ],
      "text/plain": [
       "⎡        0         ⎤\n",
       "⎢                  ⎥\n",
       "⎢        0         ⎥\n",
       "⎢                  ⎥\n",
       "⎢-L⋅mᵣ + 1.0⋅L_c⋅Mₜ⎥\n",
       "⎢──────────────────⎥\n",
       "⎢             2   2⎥\n",
       "⎢1.0⋅Jₜ⋅Mₜ - L ⋅mᵣ ⎥\n",
       "⎢                  ⎥\n",
       "⎢-Jₜ + 1.0⋅L⋅L_c⋅mᵣ⎥\n",
       "⎢──────────────────⎥\n",
       "⎢             2   2⎥\n",
       "⎣1.0⋅Jₜ⋅Mₜ - L ⋅mᵣ ⎦"
      ]
     },
     "metadata": {},
     "output_type": "display_data"
    }
   ],
   "source": [
    "# równania zapisane w postaci wektorowo-macierzowej\n",
    "# x_dot = Ax + Bu + HD\n",
    "# macierz mnożąca wektor stanu\n",
    "A = smp.Matrix([\n",
    "    [ state_equations[0].coeff(D_x1), state_equations[0].coeff(D_x2), state_equations[0].coeff(D_x3), state_equations[0].coeff(D_x4) ],\n",
    "    [ state_equations[1].coeff(D_x1), state_equations[1].coeff(D_x2), state_equations[1].coeff(D_x3), state_equations[1].coeff(D_x4) ],\n",
    "    [ state_equations[2].coeff(D_x1), state_equations[2].coeff(D_x2), state_equations[2].coeff(D_x3), state_equations[2].coeff(D_x4) ],\n",
    "    [ state_equations[3].coeff(D_x1), state_equations[3].coeff(D_x2), state_equations[3].coeff(D_x3), state_equations[3].coeff(D_x4) ]\n",
    "])\n",
    "# dispLtx(r'$\\dot{\\boldsymbol{x}} = A\\boldsymbol{x} + Bu + HD$')\n",
    "disp('A:')\n",
    "disp(A)\n",
    "# macierz mnożąca wymuszenie\n",
    "B = smp.Matrix([\n",
    "    [0],\n",
    "    [0],\n",
    "    [state_equations[2].coeff(D_u)],\n",
    "    [state_equations[3].coeff(D_u)]\n",
    "])\n",
    "disp('B:')\n",
    "disp(B)\n",
    "# macierz mnożąca sygnał zakłuceń\n",
    "H = smp.Matrix([\n",
    "    [0],\n",
    "    [0],\n",
    "    [state_equations[2].coeff(D_D)],\n",
    "    [state_equations[3].coeff(D_D)]\n",
    "]) \n",
    "disp('H:')\n",
    "disp(H)"
   ]
  },
  {
   "cell_type": "markdown",
   "id": "de016e46-c280-4057-8ad2-63369125c91e",
   "metadata": {
    "jp-MarkdownHeadingCollapsed": true,
    "tags": []
   },
   "source": [
    "## <b> 3. <u> Linearyzacja / tarcie STRIBECK / górne położenie (Sg)"
   ]
  },
  {
   "cell_type": "markdown",
   "id": "ca2dc6d2-ae82-42e8-933d-a6c98e8422f9",
   "metadata": {
    "jp-MarkdownHeadingCollapsed": true,
    "tags": []
   },
   "source": [
    "### 3.1 bla bla bla"
   ]
  },
  {
   "cell_type": "code",
   "execution_count": 37,
   "id": "5d51b183-f50b-4872-8b9f-b4a35e0468c0",
   "metadata": {
    "tags": []
   },
   "outputs": [
    {
     "data": {
      "image/png": "[encoded data removed]",
      "text/latex": [
       "$\\displaystyle \\left[\\begin{matrix}- D \\cos{\\left(\\theta \\right)} - L m_{r} \\sin{\\left(\\theta \\right)} \\dot{\\theta}^{2} + L m_{r} \\cos{\\left(\\theta \\right)} \\ddot{\\theta} + M_{t} g \\left(\\mu_{c} + \\left(- \\mu_{c} + \\mu_{s}\\right) e^{- \\left(\\frac{\\dot{x}}{v_{s}}\\right)^{i}}\\right) \\tanh{\\left(400 \\dot{x} \\right)} + M_{t} \\ddot{x} + b \\dot{x} - u\\\\- D L_{c} + J_{t} \\ddot{\\theta} - L g m_{r} \\sin{\\left(\\theta \\right)} + L m_{r} \\cos{\\left(\\theta \\right)} \\ddot{x} + \\gamma \\dot{\\theta}\\end{matrix}\\right]$"
      ],
      "text/plain": [
       "⎡                                                  ⎛                        i⎞\n",
       "⎢                                                  ⎜                    ⎛ẋ⎞ ⎟\n",
       "⎢                                                  ⎜                   -⎜──⎟ ⎟\n",
       "⎢                         2                        ⎜                    ⎝vₛ⎠ ⎟\n",
       "⎢-D⋅cos(θ) - L⋅mᵣ⋅sin(θ)⋅θ̇  + L⋅mᵣ⋅cos(θ)⋅θ̈ + Mₜ⋅g⋅⎝μ_c + (-μ_c + μₛ)⋅ℯ     \n",
       "⎢                                                                             \n",
       "⎣                           -D⋅L_c + Jₜ⋅θ̈ - L⋅g⋅mᵣ⋅sin(θ) + L⋅mᵣ⋅cos(θ)⋅ẍ + \n",
       "\n",
       "                             ⎤\n",
       "                             ⎥\n",
       "                             ⎥\n",
       "                             ⎥\n",
       " ⎠⋅tanh(400⋅ẋ) + Mₜ⋅ẍ + b⋅ẋ - u⎥\n",
       "                             ⎥\n",
       "γ⋅θ̇                            ⎦"
      ]
     },
     "execution_count": 37,
     "metadata": {},
     "output_type": "execute_result"
    }
   ],
   "source": [
    "# podstawienie tarcia, równania modelu do zlinearyzowania\n",
    "# F_strib = F.subs(Ff, Ff_stribeck_sign)\n",
    "F_strib = F.subs(Ff, Ff_stribeck_tanh)\n",
    "F_strib"
   ]
  },
  {
   "cell_type": "code",
   "execution_count": 38,
   "id": "3459cacb-84bd-4273-8ee7-f41c44b57c11",
   "metadata": {
    "tags": []
   },
   "outputs": [
    {
     "data": {
      "image/png": "[encoded data removed]",
      "text/latex": [
       "$\\displaystyle \\left[\\begin{matrix}- D \\cos{\\left(\\theta \\right)} - L m_{r} \\sin{\\left(\\theta \\right)} \\dot{\\theta}^{2} + L m_{r} \\cos{\\left(\\theta \\right)} \\ddot{\\theta} + M_{t} g \\left(\\mu_{c} + \\left(- \\mu_{c} + \\mu_{s}\\right) e^{- \\frac{\\dot{x}^{2}}{v_{s}^{2}}}\\right) \\tanh{\\left(400 \\dot{x} \\right)} + M_{t} \\ddot{x} + b \\dot{x} - u\\\\- D L_{c} + J_{t} \\ddot{\\theta} - L g m_{r} \\sin{\\left(\\theta \\right)} + L m_{r} \\cos{\\left(\\theta \\right)} \\ddot{x} + \\gamma \\dot{\\theta}\\end{matrix}\\right]$"
      ],
      "text/plain": [
       "⎡                                                  ⎛                     2 ⎞  \n",
       "⎢                                                  ⎜                   -ẋ  ⎟ \n",
       "⎢                                                  ⎜                   ────⎟  \n",
       "⎢                                                  ⎜                     2 ⎟  \n",
       "⎢                         2                        ⎜                   vₛ  ⎟  \n",
       "⎢-D⋅cos(θ) - L⋅mᵣ⋅sin(θ)⋅θ̇  + L⋅mᵣ⋅cos(θ)⋅θ̈ + Mₜ⋅g⋅⎝μ_c + (-μ_c + μₛ)⋅ℯ    ⎠\n",
       "⎢                                                                             \n",
       "⎣                          -D⋅L_c + Jₜ⋅θ̈ - L⋅g⋅mᵣ⋅sin(θ) + L⋅mᵣ⋅cos(θ)⋅ẍ + γ\n",
       "\n",
       "                           ⎤\n",
       "                            ⎥\n",
       "                           ⎥\n",
       "                           ⎥\n",
       "                           ⎥\n",
       "⋅tanh(400⋅ẋ) + Mₜ⋅ẍ + b⋅ẋ - u⎥\n",
       "                           ⎥\n",
       "⋅θ̇                           ⎦"
      ]
     },
     "execution_count": 38,
     "metadata": {},
     "output_type": "execute_result"
    }
   ],
   "source": [
    "# podstawienie parametrów do modelu\n",
    "if podstawic_parametry_czy_nie:\n",
    "    F_strib = F_strib.subs(dict(zip(params_stri, params_stri_values)))\n",
    "    \n",
    "# za parametr i zawsze podstawiwam 2 bo inaczej pochodna nie chciała się policzyć\n",
    "F_strib = F_strib.subs(smp.symbols('i'), 2) \n",
    "F_strib"
   ]
  },
  {
   "cell_type": "code",
   "execution_count": 39,
   "id": "c747ab92-d7f0-4722-b08b-f799564c885f",
   "metadata": {
    "jupyter": {
     "source_hidden": true
    },
    "tags": []
   },
   "outputs": [
    {
     "data": {
      "image/png": "[encoded data removed]",
      "text/latex": [
       "$\\displaystyle \\left[ \\left[\\begin{matrix}D \\sin{\\left(\\theta \\right)} - L m_{r} \\sin{\\left(\\theta \\right)} \\ddot{\\theta} - L m_{r} \\cos{\\left(\\theta \\right)} \\dot{\\theta}^{2}\\\\- L g m_{r} \\cos{\\left(\\theta \\right)} - L m_{r} \\sin{\\left(\\theta \\right)} \\ddot{x}\\end{matrix}\\right], \\  \\left[\\begin{matrix}M_{t} g \\left(400 - 400 \\tanh^{2}{\\left(400 \\dot{x} \\right)}\\right) \\left(\\mu_{c} + \\left(- \\mu_{c} + \\mu_{s}\\right) e^{- \\frac{\\dot{x}^{2}}{v_{s}^{2}}}\\right) - \\frac{2 M_{t} g \\left(- \\mu_{c} + \\mu_{s}\\right) e^{- \\frac{\\dot{x}^{2}}{v_{s}^{2}}} \\tanh{\\left(400 \\dot{x} \\right)} \\dot{x}}{v_{s}^{2}} + b\\\\0\\end{matrix}\\right], \\  \\left[\\begin{matrix}- 2 L m_{r} \\sin{\\left(\\theta \\right)} \\dot{\\theta}\\\\\\gamma\\end{matrix}\\right], \\  \\left[\\begin{matrix}M_{t}\\\\L m_{r} \\cos{\\left(\\theta \\right)}\\end{matrix}\\right], \\  \\left[\\begin{matrix}L m_{r} \\cos{\\left(\\theta \\right)}\\\\J_{t}\\end{matrix}\\right], \\  \\left[\\begin{matrix}-1\\\\0\\end{matrix}\\right], \\  \\left[\\begin{matrix}- \\cos{\\left(\\theta \\right)}\\\\- L_{c}\\end{matrix}\\right]\\right]$"
      ],
      "text/plain": [
       "⎡                                             ⎡                               \n",
       "⎢                                             ⎢                              ⎛\n",
       "⎢                                             ⎢                              ⎜\n",
       "⎢⎡                                        2⎤  ⎢                              ⎜\n",
       "⎢⎢D⋅sin(θ) - L⋅mᵣ⋅sin(θ)⋅θ̈ - L⋅mᵣ⋅cos(θ)⋅θ̇ ⎥  ⎢                             \n",
       "⎢⎢                                         ⎥, ⎢     ⎛              2       ⎞ ⎜\n",
       "⎢⎣     -L⋅g⋅mᵣ⋅cos(θ) - L⋅mᵣ⋅sin(θ)⋅ẍ      ⎦  ⎢Mₜ⋅g⋅⎝400 - 400⋅tanh (400⋅ẋ)⎠\n",
       "⎢                                             ⎢                               \n",
       "⎢                                             ⎢                               \n",
       "⎢                                             ⎢                               \n",
       "⎣                                             ⎣                               \n",
       "\n",
       "                                                 2                   ⎤        \n",
       "                     2 ⎞                       -ẋ                    ⎥       \n",
       "                   -ẋ  ⎟                       ────                  ⎥       \n",
       "                   ────⎟                         2                   ⎥        \n",
       " ⎜                     2 ⎟                       vₛ                    ⎥  ⎡-2⋅\n",
       "                   vₛ  ⎟   2⋅Mₜ⋅g⋅(-μ_c + μₛ)⋅ℯ    ⋅tanh(400⋅ẋ)⋅ẋ    ⎥, ⎢   \n",
       "⋅⎝μ_c + (-μ_c + μₛ)⋅ℯ    ⎠ - ────────────────────────────────────── + b⎥  ⎣   \n",
       "                                              2                      ⎥        \n",
       "                                            vₛ                       ⎥        \n",
       "                                                                     ⎥        \n",
       "                  0                                                  ⎦        \n",
       "\n",
       "                                                           ⎤\n",
       "                                                            ⎥\n",
       "                                                            ⎥\n",
       "                                                           ⎥\n",
       "L⋅mᵣ⋅sin(θ)⋅θ̇⎤  ⎡    Mₜ     ⎤  ⎡L⋅mᵣ⋅cos(θ)⎤  ⎡-1⎤  ⎡-cos(θ)⎤⎥\n",
       "             ⎥, ⎢           ⎥, ⎢           ⎥, ⎢  ⎥, ⎢       ⎥⎥\n",
       "    γ        ⎦  ⎣L⋅mᵣ⋅cos(θ)⎦  ⎣    Jₜ     ⎦  ⎣0 ⎦  ⎣ -L_c  ⎦⎥\n",
       "                                                           ⎥\n",
       "                                                           ⎥\n",
       "                                                           ⎥\n",
       "                                                           ⎦"
      ]
     },
     "execution_count": 39,
     "metadata": {},
     "output_type": "execute_result"
    }
   ],
   "source": [
    "# pochodne cząstkowe F\n",
    "dF_dthe = F_strib.diff(the)\n",
    "dF_dDthe = F_strib.diff(Dthe)\n",
    "df_dDDthe = F_strib.diff(DDthe)\n",
    "dF_dDx  = F_strib.diff(Dx)\n",
    "dF_dDDx  = F_strib.diff(DDx)\n",
    "dF_du = F_strib.diff(u)\n",
    "dF_dD = F_strib.diff(D)\n",
    "\n",
    "# kolejność taka jaką przyjąłem w oznaczeniu punktów pracy\n",
    "par_deriv = [dF_dthe, dF_dDx, dF_dDthe, dF_dDDx, df_dDDthe, dF_du, dF_dD]\n",
    "par_deriv"
   ]
  },
  {
   "cell_type": "code",
   "execution_count": 40,
   "id": "ff4aec99-ad03-4873-acc3-745ef9cb8ec3",
   "metadata": {
    "tags": []
   },
   "outputs": [
    {
     "data": {
      "image/png": "[encoded data removed]",
      "text/latex": [
       "$\\displaystyle \\left[\\begin{matrix}M_{t} g \\left(400 - 400 \\tanh^{2}{\\left(400 \\dot{x} \\right)}\\right) \\left(\\mu_{c} + \\left(- \\mu_{c} + \\mu_{s}\\right) e^{- \\frac{\\dot{x}^{2}}{v_{s}^{2}}}\\right) - \\frac{2 M_{t} g \\left(- \\mu_{c} + \\mu_{s}\\right) e^{- \\frac{\\dot{x}^{2}}{v_{s}^{2}}} \\tanh{\\left(400 \\dot{x} \\right)} \\dot{x}}{v_{s}^{2}} + b\\\\0\\end{matrix}\\right]$"
      ],
      "text/plain": [
       "⎡                                                                             \n",
       "⎢                              ⎛                     2 ⎞                      \n",
       "⎢                              ⎜                   -ẋ  ⎟                     \n",
       "⎢                              ⎜                   ────⎟                      \n",
       "⎢                              ⎜                     2 ⎟                      \n",
       "⎢     ⎛              2       ⎞ ⎜                   vₛ  ⎟   2⋅Mₜ⋅g⋅(-μ_c + μₛ)⋅\n",
       "⎢Mₜ⋅g⋅⎝400 - 400⋅tanh (400⋅ẋ)⎠⋅⎝μ_c + (-μ_c + μₛ)⋅ℯ    ⎠ - ──────────────────\n",
       "⎢                                                                             \n",
       "⎢                                                                           vₛ\n",
       "⎢                                                                             \n",
       "⎣                                                 0                           \n",
       "\n",
       "   2                   ⎤\n",
       " -ẋ                    ⎥\n",
       "  ────                  ⎥\n",
       "   2                   ⎥\n",
       " vₛ                    ⎥\n",
       "ℯ    ⋅tanh(400⋅ẋ)⋅ẋ    ⎥\n",
       "──────────────────── + b⎥\n",
       "2                      ⎥\n",
       "                       ⎥\n",
       "                       ⎥\n",
       "                       ⎦"
      ]
     },
     "execution_count": 40,
     "metadata": {},
     "output_type": "execute_result"
    }
   ],
   "source": [
    "dF_dDx"
   ]
  },
  {
   "cell_type": "code",
   "execution_count": 41,
   "id": "9c71e8f3-f249-495a-ad45-c0172daa823c",
   "metadata": {
    "tags": []
   },
   "outputs": [],
   "source": [
    "symb_val_dict = dict(zip(S0, Sg))\n",
    "for i, deriv in enumerate(par_deriv):\n",
    "    par_deriv[i] = deriv.subs(symb_val_dict).doit()"
   ]
  },
  {
   "cell_type": "code",
   "execution_count": 42,
   "id": "a1153b09-3d84-4fb9-9e4e-396e6b69ab5a",
   "metadata": {
    "tags": []
   },
   "outputs": [],
   "source": [
    "F_strib_lin = np.array(par_deriv).T @ np.array(zmienne_przyrostowe) "
   ]
  },
  {
   "cell_type": "markdown",
   "id": "cc830eef-c81f-491e-9987-c74ceb322a14",
   "metadata": {
    "jp-MarkdownHeadingCollapsed": true,
    "tags": []
   },
   "source": [
    "### 3.2 model"
   ]
  },
  {
   "cell_type": "code",
   "execution_count": 43,
   "id": "16d43344-2079-4e41-b315-a9ef72ba82b2",
   "metadata": {
    "tags": []
   },
   "outputs": [
    {
     "data": {
      "text/plain": [
       "'tarcie: Stribeck-a'"
      ]
     },
     "metadata": {},
     "output_type": "display_data"
    },
    {
     "data": {
      "text/plain": [
       "'Sg = górne położenie'"
      ]
     },
     "metadata": {},
     "output_type": "display_data"
    },
    {
     "data": {
      "image/png": "[encoded data removed]",
      "text/latex": [
       "$\\displaystyle \\left[\\begin{matrix}L m_{r} \\ddot{\\Delta{\\theta}} + M_{t} \\ddot{\\Delta{x}} - \\Delta{D} - \\Delta{u} + \\left(400 M_{t} g \\mu_{s} + b\\right) \\dot{\\Delta{x}}\\\\J_{t} \\ddot{\\Delta{\\theta}} - L g m_{r} \\Delta{\\theta} + L m_{r} \\ddot{\\Delta{x}} - L_{c} \\Delta{D} + \\gamma \\dot{\\Delta{\\theta}}\\end{matrix}\\right]$"
      ],
      "text/plain": [
       "⎡  L⋅mᵣ⋅\\Delta{\\̈theta} + Mₜ⋅\\Delẗa{x} - \\Delta{D} - \\Delta{u} + (400⋅Mₜ⋅g⋅μₛ\n",
       "⎢                                                                             \n",
       "⎣Jₜ⋅\\Delta{\\̈theta} - L⋅g⋅mᵣ⋅\\Delta{\\theta} + L⋅mᵣ⋅\\Delẗa{x} - L_c⋅\\Delta{D} \n",
       "\n",
       " + b)⋅\\Delṫa{x}   ⎤\n",
       "                ⎥\n",
       "+ γ⋅\\Delta{\\̇theta}⎦"
      ]
     },
     "execution_count": 43,
     "metadata": {},
     "output_type": "execute_result"
    }
   ],
   "source": [
    "disp('tarcie: Stribeck-a')\n",
    "disp('Sg = górne położenie')\n",
    "\n",
    "smp.Matrix([\n",
    "    F_strib_lin[0, 0],\n",
    "    F_strib_lin[0, 1]\n",
    "])"
   ]
  },
  {
   "cell_type": "markdown",
   "id": "149b64a0-688b-4109-a506-fd43112278a6",
   "metadata": {
    "tags": []
   },
   "source": [
    "### 3.3 model równania stanu"
   ]
  },
  {
   "cell_type": "code",
   "execution_count": 44,
   "id": "034c088e-56d5-48b1-8fc6-c27cdb2eb2e7",
   "metadata": {
    "jupyter": {
     "source_hidden": true
    },
    "tags": []
   },
   "outputs": [],
   "source": [
    "# te macierze napisane w taki sposób\n",
    "# żebym nie musiał nic dodawać po zmianie parametrów modelu\n",
    "A = smp.Matrix([\n",
    "    [F_strib_lin[0, 0].coeff(D_DDthe), F_strib_lin[0, 0].coeff(D_DDx)],\n",
    "    [F_strib_lin[0, 1].coeff(D_DDthe), F_strib_lin[0, 1].coeff(D_DDx)]\n",
    "])\n",
    "\n",
    "B = smp.Matrix([\n",
    "    [D_DDthe],\n",
    "    [D_DDx]\n",
    "])\n",
    "C = smp.Matrix([\n",
    "    [F_strib_lin[0, 0].coeff(D_Dx)*D_Dx + F_strib_lin[0, 0].coeff(D_D)*D_D + F_strib_lin[0, 0].coeff(D_u)*D_u],\n",
    "    [F_strib_lin[0, 1].coeff(D_Dthe)*D_Dthe + F_strib_lin[0, 1].coeff(D_the)*D_the + F_strib_lin[0, 1].coeff(D_D)*D_D]\n",
    "])"
   ]
  },
  {
   "cell_type": "code",
   "execution_count": 45,
   "id": "7cd76ff8-f6f8-406e-9e6b-0c390e2ef09c",
   "metadata": {
    "jupyter": {
     "source_hidden": true
    },
    "tags": []
   },
   "outputs": [
    {
     "data": {
      "text/plain": [
       "'A*B + C powinno być takie samo jak model wyżej'"
      ]
     },
     "metadata": {},
     "output_type": "display_data"
    },
    {
     "data": {
      "image/png": "[encoded data removed]",
      "text/latex": [
       "$\\displaystyle \\left[\\begin{matrix}L m_{r} \\ddot{\\Delta{\\theta}} + M_{t} \\ddot{\\Delta{x}} - \\Delta{D} - \\Delta{u} + \\left(400 M_{t} g \\mu_{s} + b\\right) \\dot{\\Delta{x}}\\\\J_{t} \\ddot{\\Delta{\\theta}} - L g m_{r} \\Delta{\\theta} + L m_{r} \\ddot{\\Delta{x}} - L_{c} \\Delta{D} + \\gamma \\dot{\\Delta{\\theta}}\\end{matrix}\\right]$"
      ],
      "text/plain": [
       "⎡  L⋅mᵣ⋅\\Delta{\\̈theta} + Mₜ⋅\\Delẗa{x} - \\Delta{D} - \\Delta{u} + (400⋅Mₜ⋅g⋅μₛ\n",
       "⎢                                                                             \n",
       "⎣Jₜ⋅\\Delta{\\̈theta} - L⋅g⋅mᵣ⋅\\Delta{\\theta} + L⋅mᵣ⋅\\Delẗa{x} - L_c⋅\\Delta{D} \n",
       "\n",
       " + b)⋅\\Delṫa{x}   ⎤\n",
       "                ⎥\n",
       "+ γ⋅\\Delta{\\̇theta}⎦"
      ]
     },
     "execution_count": 45,
     "metadata": {},
     "output_type": "execute_result"
    }
   ],
   "source": [
    "disp('A*B + C powinno być takie samo jak model wyżej')\n",
    "A*B+C"
   ]
  },
  {
   "cell_type": "code",
   "execution_count": 46,
   "id": "b019c915-aa4b-44ff-89c4-b86aa349550a",
   "metadata": {
    "jupyter": {
     "source_hidden": true
    },
    "tags": []
   },
   "outputs": [],
   "source": [
    "D_DDx_ss, D_DDthe_ss = -A.inv()*C"
   ]
  },
  {
   "cell_type": "code",
   "execution_count": 47,
   "id": "b3f0f45e-759a-4a1e-aa62-66a6610e6f4b",
   "metadata": {
    "jupyter": {
     "source_hidden": true
    },
    "tags": []
   },
   "outputs": [
    {
     "data": {
      "text/plain": [
       "'tarcie: Stribeck-a'"
      ]
     },
     "metadata": {},
     "output_type": "display_data"
    },
    {
     "data": {
      "text/plain": [
       "'Sg = górne położenie'"
      ]
     },
     "metadata": {},
     "output_type": "display_data"
    },
    {
     "data": {
      "text/plain": [
       "'State vector.'"
      ]
     },
     "metadata": {},
     "output_type": "display_data"
    },
    {
     "data": {
      "image/png": "[encoded data removed]",
      "text/latex": [
       "$\\displaystyle \\left[\\begin{matrix}\\Delta{x_1} & \\Delta{x_2} & \\Delta{x_3} & \\Delta{x_4}\\end{matrix}\\right] = \\left[\\begin{matrix}\\Delta{x} & \\Delta{\\theta} & \\dot{\\Delta{x}} & \\dot{\\Delta{\\theta}}\\end{matrix}\\right]$"
      ],
      "text/plain": [
       "[\\Delta{x_1}  \\Delta{x_2}  \\Delta{x_3}  \\Delta{x_4}] = [\\Delta{x}  \\Delta{\\the\n",
       "ta}  \\Delṫa{x}  \\Delta{\\̇theta}]"
      ]
     },
     "metadata": {},
     "output_type": "display_data"
    },
    {
     "data": {
      "text/plain": [
       "'State equations'"
      ]
     },
     "metadata": {},
     "output_type": "display_data"
    },
    {
     "data": {
      "image/png": "[encoded data removed]",
      "text/latex": [
       "$\\displaystyle \\left[\\begin{matrix}\\dot{\\Delta{x}}\\\\\\dot{\\Delta{\\theta}}\\\\\\ddot{\\Delta{x}}\\\\\\ddot{\\Delta{\\theta}}\\end{matrix}\\right] = \\left[\\begin{matrix}\\dot{\\Delta{x}}\\\\\\dot{\\Delta{\\theta}}\\\\\\frac{L m_{r} \\left(- \\Delta{D} - \\Delta{u} + \\left(400 M_{t} g \\mu_{s} + b\\right) \\dot{\\Delta{x}}\\right)}{J_{t} M_{t} - L^{2} m_{r}^{2}} - \\frac{M_{t} \\left(- L g m_{r} \\Delta{\\theta} - L_{c} \\Delta{D} + \\gamma \\dot{\\Delta{\\theta}}\\right)}{J_{t} M_{t} - L^{2} m_{r}^{2}}\\\\- \\frac{J_{t} \\left(- \\Delta{D} - \\Delta{u} + \\left(400 M_{t} g \\mu_{s} + b\\right) \\dot{\\Delta{x}}\\right)}{J_{t} M_{t} - L^{2} m_{r}^{2}} + \\frac{L m_{r} \\left(- L g m_{r} \\Delta{\\theta} - L_{c} \\Delta{D} + \\gamma \\dot{\\Delta{\\theta}}\\right)}{J_{t} M_{t} - L^{2} m_{r}^{2}}\\end{matrix}\\right]$"
      ],
      "text/plain": [
       "                   ⎡                                                          \n",
       "                   ⎢                                                          \n",
       "                   ⎢                                                        \\D\n",
       "⎡  \\Delṫa{x}   ⎤   ⎢                                                         \n",
       "⎢              ⎥   ⎢ L⋅mᵣ⋅(-\\Delta{D} - \\Delta{u} + (400⋅Mₜ⋅g⋅μₛ + b)⋅\\Delṫa{\n",
       "⎢\\Delta{\\̇theta}⎥   ⎢ ────────────────────────────────────────────────────────\n",
       "⎢              ⎥ = ⎢                                 2   2                    \n",
       "⎢  \\Delẗa{x}   ⎥   ⎢                        Jₜ⋅Mₜ - L ⋅mᵣ                    \n",
       "⎢              ⎥   ⎢                                                          \n",
       "⎣\\Delta{\\̈theta}⎦   ⎢  Jₜ⋅(-\\Delta{D} - \\Delta{u} + (400⋅Mₜ⋅g⋅μₛ + b)⋅\\Delṫa{\n",
       "                   ⎢- ────────────────────────────────────────────────────────\n",
       "                   ⎢                                 2   2                    \n",
       "                   ⎣                        Jₜ⋅Mₜ - L ⋅mᵣ                     \n",
       "\n",
       "\\Delṫa{x}                                                           ⎤\n",
       "                                                                    ⎥\n",
       "elta{\\̇theta}                                                        ⎥\n",
       "                                                                     ⎥\n",
       "x})   Mₜ⋅(-L⋅g⋅mᵣ⋅\\Delta{\\theta} - L_c⋅\\Delta{D} + γ⋅\\Delta{\\̇theta}) ⎥\n",
       "─── - ────────────────────────────────────────────────────────────── ⎥\n",
       "                                      2   2                         ⎥\n",
       "                              Jₜ⋅Mₜ - L ⋅mᵣ                          ⎥\n",
       "                                                                    ⎥\n",
       "x})   L⋅mᵣ⋅(-L⋅g⋅mᵣ⋅\\Delta{\\theta} - L_c⋅\\Delta{D} + γ⋅\\Delta{\\̇theta})⎥\n",
       "─ + ────────────────────────────────────────────────────────────────⎥\n",
       "                                      2   2                         ⎥\n",
       "                             Jₜ⋅Mₜ - L ⋅mᵣ                          ⎦"
      ]
     },
     "metadata": {},
     "output_type": "display_data"
    },
    {
     "name": "stdout",
     "output_type": "stream",
     "text": [
      "state_equations w x-ach\n"
     ]
    },
    {
     "data": {
      "image/png": "[encoded data removed]",
      "text/latex": [
       "$\\displaystyle \\left[\\begin{matrix}\\dot{\\Delta{x}_1}\\\\\\dot{\\Delta{x}_2}\\\\\\dot{\\Delta{x}_3}\\\\\\dot{\\Delta{x}_4}\\end{matrix}\\right] = \\left[\\begin{matrix}\\Delta{x_3}\\\\\\Delta{x_4}\\\\\\frac{L m_{r} \\left(- \\Delta{D} - \\Delta{u} + \\left(400 M_{t} g \\mu_{s} + b\\right) \\Delta{x_3}\\right)}{J_{t} M_{t} - L^{2} m_{r}^{2}} - \\frac{M_{t} \\left(- L g m_{r} \\Delta{x_2} - L_{c} \\Delta{D} + \\gamma \\Delta{x_4}\\right)}{J_{t} M_{t} - L^{2} m_{r}^{2}}\\\\- \\frac{J_{t} \\left(- \\Delta{D} - \\Delta{u} + \\left(400 M_{t} g \\mu_{s} + b\\right) \\Delta{x_3}\\right)}{J_{t} M_{t} - L^{2} m_{r}^{2}} + \\frac{L m_{r} \\left(- L g m_{r} \\Delta{x_2} - L_{c} \\Delta{D} + \\gamma \\Delta{x_4}\\right)}{J_{t} M_{t} - L^{2} m_{r}^{2}}\\end{matrix}\\right]$"
      ],
      "text/plain": [
       "                ⎡                                                       \\Delta\n",
       "                ⎢                                                             \n",
       "                ⎢                                                       \\Delta\n",
       "⎡\\Deltȧ{x_1}⎤   ⎢                                                            \n",
       "⎢           ⎥   ⎢ L⋅mᵣ⋅(-\\Delta{D} - \\Delta{u} + (400⋅Mₜ⋅g⋅μₛ + b)⋅\\Delta{x_3}\n",
       "⎢\\Deltȧ{x_2}⎥   ⎢ ───────────────────────────────────────────────────────────\n",
       "⎢           ⎥ = ⎢                                  2   2                      \n",
       "⎢\\Deltȧ{x_3}⎥   ⎢                         Jₜ⋅Mₜ - L ⋅mᵣ                      \n",
       "⎢           ⎥   ⎢                                                             \n",
       "⎣\\Deltȧ{x_4}⎦   ⎢  Jₜ⋅(-\\Delta{D} - \\Delta{u} + (400⋅Mₜ⋅g⋅μₛ + b)⋅\\Delta{x_3}\n",
       "                ⎢- ───────────────────────────────────────────────────────────\n",
       "                ⎢                                  2   2                      \n",
       "                ⎣                         Jₜ⋅Mₜ - L ⋅mᵣ                       \n",
       "\n",
       "{x_3}                                                        ⎤\n",
       "                                                             ⎥\n",
       "{x_4}                                                        ⎥\n",
       "                                                              ⎥\n",
       ")   Mₜ⋅(-L⋅g⋅mᵣ⋅\\Delta{x_2} - L_c⋅\\Delta{D} + γ⋅\\Delta{x_4}) ⎥\n",
       "── - ──────────────────────────────────────────────────────── ⎥\n",
       "                                  2   2                      ⎥\n",
       "                          Jₜ⋅Mₜ - L ⋅mᵣ                       ⎥\n",
       "                                                             ⎥\n",
       ")   L⋅mᵣ⋅(-L⋅g⋅mᵣ⋅\\Delta{x_2} - L_c⋅\\Delta{D} + γ⋅\\Delta{x_4})⎥\n",
       " + ──────────────────────────────────────────────────────────⎥\n",
       "                                  2   2                      ⎥\n",
       "                         Jₜ⋅Mₜ - L ⋅mᵣ                       ⎦"
      ]
     },
     "metadata": {},
     "output_type": "display_data"
    }
   ],
   "source": [
    "# state vector, x1 x2 x3 x4\n",
    "state_vec = smp.Matrix([ [D_x1], [D_x2], [D_x3], [D_x4] ])\n",
    "\n",
    "# state vector, x theta ...\n",
    "state_vec_noraml = smp.Matrix([\n",
    "    [D_x],\n",
    "    [D_the],\n",
    "    [D_Dx],\n",
    "    [D_Dthe]\n",
    "])\n",
    "disp('tarcie: Stribeck-a')\n",
    "disp('Sg = górne położenie')\n",
    "\n",
    "disp('State vector.')\n",
    "disp( smp.Eq( state_vec.T, state_vec_noraml.T ) )\n",
    "\n",
    "state_vec_diff = state_vec.diff(t)\n",
    "state_vec_noraml_diff = state_vec_noraml.diff(t)\n",
    "\n",
    "state_equations_normal = smp.Matrix([\n",
    "    [D_Dx],\n",
    "    [D_Dthe],\n",
    "    [D_DDx_ss],\n",
    "    [D_DDthe_ss]\n",
    "])\n",
    "\n",
    "disp('State equations')\n",
    "disp(\n",
    "    smp.Eq(\n",
    "        state_vec_noraml_diff,\n",
    "        state_equations_normal\n",
    "    )\n",
    ")\n",
    "\n",
    "state_equations = state_equations_normal.subs([(D_Dx, D_x3),\n",
    "                                               (D_Dthe, D_x4),\n",
    "                                               (D_x, D_x1),\n",
    "                                               (D_the, D_x2)])\n",
    "print('state_equations w x-ach')\n",
    "disp(\n",
    "    smp.Eq(\n",
    "        state_vec.diff(t),\n",
    "        state_equations\n",
    "    )\n",
    ")"
   ]
  },
  {
   "cell_type": "code",
   "execution_count": 48,
   "id": "ac906668-e04a-4663-a2be-13530821b8f0",
   "metadata": {
    "jupyter": {
     "source_hidden": true
    },
    "tags": []
   },
   "outputs": [
    {
     "data": {
      "text/latex": [
       "$\\dot{\\boldsymbol{x}} = A\\boldsymbol{x} + Bu + HD$"
      ],
      "text/plain": [
       "<IPython.core.display.Latex object>"
      ]
     },
     "execution_count": 48,
     "metadata": {},
     "output_type": "execute_result"
    }
   ],
   "source": [
    "dispLtx(r'$\\dot{\\boldsymbol{x}} = A\\boldsymbol{x} + Bu + HD$')"
   ]
  },
  {
   "cell_type": "code",
   "execution_count": 49,
   "id": "d125f29d-ba10-479d-b121-1c6e9aabd64d",
   "metadata": {
    "jupyter": {
     "source_hidden": true
    },
    "tags": []
   },
   "outputs": [],
   "source": [
    "# zamiana równań stanu na wielomiany (sympy.Poly) żeby można było wyciągnąć \n",
    "# symboliczne współczynniki\n",
    "state_equations = [smp.Poly(state_eq, [D_x1, D_x2, D_x3, D_x4, D_D, D_u]).as_expr() for state_eq in state_equations]"
   ]
  },
  {
   "cell_type": "code",
   "execution_count": 50,
   "id": "78081fe5-6950-4f55-aaed-5e586ad3ae54",
   "metadata": {
    "jupyter": {
     "source_hidden": true
    },
    "tags": []
   },
   "outputs": [
    {
     "data": {
      "text/plain": [
       "'A:'"
      ]
     },
     "metadata": {},
     "output_type": "display_data"
    },
    {
     "data": {
      "image/png": "[encoded data removed]",
      "text/latex": [
       "$\\displaystyle \\left[\\begin{matrix}0 & 0 & 1 & 0\\\\0 & 0 & 0 & 1\\\\0 & \\frac{L M_{t} g m_{r}}{J_{t} M_{t} - L^{2} m_{r}^{2}} & \\frac{400 L M_{t} g m_{r} \\mu_{s} + L b m_{r}}{J_{t} M_{t} - L^{2} m_{r}^{2}} & - \\frac{M_{t} \\gamma}{J_{t} M_{t} - L^{2} m_{r}^{2}}\\\\0 & - \\frac{L^{2} g m_{r}^{2}}{J_{t} M_{t} - L^{2} m_{r}^{2}} & \\frac{- 400 J_{t} M_{t} g \\mu_{s} - J_{t} b}{J_{t} M_{t} - L^{2} m_{r}^{2}} & \\frac{L \\gamma m_{r}}{J_{t} M_{t} - L^{2} m_{r}^{2}}\\end{matrix}\\right]$"
      ],
      "text/plain": [
       "⎡0        0                     1                    0       ⎤\n",
       "⎢                                                            ⎥\n",
       "⎢0        0                     0                    1       ⎥\n",
       "⎢                                                            ⎥\n",
       "⎢     L⋅Mₜ⋅g⋅mᵣ     400⋅L⋅Mₜ⋅g⋅mᵣ⋅μₛ + L⋅b⋅mᵣ      -Mₜ⋅γ     ⎥\n",
       "⎢0  ──────────────  ─────────────────────────  ──────────────⎥\n",
       "⎢            2   2                 2   2                2   2⎥\n",
       "⎢   Jₜ⋅Mₜ - L ⋅mᵣ         Jₜ⋅Mₜ - L ⋅mᵣ        Jₜ⋅Mₜ - L ⋅mᵣ ⎥\n",
       "⎢                                                            ⎥\n",
       "⎢       2     2                                              ⎥\n",
       "⎢     -L ⋅g⋅mᵣ       -400⋅Jₜ⋅Mₜ⋅g⋅μₛ - Jₜ⋅b        L⋅γ⋅mᵣ    ⎥\n",
       "⎢0  ──────────────   ──────────────────────    ──────────────⎥\n",
       "⎢            2   2                2   2                 2   2⎥\n",
       "⎣   Jₜ⋅Mₜ - L ⋅mᵣ        Jₜ⋅Mₜ - L ⋅mᵣ         Jₜ⋅Mₜ - L ⋅mᵣ ⎦"
      ]
     },
     "metadata": {},
     "output_type": "display_data"
    },
    {
     "data": {
      "text/plain": [
       "'B:'"
      ]
     },
     "metadata": {},
     "output_type": "display_data"
    },
    {
     "data": {
      "image/png": "[encoded data removed]",
      "text/latex": [
       "$\\displaystyle \\left[\\begin{matrix}0\\\\0\\\\- \\frac{L m_{r}}{J_{t} M_{t} - L^{2} m_{r}^{2}}\\\\\\frac{J_{t}}{J_{t} M_{t} - L^{2} m_{r}^{2}}\\end{matrix}\\right]$"
      ],
      "text/plain": [
       "⎡      0       ⎤\n",
       "⎢              ⎥\n",
       "⎢      0       ⎥\n",
       "⎢              ⎥\n",
       "⎢    -L⋅mᵣ     ⎥\n",
       "⎢──────────────⎥\n",
       "⎢         2   2⎥\n",
       "⎢Jₜ⋅Mₜ - L ⋅mᵣ ⎥\n",
       "⎢              ⎥\n",
       "⎢      Jₜ      ⎥\n",
       "⎢──────────────⎥\n",
       "⎢         2   2⎥\n",
       "⎣Jₜ⋅Mₜ - L ⋅mᵣ ⎦"
      ]
     },
     "metadata": {},
     "output_type": "display_data"
    },
    {
     "data": {
      "text/plain": [
       "'H:'"
      ]
     },
     "metadata": {},
     "output_type": "display_data"
    },
    {
     "data": {
      "image/png": "[encoded data removed]",
      "text/latex": [
       "$\\displaystyle \\left[\\begin{matrix}0\\\\0\\\\\\frac{- L m_{r} + L_{c} M_{t}}{J_{t} M_{t} - L^{2} m_{r}^{2}}\\\\\\frac{J_{t} - L L_{c} m_{r}}{J_{t} M_{t} - L^{2} m_{r}^{2}}\\end{matrix}\\right]$"
      ],
      "text/plain": [
       "⎡      0       ⎤\n",
       "⎢              ⎥\n",
       "⎢      0       ⎥\n",
       "⎢              ⎥\n",
       "⎢-L⋅mᵣ + L_c⋅Mₜ⎥\n",
       "⎢──────────────⎥\n",
       "⎢         2   2⎥\n",
       "⎢Jₜ⋅Mₜ - L ⋅mᵣ ⎥\n",
       "⎢              ⎥\n",
       "⎢Jₜ - L⋅L_c⋅mᵣ ⎥\n",
       "⎢──────────────⎥\n",
       "⎢         2   2⎥\n",
       "⎣Jₜ⋅Mₜ - L ⋅mᵣ ⎦"
      ]
     },
     "metadata": {},
     "output_type": "display_data"
    }
   ],
   "source": [
    "# równania zapisane w postaci wektorowo-macierzowej\n",
    "# x_dot = Ax + Bu + HD\n",
    "# macierz mnożąca wektor stanu\n",
    "A = smp.Matrix([\n",
    "    [ state_equations[0].coeff(D_x1), state_equations[0].coeff(D_x2), state_equations[0].coeff(D_x3), state_equations[0].coeff(D_x4) ],\n",
    "    [ state_equations[1].coeff(D_x1), state_equations[1].coeff(D_x2), state_equations[1].coeff(D_x3), state_equations[1].coeff(D_x4) ],\n",
    "    [ state_equations[2].coeff(D_x1), state_equations[2].coeff(D_x2), state_equations[2].coeff(D_x3), state_equations[2].coeff(D_x4) ],\n",
    "    [ state_equations[3].coeff(D_x1), state_equations[3].coeff(D_x2), state_equations[3].coeff(D_x3), state_equations[3].coeff(D_x4) ]\n",
    "])\n",
    "# dispLtx(r'$\\dot{\\boldsymbol{x}} = A\\boldsymbol{x} + Bu + HD$')\n",
    "disp('A:')\n",
    "disp(A)\n",
    "# macierz mnożąca wymuszenie\n",
    "B = smp.Matrix([\n",
    "    [0],\n",
    "    [0],\n",
    "    [state_equations[2].coeff(D_u)],\n",
    "    [state_equations[3].coeff(D_u)]\n",
    "])\n",
    "disp('B:')\n",
    "disp(B)\n",
    "# macierz mnożąca sygnał zakłuceń\n",
    "H = smp.Matrix([\n",
    "    [0],\n",
    "    [0],\n",
    "    [state_equations[2].coeff(D_D)],\n",
    "    [state_equations[3].coeff(D_D)]\n",
    "]) \n",
    "disp('H:')\n",
    "disp(H)"
   ]
  },
  {
   "cell_type": "markdown",
   "id": "a4850205-0ac7-47bd-a851-38273f5af548",
   "metadata": {
    "jp-MarkdownHeadingCollapsed": true,
    "tags": []
   },
   "source": [
    "## <b> 4. <u> Linearyzacja / tarcie STRIBECK / dolne położenie (Sd)"
   ]
  },
  {
   "cell_type": "markdown",
   "id": "a33f9197-0cd8-482a-af72-f84d127bd07f",
   "metadata": {
    "jp-MarkdownHeadingCollapsed": true,
    "tags": []
   },
   "source": [
    "### 4.1 model"
   ]
  },
  {
   "cell_type": "code",
   "execution_count": 51,
   "id": "9b837f2a-e91b-4d57-b01d-33d86adea688",
   "metadata": {
    "jupyter": {
     "source_hidden": true
    },
    "tags": []
   },
   "outputs": [
    {
     "data": {
      "text/plain": [
       "'tarcie: Stribeck-a'"
      ]
     },
     "metadata": {},
     "output_type": "display_data"
    },
    {
     "data": {
      "text/plain": [
       "'Sd = dolne położenie'"
      ]
     },
     "metadata": {},
     "output_type": "display_data"
    },
    {
     "data": {
      "image/png": "[encoded data removed]",
      "text/latex": [
       "$\\displaystyle \\left[\\begin{matrix}- 1.0 L m_{r} \\ddot{\\Delta{\\theta}} + M_{t} \\ddot{\\Delta{x}} + 1.0 \\Delta{D} - \\Delta{u} + \\left(400 M_{t} g \\mu_{s} + b\\right) \\dot{\\Delta{x}}\\\\J_{t} \\ddot{\\Delta{\\theta}} + 1.0 L g m_{r} \\Delta{\\theta} - 1.0 L m_{r} \\ddot{\\Delta{x}} - L_{c} \\Delta{D} + \\gamma \\dot{\\Delta{\\theta}}\\end{matrix}\\right]$"
      ],
      "text/plain": [
       "⎡  -L⋅mᵣ⋅\\Delta{\\̈theta} + Mₜ⋅\\Delẗa{x} + 1.0⋅\\Delta{D} - \\Delta{u} + (400⋅Mₜ\n",
       "⎢                                                                             \n",
       "⎣Jₜ⋅\\Delta{\\̈theta} + 1.0⋅L⋅g⋅mᵣ⋅\\Delta{\\theta} - L⋅mᵣ⋅\\Delẗa{x} - L_c⋅\\Delta\n",
       "\n",
       "⋅g⋅μₛ + b)⋅\\Delṫa{x}  ⎤\n",
       "                    ⎥\n",
       "{D} + γ⋅\\Delta{\\̇theta}⎦"
      ]
     },
     "execution_count": 51,
     "metadata": {},
     "output_type": "execute_result"
    }
   ],
   "source": [
    "par_deriv = [dF_dthe, dF_dDx, dF_dDthe, dF_dDDx, df_dDDthe, dF_du, dF_dD]\n",
    "symb_val_dict = dict(zip(S0, Sd))\n",
    "for i, deriv in enumerate(par_deriv):\n",
    "    par_deriv[i] = deriv.subs(symb_val_dict).doit()\n",
    "F_strib_lin = np.array(par_deriv).T @ np.array(zmienne_przyrostowe) \n",
    "disp('tarcie: Stribeck-a')\n",
    "disp('Sd = dolne położenie')\n",
    "\n",
    "smp.Matrix([\n",
    "    F_strib_lin[0, 0],\n",
    "    F_strib_lin[0, 1]\n",
    "])   "
   ]
  },
  {
   "cell_type": "markdown",
   "id": "b8ed1359-cb46-43cd-8540-d7b84133e0f8",
   "metadata": {
    "tags": []
   },
   "source": [
    "### 4.2 model równania stanu"
   ]
  },
  {
   "cell_type": "code",
   "execution_count": 52,
   "id": "7270502e-3d90-4650-95a9-3f149bb32bb6",
   "metadata": {
    "jupyter": {
     "source_hidden": true
    },
    "tags": []
   },
   "outputs": [],
   "source": [
    "# te macierze napisane w taki sposób\n",
    "# żebym nie musiał nic dodawać po zmianie parametrów modelu\n",
    "A = smp.Matrix([\n",
    "    [F_strib_lin[0, 0].coeff(D_DDthe), F_strib_lin[0, 0].coeff(D_DDx)],\n",
    "    [F_strib_lin[0, 1].coeff(D_DDthe), F_strib_lin[0, 1].coeff(D_DDx)]\n",
    "])\n",
    "\n",
    "B = smp.Matrix([\n",
    "    [D_DDthe],\n",
    "    [D_DDx]\n",
    "])\n",
    "C = smp.Matrix([\n",
    "    [F_strib_lin[0, 0].coeff(D_Dx)*D_Dx + F_strib_lin[0, 0].coeff(D_D)*D_D + F_strib_lin[0, 0].coeff(D_u)*D_u],\n",
    "    [F_strib_lin[0, 1].coeff(D_Dthe)*D_Dthe + F_strib_lin[0, 1].coeff(D_the)*D_the + F_strib_lin[0, 1].coeff(D_D)*D_D]\n",
    "])"
   ]
  },
  {
   "cell_type": "code",
   "execution_count": 53,
   "id": "739d7f27-bda2-4b5b-ae74-b5626da78e5e",
   "metadata": {
    "jupyter": {
     "source_hidden": true
    },
    "tags": []
   },
   "outputs": [
    {
     "data": {
      "text/plain": [
       "'A*B + C powinno być takie samo jak model wyżej'"
      ]
     },
     "metadata": {},
     "output_type": "display_data"
    },
    {
     "data": {
      "image/png": "[encoded data removed]",
      "text/latex": [
       "$\\displaystyle \\left[\\begin{matrix}- 1.0 L m_{r} \\ddot{\\Delta{\\theta}} + M_{t} \\ddot{\\Delta{x}} + 1.0 \\Delta{D} - \\Delta{u} + \\left(400 M_{t} g \\mu_{s} + b\\right) \\dot{\\Delta{x}}\\\\J_{t} \\ddot{\\Delta{\\theta}} + 1.0 L g m_{r} \\Delta{\\theta} - 1.0 L m_{r} \\ddot{\\Delta{x}} - L_{c} \\Delta{D} + \\gamma \\dot{\\Delta{\\theta}}\\end{matrix}\\right]$"
      ],
      "text/plain": [
       "⎡  -L⋅mᵣ⋅\\Delta{\\̈theta} + Mₜ⋅\\Delẗa{x} + 1.0⋅\\Delta{D} - \\Delta{u} + (400⋅Mₜ\n",
       "⎢                                                                             \n",
       "⎣Jₜ⋅\\Delta{\\̈theta} + 1.0⋅L⋅g⋅mᵣ⋅\\Delta{\\theta} - L⋅mᵣ⋅\\Delẗa{x} - L_c⋅\\Delta\n",
       "\n",
       "⋅g⋅μₛ + b)⋅\\Delṫa{x}  ⎤\n",
       "                    ⎥\n",
       "{D} + γ⋅\\Delta{\\̇theta}⎦"
      ]
     },
     "execution_count": 53,
     "metadata": {},
     "output_type": "execute_result"
    }
   ],
   "source": [
    "disp('A*B + C powinno być takie samo jak model wyżej')\n",
    "A*B+C"
   ]
  },
  {
   "cell_type": "code",
   "execution_count": 54,
   "id": "e74f0f79-e244-44b3-8d0f-031e6364f548",
   "metadata": {
    "jupyter": {
     "source_hidden": true
    },
    "tags": []
   },
   "outputs": [],
   "source": [
    "D_DDx_ss, D_DDthe_ss = -A.inv()*C"
   ]
  },
  {
   "cell_type": "code",
   "execution_count": 55,
   "id": "0ee4491c-2cfa-407b-ab18-122066cc9770",
   "metadata": {
    "jupyter": {
     "source_hidden": true
    },
    "tags": []
   },
   "outputs": [
    {
     "data": {
      "text/plain": [
       "'tarcie: Stribeck-a'"
      ]
     },
     "metadata": {},
     "output_type": "display_data"
    },
    {
     "data": {
      "text/plain": [
       "'Sd = dolne położenie'"
      ]
     },
     "metadata": {},
     "output_type": "display_data"
    },
    {
     "data": {
      "text/plain": [
       "'State vector.'"
      ]
     },
     "metadata": {},
     "output_type": "display_data"
    },
    {
     "data": {
      "image/png": "[encoded data removed]",
      "text/latex": [
       "$\\displaystyle \\left[\\begin{matrix}\\Delta{x_1} & \\Delta{x_2} & \\Delta{x_3} & \\Delta{x_4}\\end{matrix}\\right] = \\left[\\begin{matrix}\\Delta{x} & \\Delta{\\theta} & \\dot{\\Delta{x}} & \\dot{\\Delta{\\theta}}\\end{matrix}\\right]$"
      ],
      "text/plain": [
       "[\\Delta{x_1}  \\Delta{x_2}  \\Delta{x_3}  \\Delta{x_4}] = [\\Delta{x}  \\Delta{\\the\n",
       "ta}  \\Delṫa{x}  \\Delta{\\̇theta}]"
      ]
     },
     "metadata": {},
     "output_type": "display_data"
    },
    {
     "data": {
      "text/plain": [
       "'State equations'"
      ]
     },
     "metadata": {},
     "output_type": "display_data"
    },
    {
     "data": {
      "image/png": "[encoded data removed]",
      "text/latex": [
       "$\\displaystyle \\left[\\begin{matrix}\\dot{\\Delta{x}}\\\\\\dot{\\Delta{\\theta}}\\\\\\ddot{\\Delta{x}}\\\\\\ddot{\\Delta{\\theta}}\\end{matrix}\\right] = \\left[\\begin{matrix}\\dot{\\Delta{x}}\\\\\\dot{\\Delta{\\theta}}\\\\- \\frac{1.0 L m_{r} \\left(1.0 \\Delta{D} - \\Delta{u} + \\left(400 M_{t} g \\mu_{s} + b\\right) \\dot{\\Delta{x}}\\right)}{1.0 J_{t} M_{t} - 1.0 L^{2} m_{r}^{2}} - \\frac{1.0 M_{t} \\left(1.0 L g m_{r} \\Delta{\\theta} - L_{c} \\Delta{D} + \\gamma \\dot{\\Delta{\\theta}}\\right)}{1.0 J_{t} M_{t} - 1.0 L^{2} m_{r}^{2}}\\\\- \\frac{1.0 J_{t} \\left(1.0 \\Delta{D} - \\Delta{u} + \\left(400 M_{t} g \\mu_{s} + b\\right) \\dot{\\Delta{x}}\\right)}{1.0 J_{t} M_{t} - 1.0 L^{2} m_{r}^{2}} - \\frac{1.0 L m_{r} \\left(1.0 L g m_{r} \\Delta{\\theta} - L_{c} \\Delta{D} + \\gamma \\dot{\\Delta{\\theta}}\\right)}{1.0 J_{t} M_{t} - 1.0 L^{2} m_{r}^{2}}\\end{matrix}\\right]$"
      ],
      "text/plain": [
       "                   ⎡                                                          \n",
       "                   ⎢                                                          \n",
       "                   ⎢                                                          \n",
       "⎡  \\Delṫa{x}   ⎤   ⎢                                                         \n",
       "⎢              ⎥   ⎢  L⋅mᵣ⋅(1.0⋅\\Delta{D} - \\Delta{u} + (400⋅Mₜ⋅g⋅μₛ + b)⋅\\Del\n",
       "⎢\\Delta{\\̇theta}⎥   ⎢- ───────────────────────────────────────────────────────\n",
       "⎢              ⎥ = ⎢                                     2   2                \n",
       "⎢  \\Delẗa{x}   ⎥   ⎢                        1.0⋅Jₜ⋅Mₜ - L ⋅mᵣ                \n",
       "⎢              ⎥   ⎢                                                          \n",
       "⎣\\Delta{\\̈theta}⎦   ⎢  Jₜ⋅(1.0⋅\\Delta{D} - \\Delta{u} + (400⋅Mₜ⋅g⋅μₛ + b)⋅\\Delt\n",
       "                   ⎢- ────────────────────────────────────────────────────────\n",
       "                   ⎢                                    2   2                 \n",
       "                   ⎣                       1.0⋅Jₜ⋅Mₜ - L ⋅mᵣ                  \n",
       "\n",
       "   \\Delṫa{x}                                                              ⎤\n",
       "                                                                          ⎥\n",
       " \\Delta{\\̇theta}                                                           ⎥\n",
       "                                                                           ⎥\n",
       "ṫa{x})   Mₜ⋅(1.0⋅L⋅g⋅mᵣ⋅\\Delta{\\theta} - L_c⋅\\Delta{D} + γ⋅\\Delta{\\̇theta})⎥\n",
       "─────── - ─────────────────────────────────────────────────────────────────⎥\n",
       "                                              2   2                       ⎥\n",
       "                                  1.0⋅Jₜ⋅Mₜ - L ⋅mᵣ                        ⎥\n",
       "                                                                          ⎥\n",
       "̇a{x})   L⋅mᵣ⋅(1.0⋅L⋅g⋅mᵣ⋅\\Delta{\\theta} - L_c⋅\\Delta{D} + γ⋅\\Delta{\\̇theta})⎥\n",
       "──── - ───────────────────────────────────────────────────────────────────⎥\n",
       "                                             2   2                        ⎥\n",
       "                                1.0⋅Jₜ⋅Mₜ - L ⋅mᵣ                         ⎦"
      ]
     },
     "metadata": {},
     "output_type": "display_data"
    },
    {
     "name": "stdout",
     "output_type": "stream",
     "text": [
      "state_equations w x-ach\n"
     ]
    },
    {
     "data": {
      "image/png": "[encoded data removed]",
      "text/latex": [
       "$\\displaystyle \\left[\\begin{matrix}\\dot{\\Delta{x}_1}\\\\\\dot{\\Delta{x}_2}\\\\\\dot{\\Delta{x}_3}\\\\\\dot{\\Delta{x}_4}\\end{matrix}\\right] = \\left[\\begin{matrix}\\Delta{x_3}\\\\\\Delta{x_4}\\\\- \\frac{1.0 L m_{r} \\left(1.0 \\Delta{D} - \\Delta{u} + \\left(400 M_{t} g \\mu_{s} + b\\right) \\Delta{x_3}\\right)}{1.0 J_{t} M_{t} - 1.0 L^{2} m_{r}^{2}} - \\frac{1.0 M_{t} \\left(1.0 L g m_{r} \\Delta{x_2} - L_{c} \\Delta{D} + \\gamma \\Delta{x_4}\\right)}{1.0 J_{t} M_{t} - 1.0 L^{2} m_{r}^{2}}\\\\- \\frac{1.0 J_{t} \\left(1.0 \\Delta{D} - \\Delta{u} + \\left(400 M_{t} g \\mu_{s} + b\\right) \\Delta{x_3}\\right)}{1.0 J_{t} M_{t} - 1.0 L^{2} m_{r}^{2}} - \\frac{1.0 L m_{r} \\left(1.0 L g m_{r} \\Delta{x_2} - L_{c} \\Delta{D} + \\gamma \\Delta{x_4}\\right)}{1.0 J_{t} M_{t} - 1.0 L^{2} m_{r}^{2}}\\end{matrix}\\right]$"
      ],
      "text/plain": [
       "                ⎡                                                          \\De\n",
       "                ⎢                                                             \n",
       "                ⎢                                                          \\De\n",
       "⎡\\Deltȧ{x_1}⎤   ⎢                                                            \n",
       "⎢           ⎥   ⎢  L⋅mᵣ⋅(1.0⋅\\Delta{D} - \\Delta{u} + (400⋅Mₜ⋅g⋅μₛ + b)⋅\\Delta{\n",
       "⎢\\Deltȧ{x_2}⎥   ⎢- ──────────────────────────────────────────────────────────\n",
       "⎢           ⎥ = ⎢                                      2   2                  \n",
       "⎢\\Deltȧ{x_3}⎥   ⎢                         1.0⋅Jₜ⋅Mₜ - L ⋅mᵣ                  \n",
       "⎢           ⎥   ⎢                                                             \n",
       "⎣\\Deltȧ{x_4}⎦   ⎢  Jₜ⋅(1.0⋅\\Delta{D} - \\Delta{u} + (400⋅Mₜ⋅g⋅μₛ + b)⋅\\Delta{x\n",
       "                ⎢- ───────────────────────────────────────────────────────────\n",
       "                ⎢                                     2   2                   \n",
       "                ⎣                        1.0⋅Jₜ⋅Mₜ - L ⋅mᵣ                    \n",
       "\n",
       "lta{x_3}                                                           ⎤\n",
       "                                                                   ⎥\n",
       "lta{x_4}                                                           ⎥\n",
       "                                                                    ⎥\n",
       "x_3})   Mₜ⋅(1.0⋅L⋅g⋅mᵣ⋅\\Delta{x_2} - L_c⋅\\Delta{D} + γ⋅\\Delta{x_4})⎥\n",
       "────── - ───────────────────────────────────────────────────────────⎥\n",
       "                                          2   2                    ⎥\n",
       "                              1.0⋅Jₜ⋅Mₜ - L ⋅mᵣ                     ⎥\n",
       "                                                                   ⎥\n",
       "_3})   L⋅mᵣ⋅(1.0⋅L⋅g⋅mᵣ⋅\\Delta{x_2} - L_c⋅\\Delta{D} + γ⋅\\Delta{x_4})⎥\n",
       "─── - ─────────────────────────────────────────────────────────────⎥\n",
       "                                         2   2                     ⎥\n",
       "                            1.0⋅Jₜ⋅Mₜ - L ⋅mᵣ                      ⎦"
      ]
     },
     "metadata": {},
     "output_type": "display_data"
    }
   ],
   "source": [
    "# state vector, x1 x2 x3 x4\n",
    "state_vec = smp.Matrix([ [D_x1], [D_x2], [D_x3], [D_x4] ])\n",
    "\n",
    "# state vector, x theta ...\n",
    "state_vec_noraml = smp.Matrix([\n",
    "    [D_x],\n",
    "    [D_the],\n",
    "    [D_Dx],\n",
    "    [D_Dthe]\n",
    "])\n",
    "disp('tarcie: Stribeck-a')\n",
    "disp('Sd = dolne położenie')\n",
    "\n",
    "disp('State vector.')\n",
    "disp( smp.Eq( state_vec.T, state_vec_noraml.T ) )\n",
    "\n",
    "state_vec_diff = state_vec.diff(t)\n",
    "state_vec_noraml_diff = state_vec_noraml.diff(t)\n",
    "\n",
    "state_equations_normal = smp.Matrix([\n",
    "    [D_Dx],\n",
    "    [D_Dthe],\n",
    "    [D_DDx_ss],\n",
    "    [D_DDthe_ss]\n",
    "])\n",
    "\n",
    "disp('State equations')\n",
    "disp(\n",
    "    smp.Eq(\n",
    "        state_vec_noraml_diff,\n",
    "        state_equations_normal\n",
    "    )\n",
    ")\n",
    "\n",
    "state_equations = state_equations_normal.subs([(D_Dx, D_x3),\n",
    "                                               (D_Dthe, D_x4),\n",
    "                                               (D_x, D_x1),\n",
    "                                               (D_the, D_x2)])\n",
    "print('state_equations w x-ach')\n",
    "disp(\n",
    "    smp.Eq(\n",
    "        state_vec.diff(t),\n",
    "        state_equations\n",
    "    )\n",
    ")"
   ]
  },
  {
   "cell_type": "code",
   "execution_count": 56,
   "id": "645b0709-d2cd-414e-9983-ad88c91cb975",
   "metadata": {
    "jupyter": {
     "source_hidden": true
    },
    "tags": []
   },
   "outputs": [
    {
     "data": {
      "text/latex": [
       "$\\dot{\\boldsymbol{x}} = A\\boldsymbol{x} + Bu + HD$"
      ],
      "text/plain": [
       "<IPython.core.display.Latex object>"
      ]
     },
     "execution_count": 56,
     "metadata": {},
     "output_type": "execute_result"
    }
   ],
   "source": [
    "dispLtx(r'$\\dot{\\boldsymbol{x}} = A\\boldsymbol{x} + Bu + HD$')"
   ]
  },
  {
   "cell_type": "code",
   "execution_count": 57,
   "id": "bb2ad37e-60cd-45e6-85f9-58c0ebcb3696",
   "metadata": {
    "jupyter": {
     "source_hidden": true
    },
    "tags": []
   },
   "outputs": [],
   "source": [
    "# zamiana równań stanu na wielomiany (sympy.Poly) żeby można było wyciągnąć \n",
    "# symboliczne współczynniki\n",
    "state_equations = [smp.Poly(state_eq, [D_x1, D_x2, D_x3, D_x4, D_D, D_u]).as_expr() for state_eq in state_equations]"
   ]
  },
  {
   "cell_type": "code",
   "execution_count": 58,
   "id": "3a13e842-c5e4-451e-9a66-99a7bf5ef334",
   "metadata": {
    "jupyter": {
     "source_hidden": true
    },
    "tags": []
   },
   "outputs": [
    {
     "data": {
      "text/plain": [
       "'A:'"
      ]
     },
     "metadata": {},
     "output_type": "display_data"
    },
    {
     "data": {
      "image/png": "[encoded data removed]",
      "text/latex": [
       "$\\displaystyle \\left[\\begin{matrix}0 & 0 & 1 & 0\\\\0 & 0 & 0 & 1\\\\0 & - \\frac{1.0 L M_{t} g m_{r}}{1.0 J_{t} M_{t} - 1.0 L^{2} m_{r}^{2}} & \\frac{- 400.0 L M_{t} g m_{r} \\mu_{s} - 1.0 L b m_{r}}{1.0 J_{t} M_{t} - 1.0 L^{2} m_{r}^{2}} & - \\frac{1.0 M_{t} \\gamma}{1.0 J_{t} M_{t} - 1.0 L^{2} m_{r}^{2}}\\\\0 & - \\frac{1.0 L^{2} g m_{r}^{2}}{1.0 J_{t} M_{t} - 1.0 L^{2} m_{r}^{2}} & \\frac{- 400.0 J_{t} M_{t} g \\mu_{s} - 1.0 J_{t} b}{1.0 J_{t} M_{t} - 1.0 L^{2} m_{r}^{2}} & - \\frac{1.0 L \\gamma m_{r}}{1.0 J_{t} M_{t} - 1.0 L^{2} m_{r}^{2}}\\end{matrix}\\right]$"
      ],
      "text/plain": [
       "⎡0          0                        1                        0         ⎤\n",
       "⎢                                                                       ⎥\n",
       "⎢0          0                        0                        1         ⎥\n",
       "⎢                                                                       ⎥\n",
       "⎢    -1.0⋅L⋅Mₜ⋅g⋅mᵣ     -400.0⋅L⋅Mₜ⋅g⋅mᵣ⋅μₛ - L⋅b⋅mᵣ      -1.0⋅Mₜ⋅γ     ⎥\n",
       "⎢0  ──────────────────  ────────────────────────────  ──────────────────⎥\n",
       "⎢                2   2                    2   2                    2   2⎥\n",
       "⎢   1.0⋅Jₜ⋅Mₜ - L ⋅mᵣ        1.0⋅Jₜ⋅Mₜ - L ⋅mᵣ        1.0⋅Jₜ⋅Mₜ - L ⋅mᵣ ⎥\n",
       "⎢                                                                       ⎥\n",
       "⎢           2     2                                                     ⎥\n",
       "⎢     -1.0⋅L ⋅g⋅mᵣ        -400.0⋅Jₜ⋅Mₜ⋅g⋅μₛ - Jₜ⋅b       -1.0⋅L⋅γ⋅mᵣ    ⎥\n",
       "⎢0  ──────────────────    ────────────────────────    ──────────────────⎥\n",
       "⎢                2   2                    2   2                    2   2⎥\n",
       "⎣   1.0⋅Jₜ⋅Mₜ - L ⋅mᵣ        1.0⋅Jₜ⋅Mₜ - L ⋅mᵣ        1.0⋅Jₜ⋅Mₜ - L ⋅mᵣ ⎦"
      ]
     },
     "metadata": {},
     "output_type": "display_data"
    },
    {
     "data": {
      "text/plain": [
       "'B:'"
      ]
     },
     "metadata": {},
     "output_type": "display_data"
    },
    {
     "data": {
      "image/png": "[encoded data removed]",
      "text/latex": [
       "$\\displaystyle \\left[\\begin{matrix}0\\\\0\\\\\\frac{1.0 L m_{r}}{1.0 J_{t} M_{t} - 1.0 L^{2} m_{r}^{2}}\\\\\\frac{1.0 J_{t}}{1.0 J_{t} M_{t} - 1.0 L^{2} m_{r}^{2}}\\end{matrix}\\right]$"
      ],
      "text/plain": [
       "⎡        0         ⎤\n",
       "⎢                  ⎥\n",
       "⎢        0         ⎥\n",
       "⎢                  ⎥\n",
       "⎢     1.0⋅L⋅mᵣ     ⎥\n",
       "⎢──────────────────⎥\n",
       "⎢             2   2⎥\n",
       "⎢1.0⋅Jₜ⋅Mₜ - L ⋅mᵣ ⎥\n",
       "⎢                  ⎥\n",
       "⎢      1.0⋅Jₜ      ⎥\n",
       "⎢──────────────────⎥\n",
       "⎢             2   2⎥\n",
       "⎣1.0⋅Jₜ⋅Mₜ - L ⋅mᵣ ⎦"
      ]
     },
     "metadata": {},
     "output_type": "display_data"
    },
    {
     "data": {
      "text/plain": [
       "'H:'"
      ]
     },
     "metadata": {},
     "output_type": "display_data"
    },
    {
     "data": {
      "image/png": "[encoded data removed]",
      "text/latex": [
       "$\\displaystyle \\left[\\begin{matrix}0\\\\0\\\\\\frac{- 1.0 L m_{r} + 1.0 L_{c} M_{t}}{1.0 J_{t} M_{t} - 1.0 L^{2} m_{r}^{2}}\\\\\\frac{- 1.0 J_{t} + 1.0 L L_{c} m_{r}}{1.0 J_{t} M_{t} - 1.0 L^{2} m_{r}^{2}}\\end{matrix}\\right]$"
      ],
      "text/plain": [
       "⎡        0         ⎤\n",
       "⎢                  ⎥\n",
       "⎢        0         ⎥\n",
       "⎢                  ⎥\n",
       "⎢-L⋅mᵣ + 1.0⋅L_c⋅Mₜ⎥\n",
       "⎢──────────────────⎥\n",
       "⎢             2   2⎥\n",
       "⎢1.0⋅Jₜ⋅Mₜ - L ⋅mᵣ ⎥\n",
       "⎢                  ⎥\n",
       "⎢-Jₜ + 1.0⋅L⋅L_c⋅mᵣ⎥\n",
       "⎢──────────────────⎥\n",
       "⎢             2   2⎥\n",
       "⎣1.0⋅Jₜ⋅Mₜ - L ⋅mᵣ ⎦"
      ]
     },
     "metadata": {},
     "output_type": "display_data"
    }
   ],
   "source": [
    "# równania zapisane w postaci wektorowo-macierzowej\n",
    "# x_dot = Ax + Bu + HD\n",
    "# macierz mnożąca wektor stanu\n",
    "A = smp.Matrix([\n",
    "    [ state_equations[0].coeff(D_x1), state_equations[0].coeff(D_x2), state_equations[0].coeff(D_x3), state_equations[0].coeff(D_x4) ],\n",
    "    [ state_equations[1].coeff(D_x1), state_equations[1].coeff(D_x2), state_equations[1].coeff(D_x3), state_equations[1].coeff(D_x4) ],\n",
    "    [ state_equations[2].coeff(D_x1), state_equations[2].coeff(D_x2), state_equations[2].coeff(D_x3), state_equations[2].coeff(D_x4) ],\n",
    "    [ state_equations[3].coeff(D_x1), state_equations[3].coeff(D_x2), state_equations[3].coeff(D_x3), state_equations[3].coeff(D_x4) ]\n",
    "])\n",
    "# dispLtx(r'$\\dot{\\boldsymbol{x}} = A\\boldsymbol{x} + Bu + HD$')\n",
    "disp('A:')\n",
    "disp(A)\n",
    "# macierz mnożąca wymuszenie\n",
    "B = smp.Matrix([\n",
    "    [0],\n",
    "    [0],\n",
    "    [state_equations[2].coeff(D_u)],\n",
    "    [state_equations[3].coeff(D_u)]\n",
    "])\n",
    "disp('B:')\n",
    "disp(B)\n",
    "# macierz mnożąca sygnał zakłuceń\n",
    "H = smp.Matrix([\n",
    "    [0],\n",
    "    [0],\n",
    "    [state_equations[2].coeff(D_D)],\n",
    "    [state_equations[3].coeff(D_D)]\n",
    "]) \n",
    "disp('H:')\n",
    "disp(H)"
   ]
  },
  {
   "cell_type": "markdown",
   "id": "32135a06-210f-41f6-b89b-b13ae8df5b4e",
   "metadata": {},
   "source": [
    "#"
   ]
  },
  {
   "cell_type": "code",
   "execution_count": 63,
   "id": "facfb7ec-45c7-405e-8463-5d73b0f5ef68",
   "metadata": {
    "tags": []
   },
   "outputs": [
    {
     "name": "stderr",
     "output_type": "stream",
     "text": [
      "[NbConvertApp] Converting notebook .\\o7_linearyzacja.ipynb to html\n",
      "[NbConvertApp] Writing 642004 bytes to o7_linearyzacja.html\n"
     ]
    }
   ],
   "source": [
    "! jupyter nbconvert --to html --TemplateExporter.exclude_input=True  .\\o7_linearyzacja.ipynb"
   ]
  }
 ],
 "metadata": {
  "kernelspec": {
   "display_name": "systemsKer",
   "language": "python",
   "name": "systems"
  },
  "language_info": {
   "codemirror_mode": {
    "name": "ipython",
    "version": 3
   },
   "file_extension": ".py",
   "mimetype": "text/x-python",
   "name": "python",
   "nbconvert_exporter": "python",
   "pygments_lexer": "ipython3",
   "version": "3.9.16"
  }
 },
 "nbformat": 4,
 "nbformat_minor": 5
}
