{
 "cells": [
  {
   "cell_type": "markdown",
   "metadata": {},
   "source": [
    "# <b> Podstawowy model w uwikładnej formie"
   ]
  },
  {
   "cell_type": "markdown",
   "metadata": {},
   "source": [
    "Wyprowadzenie dla alfa = theta\n",
    "\n",
    "czyli dla D zawsze prostopadle pręta\n",
    "\n",
    "ramię wahadła = pręt wahadła + dodatkowa masa"
   ]
  },
  {
   "cell_type": "markdown",
   "metadata": {},
   "source": [
    "<b> W kolejnych skryptach zmieniłem oznaczenie siły przyłożonej do wózka z \"u\" na na \"F_i\"\n"
   ]
  },
  {
   "cell_type": "markdown",
   "metadata": {},
   "source": [
    "<!-- <img src=\"./obrazek.png\" alt=\"obrazek\" width=\"900\" /> -->\n",
    "<img src=\"https://drive.google.com/uc?id=16dXZdH0UexIBEzQbP6IXG3t7t-ojXDNg\" width=\"900\"> \n"
   ]
  },
  {
   "cell_type": "code",
   "execution_count": 1,
   "metadata": {
    "jupyter": {
     "source_hidden": true
    },
    "tags": []
   },
   "outputs": [],
   "source": [
    "from IPython.display import display as disp\n",
    "from IPython.display import Math as math\n",
    "\n",
    "import numpy as np\n",
    "from sympy import symbols, cos, sin\n",
    "import sympy as smp\n",
    "from scipy.integrate import odeint\n",
    "import matplotlib.pyplot as plt\n",
    "\n",
    "# sympy.physics : https://stackoverflow.com/questions/25346132/is-it-possible-to-implement-newtons-dot-notation-or-lagranges-prime-notation\n",
    "# Newtown notation for derivatives (dot notation)\n",
    "from sympy.physics.mechanics import dynamicsymbols, init_vprinting\n",
    "\n",
    "init_vprinting() \n",
    "\n",
    "# Implicitly creates r, d as functions of time\n",
    "# a, b = dynamicsymbols('r d')    \n",
    "\n",
    "from sympy import print_latex\n",
    "\n",
    "from IPython.display import Markdown as md"
   ]
  },
  {
   "cell_type": "code",
   "execution_count": 2,
   "metadata": {
    "tags": []
   },
   "outputs": [],
   "source": [
    "# Symbols\n",
    "m_r, m_p, m_c, M, gamma, b, g, J_cm, L_c, L_p, L = symbols('m_r m_p m_c M gamma b g J_{cm} L_c L_p, L')\n",
    "t = symbols('t')\n",
    "\n",
    "# Functions\n",
    "x, y, u, xcm, ycm = symbols('x y u x_{cm} y_{cm}', cls=smp.Function)\n",
    "theta = symbols('theta', cls=smp.Function)\n",
    "\n",
    "# Disturbances\n",
    "D = smp.symbols('D', cls=smp.Symbol)\n",
    "alpha = smp.symbols('alpha', cls=smp.Function)\n",
    "alpha = alpha(t)\n",
    "\n",
    "x = x(t)\n",
    "y = y(t)\n",
    "u = u(t)\n",
    "xcm = xcm(t)\n",
    "ycm = ycm(t)\n",
    "theta = theta(t)\n",
    "\n",
    "# Other\n",
    "Rx, Ry = symbols('R_x R_y')\n",
    "\n",
    "# Derivatives\n",
    "Dx = x.diff(t, 1)\n",
    "DDx = x.diff(t, 2)"
   ]
  },
  {
   "cell_type": "markdown",
   "metadata": {},
   "source": [
    "## <b>1. Równowaga sił na wózku\n",
    "$M\\ddot{x} = F - F_f - R_x$\\\n",
    "$F = u$"
   ]
  },
  {
   "cell_type": "code",
   "execution_count": 3,
   "metadata": {
    "tags": []
   },
   "outputs": [],
   "source": [
    "# friction force symbol\n",
    "F_f = smp.symbols('F_f')"
   ]
  },
  {
   "cell_type": "code",
   "execution_count": 4,
   "metadata": {
    "collapsed": true,
    "jupyter": {
     "outputs_hidden": true
    },
    "tags": []
   },
   "outputs": [
    {
     "data": {
      "image/png": "[encoded data removed]",
      "text/latex": [
       "$\\displaystyle M \\ddot{x} = - F_{f} - R_{x} + u$"
      ],
      "text/plain": [
       "M⋅ẍ = -F_f - Rₓ + u"
      ]
     },
     "metadata": {},
     "output_type": "display_data"
    }
   ],
   "source": [
    "lhs = M*DDx\n",
    "rhs = u - F_f - Rx\n",
    "\n",
    "f_trolley_eq = smp.Eq(lhs=lhs, rhs=rhs)\n",
    "\n",
    "disp(f_trolley_eq)"
   ]
  },
  {
   "cell_type": "markdown",
   "metadata": {},
   "source": [
    "## <b> L - Odległość środka ciężkości ramienia wahadła od osi obrotu\n",
    "$L = L_{cm} = \\frac{m_cL_c + m_pL_p}{m_c+m_p} = \\frac{m_cL_c + m_pL_p}{m_r}$\\\n",
    "$m_r = m_c + m_p$"
   ]
  },
  {
   "cell_type": "code",
   "execution_count": 6,
   "metadata": {
    "tags": []
   },
   "outputs": [
    {
     "data": {
      "image/png": "[encoded data removed]",
      "text/latex": [
       "$\\displaystyle \\frac{L_{c} m_{c} + L_{p} m_{p}}{m_{r}}$"
      ],
      "text/plain": [
       "L_c⋅m_c + Lₚ⋅mₚ\n",
       "───────────────\n",
       "       mᵣ      "
      ]
     },
     "execution_count": 6,
     "metadata": {},
     "output_type": "execute_result"
    }
   ],
   "source": [
    "L_cm_ramienia = (m_c*L_c + m_p*L_p) / (m_r) \n",
    "L_cm_ramienia"
   ]
  },
  {
   "cell_type": "markdown",
   "metadata": {},
   "source": [
    "## <b> Położenie środka ciężkości ramienia\n",
    "$P_{cm} = (x_{cm}, y_{cm})$\\\n",
    "$x_{cm} = x + L\\sin(\\theta)$\\\n",
    "$y_{cm} = L\\cos(\\theta)$"
   ]
  },
  {
   "cell_type": "code",
   "execution_count": 7,
   "metadata": {
    "tags": []
   },
   "outputs": [
    {
     "data": {
      "image/png": "[encoded data removed]",
      "text/latex": [
       "$\\displaystyle L \\sin{\\left(\\theta \\right)} + x$"
      ],
      "text/plain": [
       "L⋅sin(θ) + x"
      ]
     },
     "metadata": {},
     "output_type": "display_data"
    },
    {
     "data": {
      "image/png": "[encoded data removed]",
      "text/latex": [
       "$\\displaystyle L \\cos{\\left(\\theta \\right)}$"
      ],
      "text/plain": [
       "L⋅cos(θ)"
      ]
     },
     "metadata": {},
     "output_type": "display_data"
    }
   ],
   "source": [
    "xcm = x+L*sin(theta)\n",
    "ycm = L*cos(theta)\n",
    "\n",
    "disp(xcm)\n",
    "disp(ycm)"
   ]
  },
  {
   "cell_type": "markdown",
   "metadata": {
    "tags": []
   },
   "source": [
    "## <b>Równowaga sił działających na ramię wahadła\n",
    "$m_r\\ddot{x}_{cm} = R_x + D\\cos(\\theta)$\\\n",
    "$m_r\\ddot{y}_{cm} = R_y - m_rg - D\\sin(\\theta)$\n"
   ]
  },
  {
   "cell_type": "code",
   "execution_count": 8,
   "metadata": {
    "tags": []
   },
   "outputs": [
    {
     "data": {
      "image/png": "[encoded data removed]",
      "text/latex": [
       "$\\displaystyle R_{x} = - D \\cos{\\left(\\theta \\right)} - L m_{r} \\sin{\\left(\\theta \\right)} \\dot{\\theta}^{2} + L m_{r} \\cos{\\left(\\theta \\right)} \\ddot{\\theta} + m_{r} \\ddot{x}$"
      ],
      "text/plain": [
       "                              2                       \n",
       "Rₓ = -D⋅cos(θ) - L⋅mᵣ⋅sin(θ)⋅θ̇  + L⋅mᵣ⋅cos(θ)⋅θ̈ + mᵣ⋅ẍ"
      ]
     },
     "metadata": {},
     "output_type": "display_data"
    },
    {
     "data": {
      "image/png": "[encoded data removed]",
      "text/latex": [
       "$\\displaystyle R_{y} = D \\sin{\\left(\\theta \\right)} - L m_{r} \\sin{\\left(\\theta \\right)} \\ddot{\\theta} - L m_{r} \\cos{\\left(\\theta \\right)} \\dot{\\theta}^{2} + g m_{r}$"
      ],
      "text/plain": [
       "                                              2       \n",
       "R_y = D⋅sin(θ) - L⋅mᵣ⋅sin(θ)⋅θ̈ - L⋅mᵣ⋅cos(θ)⋅θ̇  + g⋅mᵣ"
      ]
     },
     "metadata": {},
     "output_type": "display_data"
    }
   ],
   "source": [
    "Dx_cm = xcm.diff(t, 1)\n",
    "DDx_cm = xcm.diff(t, 2)\n",
    "DDy_cm = ycm.diff(t, 2)\n",
    "\n",
    "Rx_expr = m_r * DDx_cm - D*cos(theta)\n",
    "Ry_expr = m_r * DDy_cm + m_r*g + D*sin(theta)\n",
    "\n",
    "# print('Rx EXPR:')\n",
    "# disp(Rx_expr)\n",
    "disp(smp.Eq(Rx, Rx_expr).doit().expand())\n",
    "# print('RX LATEX CODE:')\n",
    "# print_latex(Rx_res)\n",
    "\n",
    "# print('Ry EXPR:')\n",
    "# disp(Ry_expr)\n",
    "disp(smp.Eq(Ry, Ry_expr).doit().expand())\n",
    "# print('RY LATEX CODE')\n",
    "# print_latex(Ry_res)\n"
   ]
  },
  {
   "cell_type": "code",
   "execution_count": 9,
   "metadata": {
    "tags": []
   },
   "outputs": [
    {
     "data": {
      "image/png": "[encoded data removed]",
      "text/latex": [
       "$\\displaystyle L \\sin{\\left(\\theta \\right)} + x$"
      ],
      "text/plain": [
       "L⋅sin(θ) + x"
      ]
     },
     "execution_count": 9,
     "metadata": {},
     "output_type": "execute_result"
    }
   ],
   "source": [
    "xcm"
   ]
  },
  {
   "cell_type": "markdown",
   "metadata": {
    "tags": []
   },
   "source": [
    "## <b> Momenty sił działających na ramię wahadła względem jego środka ciężkości\n",
    "$J_{cm}\\ddot{\\theta} = LR_y\\sin(\\theta) - LR_x\\cos(\\theta) - \\gamma\\ddot{\\theta} + m_c g \\sin(\\theta)[L_c-L] - m_p g\\sin(\\theta)[L-L_p] + D(L_c-L)$\n"
   ]
  },
  {
   "cell_type": "code",
   "execution_count": 10,
   "metadata": {
    "tags": []
   },
   "outputs": [
    {
     "data": {
      "image/png": "[encoded data removed]",
      "text/latex": [
       "$\\displaystyle J_{cm} \\ddot{\\theta} = D \\left(- L + L_{c}\\right) - L R_{x} \\cos{\\left(\\theta \\right)} + L R_{y} \\sin{\\left(\\theta \\right)} + g m_{c} \\left(- L + L_{c}\\right) \\sin{\\left(\\theta \\right)} - g m_{p} \\left(L - L_{p}\\right) \\sin{\\left(\\theta \\right)} - \\gamma \\dot{\\theta}$"
      ],
      "text/plain": [
       "J_{cm}⋅θ̈ = D⋅(-L + L_c) - L⋅Rₓ⋅cos(θ) + L⋅R_y⋅sin(θ) + g⋅m_c⋅(-L + L_c)⋅sin(θ\n",
       ") - g⋅mₚ⋅(L - Lₚ)⋅sin(θ) - γ⋅θ̇"
      ]
     },
     "execution_count": 10,
     "metadata": {},
     "output_type": "execute_result"
    }
   ],
   "source": [
    "Dtheta = theta.diff(t, 1)\n",
    "DDtheta = theta.diff(t, 2)\n",
    "\n",
    "lhs = J_cm*DDtheta\n",
    "rhs = L*Ry*sin(theta) - L*Rx*cos(theta) - gamma*Dtheta + m_c*g*sin(theta)*(L_c-L) - m_p*g*sin(theta)*(L-L_p) + D*(L_c-L)\n",
    "bilans_momentow = smp.Eq(lhs=lhs, rhs=rhs)\n",
    "bilans_momentow"
   ]
  },
  {
   "cell_type": "code",
   "execution_count": 14,
   "metadata": {
    "tags": []
   },
   "outputs": [
    {
     "name": "stdout",
     "output_type": "stream",
     "text": [
      "-----------------------------------\n",
      "1. f_trolley_eq\n"
     ]
    },
    {
     "data": {
      "image/png": "[encoded data removed]",
      "text/latex": [
       "$\\displaystyle M \\ddot{x} = D \\cos{\\left(\\theta \\right)} - F_{f} + L m_{r} \\sin{\\left(\\theta \\right)} \\dot{\\theta}^{2} - L m_{r} \\cos{\\left(\\theta \\right)} \\ddot{\\theta} - m_{r} \\ddot{x} + u$"
      ],
      "text/plain": [
       "                                    2                           \n",
       "M⋅ẍ = D⋅cos(θ) - F_f + L⋅mᵣ⋅sin(θ)⋅θ̇  - L⋅mᵣ⋅cos(θ)⋅θ̈ - mᵣ⋅ẍ + u"
      ]
     },
     "metadata": {},
     "output_type": "display_data"
    },
    {
     "name": "stdout",
     "output_type": "stream",
     "text": [
      "2. bilans_momentów\n"
     ]
    },
    {
     "data": {
      "image/png": "[encoded data removed]",
      "text/latex": [
       "$\\displaystyle J_{cm} \\ddot{\\theta} = D L \\sin^{2}{\\left(\\theta \\right)} + D L \\cos^{2}{\\left(\\theta \\right)} - D L + D L_{c} - L^{2} m_{r} \\sin^{2}{\\left(\\theta \\right)} \\ddot{\\theta} - L^{2} m_{r} \\cos^{2}{\\left(\\theta \\right)} \\ddot{\\theta} - L g m_{c} \\sin{\\left(\\theta \\right)} - L g m_{p} \\sin{\\left(\\theta \\right)} + L g m_{r} \\sin{\\left(\\theta \\right)} - L m_{r} \\cos{\\left(\\theta \\right)} \\ddot{x} + L_{c} g m_{c} \\sin{\\left(\\theta \\right)} + L_{p} g m_{p} \\sin{\\left(\\theta \\right)} - \\gamma \\dot{\\theta}$"
      ],
      "text/plain": [
       "                  2             2                     2       2         2     \n",
       "J_{cm}⋅θ̈ = D⋅L⋅sin (θ) + D⋅L⋅cos (θ) - D⋅L + D⋅L_c - L ⋅mᵣ⋅sin (θ)⋅θ̈ - L ⋅mᵣ\n",
       "\n",
       "  2                                                                           \n",
       "⋅cos (θ)⋅θ̈ - L⋅g⋅m_c⋅sin(θ) - L⋅g⋅mₚ⋅sin(θ) + L⋅g⋅mᵣ⋅sin(θ) - L⋅mᵣ⋅cos(θ)⋅ẍ \n",
       "\n",
       "                                     \n",
       "+ L_c⋅g⋅m_c⋅sin(θ) + Lₚ⋅g⋅mₚ⋅sin(θ) - γ⋅θ̇"
      ]
     },
     "metadata": {},
     "output_type": "display_data"
    },
    {
     "name": "stdout",
     "output_type": "stream",
     "text": [
      "3. Reaction forces\n"
     ]
    },
    {
     "data": {
      "image/png": "[encoded data removed]",
      "text/latex": [
       "$\\displaystyle R_{x} = - D \\cos{\\left(\\theta \\right)} + m_{r} \\left(- L \\sin{\\left(\\theta \\right)} \\dot{\\theta}^{2} + L \\cos{\\left(\\theta \\right)} \\ddot{\\theta} + \\ddot{x}\\right)$"
      ],
      "text/plain": [
       "                    ⎛            2                 ⎞\n",
       "Rₓ = -D⋅cos(θ) + mᵣ⋅⎝- L⋅sin(θ)⋅θ̇  + L⋅cos(θ)⋅θ̈ + ẍ⎠"
      ]
     },
     "metadata": {},
     "output_type": "display_data"
    },
    {
     "data": {
      "image/png": "[encoded data removed]",
      "text/latex": [
       "$\\displaystyle R_{y} = D \\sin{\\left(\\theta \\right)} - L m_{r} \\left(\\sin{\\left(\\theta \\right)} \\ddot{\\theta} + \\cos{\\left(\\theta \\right)} \\dot{\\theta}^{2}\\right) + g m_{r}$"
      ],
      "text/plain": [
       "                      ⎛                   2⎞       \n",
       "R_y = D⋅sin(θ) - L⋅mᵣ⋅⎝sin(θ)⋅θ̈ + cos(θ)⋅θ̇ ⎠ + g⋅mᵣ"
      ]
     },
     "metadata": {},
     "output_type": "display_data"
    }
   ],
   "source": [
    "print('-----------------------------------')\n",
    "print('1. f_trolley_eq') \n",
    "f_trolley_eq = f_trolley_eq.expand()\n",
    "disp(f_trolley_eq)\n",
    "print('2. bilans_momentów')\n",
    "bilans_momentow = bilans_momentow.expand()\n",
    "disp(bilans_momentow)\n",
    "print('3. Reaction forces')\n",
    "disp(smp.Eq(Rx, Rx_expr))\n",
    "disp(smp.Eq(Ry, Ry_expr))"
   ]
  },
  {
   "cell_type": "code",
   "execution_count": 15,
   "metadata": {
    "tags": []
   },
   "outputs": [
    {
     "data": {
      "image/png": "[encoded data removed]",
      "text/latex": [
       "$\\displaystyle M \\ddot{x} = D \\cos{\\left(\\theta \\right)} - F_{f} + L m_{r} \\sin{\\left(\\theta \\right)} \\dot{\\theta}^{2} - L m_{r} \\cos{\\left(\\theta \\right)} \\ddot{\\theta} - m_{r} \\ddot{x} + u$"
      ],
      "text/plain": [
       "                                    2                           \n",
       "M⋅ẍ = D⋅cos(θ) - F_f + L⋅mᵣ⋅sin(θ)⋅θ̇  - L⋅mᵣ⋅cos(θ)⋅θ̈ - mᵣ⋅ẍ + u"
      ]
     },
     "execution_count": 15,
     "metadata": {},
     "output_type": "execute_result"
    }
   ],
   "source": [
    "f_trolley_eq = f_trolley_eq.subs([(Rx, Rx_expr),\n",
    "                                  (Ry, Ry_expr)])\n",
    "f_trolley_eq.expand()"
   ]
  },
  {
   "cell_type": "code",
   "execution_count": 16,
   "metadata": {
    "tags": []
   },
   "outputs": [
    {
     "data": {
      "image/png": "[encoded data removed]",
      "text/latex": [
       "$\\displaystyle J_{cm} \\ddot{\\theta} = D L_{c} - L^{2} m_{r} \\ddot{\\theta} - L g m_{c} \\sin{\\left(\\theta \\right)} - L g m_{p} \\sin{\\left(\\theta \\right)} + L g m_{r} \\sin{\\left(\\theta \\right)} - L m_{r} \\cos{\\left(\\theta \\right)} \\ddot{x} + L_{c} g m_{c} \\sin{\\left(\\theta \\right)} + L_{p} g m_{p} \\sin{\\left(\\theta \\right)} - \\gamma \\dot{\\theta}$"
      ],
      "text/plain": [
       "                    2                                                         \n",
       "J_{cm}⋅θ̈ = D⋅L_c - L ⋅mᵣ⋅θ̈ - L⋅g⋅m_c⋅sin(θ) - L⋅g⋅mₚ⋅sin(θ) + L⋅g⋅mᵣ⋅sin(θ) \n",
       "\n",
       "                                                       \n",
       "- L⋅mᵣ⋅cos(θ)⋅ẍ + L_c⋅g⋅m_c⋅sin(θ) + Lₚ⋅g⋅mₚ⋅sin(θ) - γ⋅θ̇"
      ]
     },
     "execution_count": 16,
     "metadata": {},
     "output_type": "execute_result"
    }
   ],
   "source": [
    "bilans_momentow = bilans_momentow.subs([(Rx, Rx_expr),\n",
    "                                        (Ry, Ry_expr)])\n",
    "bilans_momentow.simplify().expand()"
   ]
  },
  {
   "cell_type": "code",
   "execution_count": 17,
   "metadata": {
    "tags": []
   },
   "outputs": [
    {
     "name": "stdout",
     "output_type": "stream",
     "text": [
      "Torques expanded:\n"
     ]
    },
    {
     "data": {
      "image/png": "[encoded data removed]",
      "text/latex": [
       "$\\displaystyle J_{cm} \\ddot{\\theta} = D L_{c} - L^{2} m_{c} \\ddot{\\theta} - L^{2} m_{p} \\ddot{\\theta} - L m_{c} \\cos{\\left(\\theta \\right)} \\ddot{x} - L m_{p} \\cos{\\left(\\theta \\right)} \\ddot{x} + L_{c} g m_{c} \\sin{\\left(\\theta \\right)} + L_{p} g m_{p} \\sin{\\left(\\theta \\right)} - \\gamma \\dot{\\theta}$"
      ],
      "text/plain": [
       "                    2          2                                              \n",
       "J_{cm}⋅θ̈ = D⋅L_c - L ⋅m_c⋅θ̈ - L ⋅mₚ⋅θ̈ - L⋅m_c⋅cos(θ)⋅ẍ - L⋅mₚ⋅cos(θ)⋅ẍ + \n",
       "\n",
       "                                  \n",
       "L_c⋅g⋅m_c⋅sin(θ) + Lₚ⋅g⋅mₚ⋅sin(θ) - γ⋅θ̇"
      ]
     },
     "execution_count": 17,
     "metadata": {},
     "output_type": "execute_result"
    }
   ],
   "source": [
    "print('Torques expanded:')\n",
    "bilans_momentow.subs(m_r, m_c+m_p).expand().simplify()"
   ]
  },
  {
   "cell_type": "code",
   "execution_count": 18,
   "metadata": {
    "tags": []
   },
   "outputs": [],
   "source": [
    "J_cm_calosciowe = smp.Rational(1, 3)*m_p*(2*L_p)**2 + m_c*L_c**2 - m_r*L**2"
   ]
  },
  {
   "cell_type": "code",
   "execution_count": 19,
   "metadata": {
    "tags": []
   },
   "outputs": [
    {
     "data": {
      "image/png": "[encoded data removed]",
      "text/latex": [
       "$\\displaystyle - L^{2} m_{r} + L_{c}^{2} m_{c} + \\frac{4 L_{p}^{2} m_{p}}{3}$"
      ],
      "text/plain": [
       "                         2   \n",
       "   2         2       4⋅Lₚ ⋅mₚ\n",
       "- L ⋅mᵣ + L_c ⋅m_c + ────────\n",
       "                        3    "
      ]
     },
     "execution_count": 19,
     "metadata": {},
     "output_type": "execute_result"
    }
   ],
   "source": [
    "J_cm_calosciowe"
   ]
  },
  {
   "cell_type": "code",
   "execution_count": 20,
   "metadata": {
    "tags": []
   },
   "outputs": [
    {
     "data": {
      "image/png": "[encoded data removed]",
      "text/latex": [
       "$\\displaystyle J_{cm} = L_{c}^{2} m_{c} + \\frac{4 L_{p}^{2} m_{p}}{3} - \\frac{\\left(L_{c} m_{c} + L_{p} m_{p}\\right)^{2}}{m_{r}}$"
      ],
      "text/plain": [
       "                        2                       2\n",
       "            2       4⋅Lₚ ⋅mₚ   (L_c⋅m_c + Lₚ⋅mₚ) \n",
       "J_{cm} = L_c ⋅m_c + ──────── - ──────────────────\n",
       "                       3               mᵣ        "
      ]
     },
     "execution_count": 20,
     "metadata": {},
     "output_type": "execute_result"
    }
   ],
   "source": [
    "J_cm_calosciowe = J_cm_calosciowe.subs(L, L_cm_ramienia)\n",
    "\n",
    "smp.Eq(\n",
    "    J_cm,\n",
    "    J_cm_calosciowe\n",
    ")"
   ]
  },
  {
   "cell_type": "code",
   "execution_count": 21,
   "metadata": {
    "tags": []
   },
   "outputs": [
    {
     "data": {
      "image/png": "[encoded data removed]",
      "text/latex": [
       "$\\displaystyle J_{cm} = \\frac{L_{p}^{2} \\cdot \\left(\\frac{4 m_{r} \\left(3 m_{c} + m_{p}\\right)}{3} - \\left(2 m_{c} + m_{p}\\right)^{2}\\right)}{m_{r}}$"
      ],
      "text/plain": [
       "           2 ⎛4⋅mᵣ⋅(3⋅m_c + mₚ)               2⎞\n",
       "         Lₚ ⋅⎜───────────────── - (2⋅m_c + mₚ) ⎟\n",
       "             ⎝        3                        ⎠\n",
       "J_{cm} = ───────────────────────────────────────\n",
       "                            mᵣ                  "
      ]
     },
     "execution_count": 21,
     "metadata": {},
     "output_type": "execute_result"
    }
   ],
   "source": [
    "# Lc = 2Lp\n",
    "J_cm_calosciowe_mc_na_koncu = J_cm_calosciowe.subs(L_c, 2*L_p)\n",
    "smp.Eq(\n",
    "    J_cm,\n",
    "    J_cm_calosciowe_mc_na_koncu\n",
    ").simplify()"
   ]
  },
  {
   "cell_type": "code",
   "execution_count": 22,
   "metadata": {
    "tags": []
   },
   "outputs": [
    {
     "data": {
      "image/png": "[encoded data removed]",
      "text/latex": [
       "$\\displaystyle - \\frac{4 L_{p}^{2} m_{c}^{2}}{m_{r}} - \\frac{4 L_{p}^{2} m_{c} m_{p}}{m_{r}} + 4 L_{p}^{2} m_{c} - \\frac{L_{p}^{2} m_{p}^{2}}{m_{r}} + \\frac{4 L_{p}^{2} m_{p}}{3}$"
      ],
      "text/plain": [
       "      2    2       2                        2   2       2   \n",
       "  4⋅Lₚ ⋅m_c    4⋅Lₚ ⋅m_c⋅mₚ       2       Lₚ ⋅mₚ    4⋅Lₚ ⋅mₚ\n",
       "- ────────── - ──────────── + 4⋅Lₚ ⋅m_c - ─────── + ────────\n",
       "      mᵣ            mᵣ                       mᵣ        3    "
      ]
     },
     "execution_count": 22,
     "metadata": {},
     "output_type": "execute_result"
    }
   ],
   "source": [
    "J_cm_calosciowe_mc_na_koncu.expand()"
   ]
  },
  {
   "cell_type": "markdown",
   "metadata": {},
   "source": [
    "## <b> Wyniki\n",
    "\n",
    "\\begin{equation}\n",
    "    (M + m_r) \\ddot{x} + Lm_rcos(\\theta)\\ddot{\\theta} + F_f -Lm_r\\sin(\\theta)\\dot{\\theta}^2 \n",
    "    -u - D\\cos(\\theta) = 0\n",
    "\\end{equation}\n",
    "\n",
    "\\begin{equation}\n",
    "    (J_{cm} + m_rL^2)\\ddot{\\theta} + m_rL\\cos(\\theta)\\ddot{x} + \\gamma\\dot{\\theta} - m_rgL\\sin(\\theta)\n",
    "    + L_c D = 0\n",
    "\\end{equation}"
   ]
  },
  {
   "cell_type": "markdown",
   "metadata": {},
   "source": [
    "$$\\boldsymbol{F}(\\ddot{x}, \\dot{x}, \\ddot{\\theta}, \\dot{\\theta}, \\theta, u, D) = 0$$\n",
    "$$F_f = F_f(\\dot{x})$$"
   ]
  },
  {
   "cell_type": "markdown",
   "metadata": {},
   "source": [
    "\n",
    "\\begin{equation}\n",
    "    \\begin{split}\n",
    "        & L = \\frac{L_pm_p + L_cm_c}{m_r} \\\\\n",
    "        & m_r = m_p + m_c \\\\\n",
    "        & m_r = m_p + m_c \\\\\n",
    "        & M_t = M+m_r \\\\\n",
    "        & J_t = J_{cm} + m_rL^2 \\\\\n",
    "        & J_{cm} = \\frac{4}{3}m_p L_p^2 + m_cL_c^2 -L^2m_r \\\\\n",
    "        & J_{cm} = \\frac{L_p^2}{m_r} \\left[\\frac{4}{3} m_r (3m_c + m_p) - (2m_c + m_p)^2 \\right]\n",
    "    \\end{split}\n",
    "\\end{equation}"
   ]
  },
  {
   "cell_type": "markdown",
   "metadata": {},
   "source": [
    "    \n",
    "\\begin{equation}\n",
    "    \\begin{bmatrix}\n",
    "        M_t & m_rL\\cos(\\theta)\\\\\n",
    "        m_rL\\cos(\\theta) & J_t \n",
    "    \\end{bmatrix}\n",
    "    \\begin{bmatrix}\n",
    "        \\ddot{x}\\\\\n",
    "        \\ddot{\\theta}\n",
    "    \\end{bmatrix}\n",
    "    +\n",
    "    \\begin{bmatrix}\n",
    "        F_f - Lm_r\\sin(\\theta)\\dot{\\theta}^2\\\\\n",
    "        \\gamma\\dot{\\theta} - m_r g L\\sin(\\theta)\n",
    "    \\end{bmatrix}\n",
    "    +\n",
    "    \\begin{bmatrix}\n",
    "        -u\\\\\n",
    "        0\n",
    "    \\end{bmatrix}\n",
    "    +\n",
    "    \\begin{bmatrix}\n",
    "        -D\\cos(\\theta)\\\\\n",
    "        -L_c D\n",
    "    \\end{bmatrix}\n",
    "    =\n",
    "    0\n",
    "\\end{equation}"
   ]
  },
  {
   "cell_type": "markdown",
   "metadata": {},
   "source": [
    "\n",
    "\\begin{equation}\n",
    "    AB+C+D+E = 0\n",
    "\\end{equation}"
   ]
  },
  {
   "cell_type": "markdown",
   "metadata": {},
   "source": [
    "$\\ddot{x}, \\ddot{\\theta}$ can be calculated as follows\n",
    "\\begin{equation}\n",
    "    \\begin{bmatrix}\n",
    "        \\ddot{x}\\\\\n",
    "        \\ddot{\\theta}\n",
    "    \\end{bmatrix}\n",
    "    =\n",
    "    B\n",
    "    =\n",
    "    -A^{-1}\n",
    "    \\left(\n",
    "    C+D+E\n",
    "    \\right)\n",
    "\\end{equation}"
   ]
  }
 ],
 "metadata": {
  "kernelspec": {
   "display_name": "systemsKer",
   "language": "python",
   "name": "systems"
  },
  "language_info": {
   "codemirror_mode": {
    "name": "ipython",
    "version": 3
   },
   "file_extension": ".py",
   "mimetype": "text/x-python",
   "name": "python",
   "nbconvert_exporter": "python",
   "pygments_lexer": "ipython3",
   "version": "3.9.16"
  },
  "vscode": {
   "interpreter": {
    "hash": "1a1644aade9e1d826661d79d97f8a96b3be37f68f2e7d0bbeb3d255db6365bb8"
   }
  }
 },
 "nbformat": 4,
 "nbformat_minor": 4
}
