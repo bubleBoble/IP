{
 "cells": [
  {
   "cell_type": "markdown",
   "id": "64acf5bb-2bbf-4d29-a207-f2d25380b252",
   "metadata": {},
   "source": [
    "### <b> Skrypt tylko do pomocy\\\n",
    "do wyprowadzenia długich podstawień"
   ]
  },
  {
   "cell_type": "code",
   "execution_count": 1,
   "id": "19a33b47-eafb-46c5-a7d5-59ce6c5a096e",
   "metadata": {
    "tags": []
   },
   "outputs": [],
   "source": [
    "import numpy as np\n",
    "from sympy import symbols, cos, sin\n",
    "import sympy as smp\n",
    "from scipy.integrate import odeint\n",
    "import matplotlib.pyplot as plt"
   ]
  },
  {
   "cell_type": "code",
   "execution_count": 2,
   "id": "d2101cb0-d9be-42f1-a978-2a208749785f",
   "metadata": {
    "tags": []
   },
   "outputs": [],
   "source": [
    "m, L, t = smp.symbols('m L t')\n",
    "theta, x = smp.symbols('theta, x', cls=smp.Function)\n",
    "theta = theta(t)\n",
    "x = x(t)"
   ]
  },
  {
   "cell_type": "code",
   "execution_count": 3,
   "id": "d7fbadcc-8c32-4530-8edb-f30cd85b8964",
   "metadata": {
    "tags": []
   },
   "outputs": [],
   "source": [
    "xcm = x + L*sin(theta)"
   ]
  },
  {
   "cell_type": "code",
   "execution_count": 4,
   "id": "abe576c8-45ea-4d12-9d19-c2d2f07ac9f8",
   "metadata": {
    "tags": []
   },
   "outputs": [
    {
     "ename": "AttributeError",
     "evalue": "module 'sympy' has no attribute 'sim'",
     "output_type": "error",
     "traceback": [
      "\u001b[1;31m---------------------------------------------------------------------------\u001b[0m",
      "\u001b[1;31mAttributeError\u001b[0m                            Traceback (most recent call last)",
      "Cell \u001b[1;32mIn[4], line 2\u001b[0m\n\u001b[0;32m      1\u001b[0m Rx \u001b[38;5;241m=\u001b[39m m\u001b[38;5;241m*\u001b[39mxcm\u001b[38;5;241m.\u001b[39mdiff(t, \u001b[38;5;241m2\u001b[39m)\n\u001b[1;32m----> 2\u001b[0m \u001b[43msmp\u001b[49m\u001b[38;5;241;43m.\u001b[39;49m\u001b[43msim\u001b[49m\n",
      "\u001b[1;31mAttributeError\u001b[0m: module 'sympy' has no attribute 'sim'"
     ]
    }
   ],
   "source": [
    "Rx = m*xcm.diff(t, 2)\n"
   ]
  },
  {
   "cell_type": "code",
   "execution_count": null,
   "id": "e2b04626-415f-4c25-aa63-252eb995e022",
   "metadata": {},
   "outputs": [],
   "source": []
  }
 ],
 "metadata": {
  "kernelspec": {
   "display_name": "systemsKer",
   "language": "python",
   "name": "systems"
  },
  "language_info": {
   "codemirror_mode": {
    "name": "ipython",
    "version": 3
   },
   "file_extension": ".py",
   "mimetype": "text/x-python",
   "name": "python",
   "nbconvert_exporter": "python",
   "pygments_lexer": "ipython3",
   "version": "3.9.16"
  }
 },
 "nbformat": 4,
 "nbformat_minor": 5
}
