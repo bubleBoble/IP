{
 "cells": [
  {
   "cell_type": "markdown",
   "metadata": {},
   "source": [
    "# <b> Model z uwikłanej formy do p. stanu"
   ]
  },
  {
   "cell_type": "code",
   "execution_count": 9,
   "metadata": {
    "tags": []
   },
   "outputs": [],
   "source": [
    "# imports\n",
    "from IPython.display import display as disp\n",
    "from sympy import symbols, cos, sin\n",
    "import sympy as smp\n",
    "\n",
    "# Newtown notation for derivatives (dot notation) -> bardzo spowalnia printowanie równań\n",
    "from sympy.physics.mechanics import dynamicsymbols, init_vprinting\n",
    "init_vprinting() "
   ]
  },
  {
   "cell_type": "code",
   "execution_count": 5,
   "metadata": {
    "tags": []
   },
   "outputs": [],
   "source": [
    "# Symbols\n",
    "Mt, Jt, mr, L, Lc, g, gamma, D, Ff = smp.symbols('M_t J_t m_r L L_c g gamma D F_f')\n",
    "\n",
    "# t = smp.symbols('t', real=True)\n",
    "t = smp.symbols('t')\n",
    "\n",
    "the, x, u = smp.symbols('theta, x, u', cls=smp.Function)\n",
    "\n",
    "the = the(t)\n",
    "x = x(t)\n",
    "u = u(t)\n",
    "\n",
    "Dthe = smp.diff(the, t)\n",
    "DDthe = smp.diff(the, t, 2)\n",
    "Dx = smp.diff(x, t)\n",
    "DDx = smp.diff(x, t, 2)"
   ]
  },
  {
   "cell_type": "markdown",
   "metadata": {},
   "source": [
    "    \n",
    "\\begin{equation}\n",
    "    \\begin{bmatrix}\n",
    "        M_t & m_rL\\cos(\\theta)\\\\\n",
    "        m_rL\\cos(\\theta) & J_t \n",
    "    \\end{bmatrix}\n",
    "    \\begin{bmatrix}\n",
    "        \\ddot{x}\\\\\n",
    "        \\ddot{\\theta}\n",
    "    \\end{bmatrix}\n",
    "    +\n",
    "    \\begin{bmatrix}\n",
    "        F_f - Lm_r\\sin(\\theta)\\dot{\\theta}^2\\\\\n",
    "        \\gamma\\dot{\\theta} - m_r g L\\sin(\\theta)\n",
    "    \\end{bmatrix}\n",
    "    +\n",
    "    \\begin{bmatrix}\n",
    "        -u\\\\\n",
    "        0\n",
    "    \\end{bmatrix}\n",
    "    +\n",
    "    \\begin{bmatrix}\n",
    "        -D\\cos(\\theta)\\\\\n",
    "        -L_c D\n",
    "    \\end{bmatrix}\n",
    "    =\n",
    "    0\n",
    "\\end{equation}\n",
    "\n",
    "$$\\boldsymbol{F}(\\ddot{x}, \\dot{x}, \\ddot{\\theta}, \\dot{\\theta}, \\theta, u, D) = 0$$\n",
    "$$F_f = F_f(\\dot{x})$$"
   ]
  },
  {
   "cell_type": "code",
   "execution_count": 6,
   "metadata": {
    "tags": []
   },
   "outputs": [],
   "source": [
    "a1 = smp.Matrix([ \n",
    "    [Mt, mr*L*cos(the)],\n",
    "    [mr*L*cos(the), Jt]\n",
    "])\n",
    "a2  = smp.Matrix([\n",
    "    [DDx],\n",
    "    [DDthe]\n",
    "])\n",
    "a3 = smp.Matrix([\n",
    "    [Ff - L*mr*sin(the)*Dthe**2],\n",
    "    [gamma*Dthe - mr*g*L*sin(the)]\n",
    "]) \n",
    "a4 = smp.Matrix([\n",
    "    [-u],\n",
    "    [0]\n",
    "])\n",
    "a5 = smp.Matrix([\n",
    "    [-D*cos(the)],\n",
    "    [-Lc*D]\n",
    "])"
   ]
  },
  {
   "cell_type": "code",
   "execution_count": 7,
   "metadata": {
    "tags": []
   },
   "outputs": [],
   "source": [
    "DDx_ss, DDthe_ss = a1.inv() * (-a3 - a4 - a5)\n",
    "DDx_ss = DDx_ss.simplify()\n",
    "DDthe_ss = DDthe_ss.simplify()"
   ]
  },
  {
   "cell_type": "code",
   "execution_count": 11,
   "metadata": {
    "jupyter": {
     "source_hidden": true
    },
    "tags": []
   },
   "outputs": [
    {
     "data": {
      "text/plain": [
       "'State vector.'"
      ]
     },
     "metadata": {},
     "output_type": "display_data"
    },
    {
     "data": {
      "image/png": "[encoded data removed]",
      "text/latex": [
       "$\\displaystyle \\left[\\begin{matrix}x_{1}\\\\x_{2}\\\\x_{3}\\\\x_{4}\\end{matrix}\\right] = \\left[\\begin{matrix}x\\\\\\theta\\\\\\dot{x}\\\\\\dot{\\theta}\\end{matrix}\\right]$"
      ],
      "text/plain": [
       "⎡x₁⎤   ⎡x⎤\n",
       "⎢  ⎥   ⎢ ⎥\n",
       "⎢x₂⎥   ⎢θ⎥\n",
       "⎢  ⎥ = ⎢ ⎥\n",
       "⎢x₃⎥   ⎢ẋ⎥\n",
       "⎢  ⎥   ⎢ ⎥\n",
       "⎣x₄⎦   ⎣θ̇⎦"
      ]
     },
     "metadata": {},
     "output_type": "display_data"
    },
    {
     "data": {
      "text/plain": [
       "'State equations'"
      ]
     },
     "metadata": {},
     "output_type": "display_data"
    },
    {
     "data": {
      "image/png": "[encoded data removed]",
      "text/latex": [
       "$\\displaystyle \\left[\\begin{matrix}\\dot{x}\\\\\\dot{\\theta}\\\\\\ddot{x}\\\\\\ddot{\\theta}\\end{matrix}\\right] = \\left[\\begin{matrix}\\dot{x}\\\\\\dot{\\theta}\\\\\\frac{J_{t} \\left(D \\cos{\\left(\\theta \\right)} - F_{f} + L m_{r} \\sin{\\left(\\theta \\right)} \\dot{\\theta}^{2} + u\\right) - L m_{r} \\left(D L_{c} + L g m_{r} \\sin{\\left(\\theta \\right)} - \\gamma \\dot{\\theta}\\right) \\cos{\\left(\\theta \\right)}}{J_{t} M_{t} - L^{2} m_{r}^{2} \\cos^{2}{\\left(\\theta \\right)}}\\\\\\frac{- L m_{r} \\left(D \\cos{\\left(\\theta \\right)} - F_{f} + L m_{r} \\sin{\\left(\\theta \\right)} \\dot{\\theta}^{2} + u\\right) \\cos{\\left(\\theta \\right)} + M_{t} \\left(D L_{c} + L g m_{r} \\sin{\\left(\\theta \\right)} - \\gamma \\dot{\\theta}\\right)}{J_{t} M_{t} - L^{2} m_{r}^{2} \\cos^{2}{\\left(\\theta \\right)}}\\end{matrix}\\right]$"
      ],
      "text/plain": [
       "      ⎡                                          ẋ                           \n",
       "      ⎢                                                                       \n",
       "      ⎢                                          θ̇                           \n",
       "      ⎢                                                                       \n",
       "⎡ẋ⎤   ⎢    ⎛                              2    ⎞                             \n",
       "⎢ ⎥   ⎢ Jₜ⋅⎝D⋅cos(θ) - F_f + L⋅mᵣ⋅sin(θ)⋅θ̇  + u⎠ - L⋅mᵣ⋅(D⋅L_c + L⋅g⋅mᵣ⋅sin(θ\n",
       "⎢θ̇⎥   ⎢ ─────────────────────────────────────────────────────────────────────\n",
       "⎢ ⎥ = ⎢                                         2   2    2                    \n",
       "⎢ẍ⎥   ⎢                                Jₜ⋅Mₜ - L ⋅mᵣ ⋅cos (θ)                \n",
       "⎢ ⎥   ⎢                                                                       \n",
       "⎣θ̈⎦   ⎢       ⎛                              2    ⎞                          \n",
       "      ⎢- L⋅mᵣ⋅⎝D⋅cos(θ) - F_f + L⋅mᵣ⋅sin(θ)⋅θ̇  + u⎠⋅cos(θ) + Mₜ⋅(D⋅L_c + L⋅g⋅\n",
       "      ⎢───────────────────────────────────────────────────────────────────────\n",
       "      ⎢                                         2   2    2                    \n",
       "      ⎣                                Jₜ⋅Mₜ - L ⋅mᵣ ⋅cos (θ)                 \n",
       "\n",
       "                ⎤\n",
       "               ⎥\n",
       "                ⎥\n",
       "               ⎥\n",
       "                ⎥\n",
       ") - γ⋅θ̇)⋅cos(θ) ⎥\n",
       "─────────────── ⎥\n",
       "               ⎥\n",
       "                ⎥\n",
       "               ⎥\n",
       "                ⎥\n",
       "mᵣ⋅sin(θ) - γ⋅θ̇)⎥\n",
       "───────────────⎥\n",
       "               ⎥\n",
       "               ⎦"
      ]
     },
     "metadata": {},
     "output_type": "display_data"
    },
    {
     "data": {
      "image/png": "[encoded data removed]",
      "text/latex": [
       "$\\displaystyle \\ddot{x} = \\frac{J_{t} \\left(D \\cos{\\left(\\theta \\right)} - F_{f} + L m_{r} \\sin{\\left(\\theta \\right)} \\dot{\\theta}^{2} + u\\right) - L m_{r} \\left(D L_{c} + L g m_{r} \\sin{\\left(\\theta \\right)} - \\gamma \\dot{\\theta}\\right) \\cos{\\left(\\theta \\right)}}{J_{t} M_{t} - L^{2} m_{r}^{2} \\cos^{2}{\\left(\\theta \\right)}}$"
      ],
      "text/plain": [
       "       ⎛                              2    ⎞                                  \n",
       "    Jₜ⋅⎝D⋅cos(θ) - F_f + L⋅mᵣ⋅sin(θ)⋅θ̇  + u⎠ - L⋅mᵣ⋅(D⋅L_c + L⋅g⋅mᵣ⋅sin(θ) - \n",
       "ẍ = ─────────────────────────────────────────────────────────────────────────\n",
       "                                            2   2    2                        \n",
       "                                   Jₜ⋅Mₜ - L ⋅mᵣ ⋅cos (θ)                     \n",
       "\n",
       "          \n",
       "γ⋅θ̇)⋅cos(θ)\n",
       "───────────\n",
       "          \n",
       "          "
      ]
     },
     "metadata": {},
     "output_type": "display_data"
    },
    {
     "data": {
      "image/png": "[encoded data removed]",
      "text/latex": [
       "$\\displaystyle \\ddot{\\theta} = \\frac{- L m_{r} \\left(D \\cos{\\left(\\theta \\right)} - F_{f} + L m_{r} \\sin{\\left(\\theta \\right)} \\dot{\\theta}^{2} + u\\right) \\cos{\\left(\\theta \\right)} + M_{t} \\left(D L_{c} + L g m_{r} \\sin{\\left(\\theta \\right)} - \\gamma \\dot{\\theta}\\right)}{J_{t} M_{t} - L^{2} m_{r}^{2} \\cos^{2}{\\left(\\theta \\right)}}$"
      ],
      "text/plain": [
       "           ⎛                              2    ⎞                              \n",
       "    - L⋅mᵣ⋅⎝D⋅cos(θ) - F_f + L⋅mᵣ⋅sin(θ)⋅θ̇  + u⎠⋅cos(θ) + Mₜ⋅(D⋅L_c + L⋅g⋅mᵣ⋅\n",
       "θ̈ = ─────────────────────────────────────────────────────────────────────────\n",
       "                                             2   2    2                       \n",
       "                                    Jₜ⋅Mₜ - L ⋅mᵣ ⋅cos (θ)                    \n",
       "\n",
       "            \n",
       "sin(θ) - γ⋅θ̇)\n",
       "─────────────\n",
       "            \n",
       "            "
      ]
     },
     "metadata": {},
     "output_type": "display_data"
    },
    {
     "name": "stdout",
     "output_type": "stream",
     "text": [
      "state_equations w x-ach\n"
     ]
    },
    {
     "data": {
      "image/png": "[encoded data removed]",
      "text/latex": [
       "$\\displaystyle \\left[\\begin{matrix}x_{3}\\\\x_{4}\\\\\\frac{J_{t} \\left(D \\cos{\\left(x_{2} \\right)} - F_{f} + L m_{r} x_{4}^{2} \\sin{\\left(x_{2} \\right)} + u\\right) - L m_{r} \\left(D L_{c} + L g m_{r} \\sin{\\left(x_{2} \\right)} - \\gamma x_{4}\\right) \\cos{\\left(x_{2} \\right)}}{J_{t} M_{t} - L^{2} m_{r}^{2} \\cos^{2}{\\left(x_{2} \\right)}}\\\\\\frac{- L m_{r} \\left(D \\cos{\\left(x_{2} \\right)} - F_{f} + L m_{r} x_{4}^{2} \\sin{\\left(x_{2} \\right)} + u\\right) \\cos{\\left(x_{2} \\right)} + M_{t} \\left(D L_{c} + L g m_{r} \\sin{\\left(x_{2} \\right)} - \\gamma x_{4}\\right)}{J_{t} M_{t} - L^{2} m_{r}^{2} \\cos^{2}{\\left(x_{2} \\right)}}\\end{matrix}\\right]$"
      ],
      "text/plain": [
       "⎡                                             x₃                              \n",
       "⎢                                                                             \n",
       "⎢                                             x₄                              \n",
       "⎢                                                                             \n",
       "⎢    ⎛                         2            ⎞                                 \n",
       "⎢ Jₜ⋅⎝D⋅cos(x₂) - F_f + L⋅mᵣ⋅x₄ ⋅sin(x₂) + u⎠ - L⋅mᵣ⋅(D⋅L_c + L⋅g⋅mᵣ⋅sin(x₂) -\n",
       "⎢ ────────────────────────────────────────────────────────────────────────────\n",
       "⎢                                           2   2    2                        \n",
       "⎢                                  Jₜ⋅Mₜ - L ⋅mᵣ ⋅cos (x₂)                    \n",
       "⎢                                                                             \n",
       "⎢       ⎛                         2            ⎞                              \n",
       "⎢- L⋅mᵣ⋅⎝D⋅cos(x₂) - F_f + L⋅mᵣ⋅x₄ ⋅sin(x₂) + u⎠⋅cos(x₂) + Mₜ⋅(D⋅L_c + L⋅g⋅mᵣ⋅\n",
       "⎢─────────────────────────────────────────────────────────────────────────────\n",
       "⎢                                           2   2    2                        \n",
       "⎣                                  Jₜ⋅Mₜ - L ⋅mᵣ ⋅cos (x₂)                    \n",
       "\n",
       "               ⎤\n",
       "               ⎥\n",
       "               ⎥\n",
       "               ⎥\n",
       "               ⎥\n",
       " γ⋅x₄)⋅cos(x₂) ⎥\n",
       "────────────── ⎥\n",
       "               ⎥\n",
       "               ⎥\n",
       "               ⎥\n",
       "               ⎥\n",
       "sin(x₂) - γ⋅x₄)⎥\n",
       "───────────────⎥\n",
       "               ⎥\n",
       "               ⎦"
      ]
     },
     "metadata": {},
     "output_type": "display_data"
    },
    {
     "data": {
      "image/png": "[encoded data removed]",
      "text/latex": [
       "$\\displaystyle \\left[\\begin{matrix}x\\\\\\theta\\\\\\dot{x}\\\\\\dot{\\theta}\\end{matrix}\\right] = \\left[\\begin{matrix}x_{1}\\\\x_{2}\\\\x_{3}\\\\x_{4}\\end{matrix}\\right]$"
      ],
      "text/plain": [
       "⎡x⎤   ⎡x₁⎤\n",
       "⎢ ⎥   ⎢  ⎥\n",
       "⎢θ⎥   ⎢x₂⎥\n",
       "⎢ ⎥ = ⎢  ⎥\n",
       "⎢ẋ⎥   ⎢x₃⎥\n",
       "⎢ ⎥   ⎢  ⎥\n",
       "⎣θ̇⎦   ⎣x₄⎦"
      ]
     },
     "metadata": {},
     "output_type": "display_data"
    }
   ],
   "source": [
    "# State space representation\n",
    "x1, x2, x3, x4 = smp.symbols('x_1 x_2 x_3 x_4', cls=smp.Function)\n",
    "x1 = x1(t); x2 = x2(t); x3 = x3(t); x4 = x4(t) \n",
    "\n",
    "# state vector, x1 x2 x3 x4\n",
    "state_vec = smp.Matrix([\n",
    "    [x1],\n",
    "    [x2],\n",
    "    [x3],\n",
    "    [x4]\n",
    "])\n",
    "\n",
    "# state vector, x theta ...\n",
    "state_vec_noraml = smp.Matrix([\n",
    "    [x],\n",
    "    [the],\n",
    "    [Dx],\n",
    "    [Dthe]\n",
    "])\n",
    "disp('State vector.')\n",
    "disp(\n",
    "    smp.Eq(state_vec, state_vec_noraml)\n",
    ")\n",
    "\n",
    "# State equations\n",
    "state_vec_diff = state_vec.diff(t)\n",
    "state_vec_noraml_diff = state_vec_noraml.diff(t)\n",
    "\n",
    "state_equations_normal = smp.Matrix([\n",
    "    [Dx],\n",
    "    [Dthe],\n",
    "    [DDx_ss],\n",
    "    [DDthe_ss]\n",
    "])\n",
    "\n",
    "disp('State equations')\n",
    "disp(\n",
    "    smp.Eq(\n",
    "        state_vec_noraml_diff,\n",
    "        state_equations_normal\n",
    "    )\n",
    ")\n",
    "\n",
    "disp(\n",
    "    smp.Eq(\n",
    "        DDx, \n",
    "        DDx_ss\n",
    "    )\n",
    ")\n",
    "\n",
    "disp(\n",
    "    smp.Eq(\n",
    "        DDthe,\n",
    "        DDthe_ss\n",
    "    )\n",
    ")\n",
    "\n",
    "state_equations = state_equations_normal.subs([(Dx, x3),\n",
    "                                               (Dthe, x4),\n",
    "                                               (x, x1),\n",
    "                                               (the, x2)])\n",
    "\n",
    "print('state_equations w x-ach')\n",
    "disp(state_equations)\n",
    "\n",
    "disp(\n",
    "    smp.Eq(\n",
    "        state_vec_noraml,\n",
    "        state_vec\n",
    "    )\n",
    ")   "
   ]
  },
  {
   "cell_type": "code",
   "execution_count": null,
   "metadata": {},
   "outputs": [],
   "source": []
  }
 ],
 "metadata": {
  "kernelspec": {
   "display_name": "systemsKer",
   "language": "python",
   "name": "systems"
  },
  "language_info": {
   "codemirror_mode": {
    "name": "ipython",
    "version": 3
   },
   "file_extension": ".py",
   "mimetype": "text/x-python",
   "name": "python",
   "nbconvert_exporter": "python",
   "pygments_lexer": "ipython3",
   "version": "3.9.16"
  }
 },
 "nbformat": 4,
 "nbformat_minor": 4
}
