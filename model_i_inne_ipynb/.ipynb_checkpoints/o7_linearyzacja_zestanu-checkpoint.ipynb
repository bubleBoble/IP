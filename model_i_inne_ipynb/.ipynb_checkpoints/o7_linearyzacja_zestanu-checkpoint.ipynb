{
 "cells": [
  {
   "cell_type": "code",
   "execution_count": 1,
   "id": "1ae43f1b-b90c-4be1-a25d-cb26cd39fe60",
   "metadata": {},
   "outputs": [],
   "source": [
    "podstawic_parametry_czy_nie = 0;"
   ]
  },
  {
   "cell_type": "code",
   "execution_count": 2,
   "id": "a6d38c2d-fe94-41c2-b991-6fc7c5de949e",
   "metadata": {
    "tags": []
   },
   "outputs": [],
   "source": [
    "def dispvar(e = dir()):\n",
    "    for i in e:\n",
    "        if not i.startswith('_') : print(i) "
   ]
  },
  {
   "cell_type": "code",
   "execution_count": null,
   "id": "97063a2d-be29-4e32-80be-805a0e9aa840",
   "metadata": {},
   "outputs": [],
   "source": []
  },
  {
   "cell_type": "markdown",
   "id": "a5de2b32-c0c9-43a6-9673-8e15e08b0d74",
   "metadata": {
    "jp-MarkdownHeadingCollapsed": true,
    "tags": []
   },
   "source": [
    "# 🛰️ <b> <u> <font color='YELLOW'> 1. IMPORTY </font>"
   ]
  },
  {
   "cell_type": "code",
   "execution_count": 3,
   "id": "0136a7be-5066-4f86-88ff-322c86cadd1f",
   "metadata": {
    "tags": []
   },
   "outputs": [],
   "source": [
    "# imports\n",
    "from IPython.display import display as disp\n",
    "from IPython.display import Markdown as dispmd\n",
    "from IPython.display import Latex as dispLtx\n",
    "\n",
    "from sympy import symbols, cos, sin\n",
    "import sympy as smp\n",
    "import numpy as np\n",
    "\n",
    "# Newtown notation for derivatives (dot notation) -> bardzo spowalnia printowanie równań\n",
    "from sympy.physics.mechanics import dynamicsymbols, init_vprinting\n",
    "init_vprinting() "
   ]
  },
  {
   "cell_type": "markdown",
   "id": "f296ae4a-0c22-4a57-abce-66051c8211fb",
   "metadata": {
    "jp-MarkdownHeadingCollapsed": true,
    "tags": []
   },
   "source": [
    "# 🛰️ <b> <u> <font color='YELLOW'> 2. SYMB. RÓWNANIA MODELU </font>"
   ]
  },
  {
   "cell_type": "code",
   "execution_count": 4,
   "id": "97307be9-00c6-4706-a7fa-4846298efdeb",
   "metadata": {
    "tags": []
   },
   "outputs": [],
   "source": [
    "# Symbols\n",
    "Mt, Jt, mr, L, Lc, g, gamma, D, Ff = smp.symbols('M_t J_t m_r L L_c g gamma D F_f')\n",
    "t = smp.symbols('t')\n",
    "the, x, u = smp.symbols('theta, x, u', cls=smp.Function)\n",
    "the = the(t)\n",
    "x = x(t)\n",
    "u = u(t)\n",
    "Dthe = smp.diff(the, t)\n",
    "DDthe = smp.diff(the, t, 2)\n",
    "Dx = smp.diff(x, t)\n",
    "DDx = smp.diff(x, t, 2)\n",
    "\n",
    "# silnik\n",
    "alpha = smp.symbols('alpha') \n",
    "beta = smp.symbols('beta')\n",
    "v = smp.symbols('v')\n",
    "\n",
    "a1 = smp.Matrix([ \n",
    "    [Mt, mr*L*cos(the)],\n",
    "    [mr*L*cos(the), Jt]\n",
    "])\n",
    "a2  = smp.Matrix([\n",
    "    [DDx],\n",
    "    [DDthe]\n",
    "])\n",
    "a3 = smp.Matrix([\n",
    "    [Ff - L*mr*sin(the)*Dthe**2],\n",
    "    [gamma*Dthe - mr*g*L*sin(the)]\n",
    "]) \n",
    "a4 = smp.Matrix([\n",
    "    [-u],\n",
    "    [0]\n",
    "])\n",
    "a5 = smp.Matrix([\n",
    "    [-D*cos(the)],\n",
    "    [-Lc*D]\n",
    "])\n",
    "\n",
    "DDx_ss, DDthe_ss = a1.inv() * (-a3 - a4 - a5)\n",
    "DDx_ss = DDx_ss.simplify()\n",
    "DDthe_ss = DDthe_ss.simplify()\n",
    "\n",
    "x1, x2, x3, x4 = smp.symbols('x_1 x_2 x_3 x_4', cls=smp.Function)\n",
    "x1 = x1(t); x2 = x2(t); x3 = x3(t); x4 = x4(t) "
   ]
  },
  {
   "cell_type": "markdown",
   "id": "a586f3a3-40cc-4a87-a07d-0a93d74bb6b3",
   "metadata": {
    "jp-MarkdownHeadingCollapsed": true,
    "tags": []
   },
   "source": [
    "# ☄️<b> <u>  <font color='YELLOW'> 3. PARAMETRY MODELU"
   ]
  },
  {
   "cell_type": "code",
   "execution_count": 5,
   "id": "ce1a80d8-6c9b-46ea-a67a-9a989f8f0d48",
   "metadata": {
    "tags": []
   },
   "outputs": [],
   "source": [
    "M = 0.815\n",
    "mp = 0.21\n",
    "mc = 0\n",
    "Lp = 0.305\n",
    "Lc = 2*Lp\n",
    "g = 9.8145\n",
    "mr = mp+mc\n",
    "Mt = M+mr\n",
    "L = (Lp*mp + Lc*mc) / mr\n",
    "Jcm = Lp**2 / mr * ( 4/3 * mr*(3 * mc + mp) - (2*mc + mp)**2 )\n",
    "Jt = Jcm + mr*L**2\n",
    "gamma = 0.1\n",
    "b_lepkie = 2.1\n",
    "b_stribeck = 3\n",
    "miu_c      = 0.04287\n",
    "miu_s      = 0.0861\n",
    "vs         = 0.105\n",
    "i          = 2\n",
    "delta      = 400\n",
    "\n",
    "alpha = 1.719\n",
    "beta = 7.682\n",
    "\n",
    "params_visc_values = [M, mc, mp, Lp, Lc, g, b_lepkie, gamma, mr, Mt, L, Jcm, Jt]\n",
    "params_stri_values = [M, mc, mp, Lp, Lc, g, b_stribeck, gamma, mr, Mt, L, Jcm, Jt, miu_c, miu_s, vs, i]"
   ]
  },
  {
   "cell_type": "code",
   "execution_count": 6,
   "id": "5013b97d-d952-4c5a-953c-23152e71ee56",
   "metadata": {
    "tags": []
   },
   "outputs": [],
   "source": [
    "M, mc, mp, Lp, Lc, g, b_lepkie, gamma, mr, Mt, L, Jcm, Jt = smp.symbols('M m_c m_p L_p L_c g b gamma m_r M_t L J_{cm} J_t')\n",
    "# params lepkie\n",
    "params_visc = [M, mc, mp, Lp, Lc, g, b_lepkie, gamma, mr, Mt, L, Jcm, Jt]\n",
    "\n",
    "M, mc, mp, Lp, Lc, g, b_stribeck, gamma, mr, Mt, L, Jcm, Jt, miu_c, miu_s, vs, i = smp.symbols('M m_c m_p L_p L_c g b gamma m_r M_t L J_{cm} J_t mu_c mu_s v_s i')\n",
    "# params Stribeck\n",
    "params_stri = [M, mc, mp, Lp, Lc, g, b_stribeck, gamma, mr, Mt, L, Jcm, Jt, miu_c, miu_s, vs, i]"
   ]
  },
  {
   "cell_type": "code",
   "execution_count": 7,
   "id": "4c5179b6-850e-4016-b78c-3281946145ce",
   "metadata": {},
   "outputs": [
    {
     "data": {
      "text/plain": [
       "False"
      ]
     },
     "execution_count": 7,
     "metadata": {},
     "output_type": "execute_result"
    }
   ],
   "source": [
    "# to jest ciekawe że wartości zmiennych w tablicy params_visc_values zostały do niej\n",
    "# skopiowane dopiero gdy nadpisało się zmienne które były w tej tablicy\n",
    "id(M) == id(params_stri_values[0])"
   ]
  },
  {
   "cell_type": "code",
   "execution_count": 8,
   "id": "185f94bd-9c18-4538-9d30-5f6ee9e4ff0a",
   "metadata": {
    "tags": []
   },
   "outputs": [
    {
     "data": {
      "image/png": "[encoded data removed]",
      "text/latex": [
       "$\\displaystyle \\left[ M, \\  m_{c}, \\  m_{p}, \\  L_{p}, \\  L_{c}, \\  g, \\  b, \\  \\gamma, \\  m_{r}, \\  M_{t}, \\  L, \\  J_{cm}, \\  J_{t}, \\  \\mu_{c}, \\  \\mu_{s}, \\  v_{s}, \\  i\\right]$"
      ],
      "text/plain": [
       "[M, m_c, mₚ, Lₚ, L_c, g, b, γ, mᵣ, Mₜ, L, J_{cm}, Jₜ, μ_c, μₛ, vₛ, i]"
      ]
     },
     "metadata": {},
     "output_type": "display_data"
    },
    {
     "data": {
      "image/png": "[encoded data removed]",
      "text/latex": [
       "$\\displaystyle \\left[ 0.815, \\  0, \\  0.21, \\  0.305, \\  0.61, \\  9.8145, \\  3, \\  0.1, \\  0.21, \\  1.025, \\  0.305, \\  0.00651175, \\  0.026047, \\  0.04287, \\  0.0861, \\  0.105, \\  2\\right]$"
      ],
      "text/plain": [
       "[0.815, 0, 0.21, 0.305, 0.61, 9.8145, 3, 0.1, 0.21, 1.025, 0.305, 0.0065117499\n",
       "99999999, 0.026046999999999997, 0.04287, 0.0861, 0.105, 2]"
      ]
     },
     "metadata": {},
     "output_type": "display_data"
    },
    {
     "data": {
      "text/plain": [
       "True"
      ]
     },
     "metadata": {},
     "output_type": "display_data"
    },
    {
     "data": {
      "text/plain": [
       "True"
      ]
     },
     "metadata": {},
     "output_type": "display_data"
    }
   ],
   "source": [
    "# trzeba sie upewnić czy napewno te list się nie ponadpisywały \n",
    "disp(params_stri)\n",
    "disp(params_stri_values)\n",
    "\n",
    "# na wszelki wypadek trzeba sprawdzić\n",
    "# powinno być: true, true\n",
    "disp(len(params_visc) == len(params_visc_values))\n",
    "disp(len(params_stri) == len(params_stri_values))"
   ]
  },
  {
   "cell_type": "markdown",
   "id": "76be89b2-9f7b-435c-b818-ec7265dd56de",
   "metadata": {
    "jp-MarkdownHeadingCollapsed": true,
    "tags": []
   },
   "source": [
    "# ☄️<b> <u>  <font color='YELLOW'> 4. RÓWNANIA STANU"
   ]
  },
  {
   "cell_type": "code",
   "execution_count": 9,
   "id": "ea262b51-82af-482a-8bb5-314091830774",
   "metadata": {
    "tags": []
   },
   "outputs": [
    {
     "data": {
      "text/plain": [
       "'State vector.'"
      ]
     },
     "metadata": {},
     "output_type": "display_data"
    },
    {
     "data": {
      "image/png": "[encoded data removed]",
      "text/latex": [
       "$\\displaystyle \\left[\\begin{matrix}x_{1}\\\\x_{2}\\\\x_{3}\\\\x_{4}\\end{matrix}\\right] = \\left[\\begin{matrix}x\\\\\\theta\\\\\\dot{x}\\\\\\dot{\\theta}\\end{matrix}\\right]$"
      ],
      "text/plain": [
       "⎡x₁⎤   ⎡x⎤\n",
       "⎢  ⎥   ⎢ ⎥\n",
       "⎢x₂⎥   ⎢θ⎥\n",
       "⎢  ⎥ = ⎢ ⎥\n",
       "⎢x₃⎥   ⎢ẋ⎥\n",
       "⎢  ⎥   ⎢ ⎥\n",
       "⎣x₄⎦   ⎣θ̇⎦"
      ]
     },
     "metadata": {},
     "output_type": "display_data"
    },
    {
     "data": {
      "text/plain": [
       "'State equations'"
      ]
     },
     "metadata": {},
     "output_type": "display_data"
    },
    {
     "data": {
      "image/png": "[encoded data removed]",
      "text/latex": [
       "$\\displaystyle \\left[\\begin{matrix}\\dot{x}\\\\\\dot{\\theta}\\\\\\ddot{x}\\\\\\ddot{\\theta}\\end{matrix}\\right] = \\left[\\begin{matrix}\\dot{x}\\\\\\dot{\\theta}\\\\\\frac{J_{t} \\left(D \\cos{\\left(\\theta \\right)} - F_{f} + L m_{r} \\sin{\\left(\\theta \\right)} \\dot{\\theta}^{2} + u\\right) - L m_{r} \\left(D L_{c} + L g m_{r} \\sin{\\left(\\theta \\right)} - \\gamma \\dot{\\theta}\\right) \\cos{\\left(\\theta \\right)}}{J_{t} M_{t} - L^{2} m_{r}^{2} \\cos^{2}{\\left(\\theta \\right)}}\\\\\\frac{- L m_{r} \\left(D \\cos{\\left(\\theta \\right)} - F_{f} + L m_{r} \\sin{\\left(\\theta \\right)} \\dot{\\theta}^{2} + u\\right) \\cos{\\left(\\theta \\right)} + M_{t} \\left(D L_{c} + L g m_{r} \\sin{\\left(\\theta \\right)} - \\gamma \\dot{\\theta}\\right)}{J_{t} M_{t} - L^{2} m_{r}^{2} \\cos^{2}{\\left(\\theta \\right)}}\\end{matrix}\\right]$"
      ],
      "text/plain": [
       "      ⎡                                          ẋ                           \n",
       "      ⎢                                                                       \n",
       "      ⎢                                          θ̇                           \n",
       "      ⎢                                                                       \n",
       "⎡ẋ⎤   ⎢    ⎛                              2    ⎞                             \n",
       "⎢ ⎥   ⎢ Jₜ⋅⎝D⋅cos(θ) - F_f + L⋅mᵣ⋅sin(θ)⋅θ̇  + u⎠ - L⋅mᵣ⋅(D⋅L_c + L⋅g⋅mᵣ⋅sin(θ\n",
       "⎢θ̇⎥   ⎢ ─────────────────────────────────────────────────────────────────────\n",
       "⎢ ⎥ = ⎢                                         2   2    2                    \n",
       "⎢ẍ⎥   ⎢                                Jₜ⋅Mₜ - L ⋅mᵣ ⋅cos (θ)                \n",
       "⎢ ⎥   ⎢                                                                       \n",
       "⎣θ̈⎦   ⎢       ⎛                              2    ⎞                          \n",
       "      ⎢- L⋅mᵣ⋅⎝D⋅cos(θ) - F_f + L⋅mᵣ⋅sin(θ)⋅θ̇  + u⎠⋅cos(θ) + Mₜ⋅(D⋅L_c + L⋅g⋅\n",
       "      ⎢───────────────────────────────────────────────────────────────────────\n",
       "      ⎢                                         2   2    2                    \n",
       "      ⎣                                Jₜ⋅Mₜ - L ⋅mᵣ ⋅cos (θ)                 \n",
       "\n",
       "                ⎤\n",
       "               ⎥\n",
       "                ⎥\n",
       "               ⎥\n",
       "                ⎥\n",
       ") - γ⋅θ̇)⋅cos(θ) ⎥\n",
       "─────────────── ⎥\n",
       "               ⎥\n",
       "                ⎥\n",
       "               ⎥\n",
       "                ⎥\n",
       "mᵣ⋅sin(θ) - γ⋅θ̇)⎥\n",
       "───────────────⎥\n",
       "               ⎥\n",
       "               ⎦"
      ]
     },
     "metadata": {},
     "output_type": "display_data"
    },
    {
     "data": {
      "image/png": "[encoded data removed]",
      "text/latex": [
       "$\\displaystyle \\ddot{x} = \\frac{J_{t} \\left(D \\cos{\\left(\\theta \\right)} - F_{f} + L m_{r} \\sin{\\left(\\theta \\right)} \\dot{\\theta}^{2} + u\\right) - L m_{r} \\left(D L_{c} + L g m_{r} \\sin{\\left(\\theta \\right)} - \\gamma \\dot{\\theta}\\right) \\cos{\\left(\\theta \\right)}}{J_{t} M_{t} - L^{2} m_{r}^{2} \\cos^{2}{\\left(\\theta \\right)}}$"
      ],
      "text/plain": [
       "       ⎛                              2    ⎞                                  \n",
       "    Jₜ⋅⎝D⋅cos(θ) - F_f + L⋅mᵣ⋅sin(θ)⋅θ̇  + u⎠ - L⋅mᵣ⋅(D⋅L_c + L⋅g⋅mᵣ⋅sin(θ) - \n",
       "ẍ = ─────────────────────────────────────────────────────────────────────────\n",
       "                                            2   2    2                        \n",
       "                                   Jₜ⋅Mₜ - L ⋅mᵣ ⋅cos (θ)                     \n",
       "\n",
       "          \n",
       "γ⋅θ̇)⋅cos(θ)\n",
       "───────────\n",
       "          \n",
       "          "
      ]
     },
     "metadata": {},
     "output_type": "display_data"
    },
    {
     "data": {
      "image/png": "[encoded data removed]",
      "text/latex": [
       "$\\displaystyle \\ddot{\\theta} = \\frac{- L m_{r} \\left(D \\cos{\\left(\\theta \\right)} - F_{f} + L m_{r} \\sin{\\left(\\theta \\right)} \\dot{\\theta}^{2} + u\\right) \\cos{\\left(\\theta \\right)} + M_{t} \\left(D L_{c} + L g m_{r} \\sin{\\left(\\theta \\right)} - \\gamma \\dot{\\theta}\\right)}{J_{t} M_{t} - L^{2} m_{r}^{2} \\cos^{2}{\\left(\\theta \\right)}}$"
      ],
      "text/plain": [
       "           ⎛                              2    ⎞                              \n",
       "    - L⋅mᵣ⋅⎝D⋅cos(θ) - F_f + L⋅mᵣ⋅sin(θ)⋅θ̇  + u⎠⋅cos(θ) + Mₜ⋅(D⋅L_c + L⋅g⋅mᵣ⋅\n",
       "θ̈ = ─────────────────────────────────────────────────────────────────────────\n",
       "                                             2   2    2                       \n",
       "                                    Jₜ⋅Mₜ - L ⋅mᵣ ⋅cos (θ)                    \n",
       "\n",
       "            \n",
       "sin(θ) - γ⋅θ̇)\n",
       "─────────────\n",
       "            \n",
       "            "
      ]
     },
     "metadata": {},
     "output_type": "display_data"
    },
    {
     "name": "stdout",
     "output_type": "stream",
     "text": [
      "state_equations w x-ach\n"
     ]
    },
    {
     "data": {
      "image/png": "[encoded data removed]",
      "text/latex": [
       "$\\displaystyle \\left[\\begin{matrix}x_{3}\\\\x_{4}\\\\\\frac{J_{t} \\left(D \\cos{\\left(x_{2} \\right)} - F_{f} + L m_{r} x_{4}^{2} \\sin{\\left(x_{2} \\right)} + u\\right) - L m_{r} \\left(D L_{c} + L g m_{r} \\sin{\\left(x_{2} \\right)} - \\gamma x_{4}\\right) \\cos{\\left(x_{2} \\right)}}{J_{t} M_{t} - L^{2} m_{r}^{2} \\cos^{2}{\\left(x_{2} \\right)}}\\\\\\frac{- L m_{r} \\left(D \\cos{\\left(x_{2} \\right)} - F_{f} + L m_{r} x_{4}^{2} \\sin{\\left(x_{2} \\right)} + u\\right) \\cos{\\left(x_{2} \\right)} + M_{t} \\left(D L_{c} + L g m_{r} \\sin{\\left(x_{2} \\right)} - \\gamma x_{4}\\right)}{J_{t} M_{t} - L^{2} m_{r}^{2} \\cos^{2}{\\left(x_{2} \\right)}}\\end{matrix}\\right]$"
      ],
      "text/plain": [
       "⎡                                             x₃                              \n",
       "⎢                                                                             \n",
       "⎢                                             x₄                              \n",
       "⎢                                                                             \n",
       "⎢    ⎛                         2            ⎞                                 \n",
       "⎢ Jₜ⋅⎝D⋅cos(x₂) - F_f + L⋅mᵣ⋅x₄ ⋅sin(x₂) + u⎠ - L⋅mᵣ⋅(D⋅L_c + L⋅g⋅mᵣ⋅sin(x₂) -\n",
       "⎢ ────────────────────────────────────────────────────────────────────────────\n",
       "⎢                                           2   2    2                        \n",
       "⎢                                  Jₜ⋅Mₜ - L ⋅mᵣ ⋅cos (x₂)                    \n",
       "⎢                                                                             \n",
       "⎢       ⎛                         2            ⎞                              \n",
       "⎢- L⋅mᵣ⋅⎝D⋅cos(x₂) - F_f + L⋅mᵣ⋅x₄ ⋅sin(x₂) + u⎠⋅cos(x₂) + Mₜ⋅(D⋅L_c + L⋅g⋅mᵣ⋅\n",
       "⎢─────────────────────────────────────────────────────────────────────────────\n",
       "⎢                                           2   2    2                        \n",
       "⎣                                  Jₜ⋅Mₜ - L ⋅mᵣ ⋅cos (x₂)                    \n",
       "\n",
       "               ⎤\n",
       "               ⎥\n",
       "               ⎥\n",
       "               ⎥\n",
       "               ⎥\n",
       " γ⋅x₄)⋅cos(x₂) ⎥\n",
       "────────────── ⎥\n",
       "               ⎥\n",
       "               ⎥\n",
       "               ⎥\n",
       "               ⎥\n",
       "sin(x₂) - γ⋅x₄)⎥\n",
       "───────────────⎥\n",
       "               ⎥\n",
       "               ⎦"
      ]
     },
     "metadata": {},
     "output_type": "display_data"
    },
    {
     "data": {
      "image/png": "[encoded data removed]",
      "text/latex": [
       "$\\displaystyle \\left[\\begin{matrix}x\\\\\\theta\\\\\\dot{x}\\\\\\dot{\\theta}\\end{matrix}\\right] = \\left[\\begin{matrix}x_{1}\\\\x_{2}\\\\x_{3}\\\\x_{4}\\end{matrix}\\right]$"
      ],
      "text/plain": [
       "⎡x⎤   ⎡x₁⎤\n",
       "⎢ ⎥   ⎢  ⎥\n",
       "⎢θ⎥   ⎢x₂⎥\n",
       "⎢ ⎥ = ⎢  ⎥\n",
       "⎢ẋ⎥   ⎢x₃⎥\n",
       "⎢ ⎥   ⎢  ⎥\n",
       "⎣θ̇⎦   ⎣x₄⎦"
      ]
     },
     "metadata": {},
     "output_type": "display_data"
    },
    {
     "data": {
      "text/plain": [
       "'Tarcie lepkie'"
      ]
     },
     "metadata": {},
     "output_type": "display_data"
    },
    {
     "data": {
      "image/png": "[encoded data removed]",
      "text/latex": [
       "$\\displaystyle b \\dot{x}$"
      ],
      "text/plain": [
       "b⋅ẋ"
      ]
     },
     "metadata": {},
     "output_type": "display_data"
    },
    {
     "data": {
      "text/plain": [
       "'Tarcie model Stribeck-a'"
      ]
     },
     "metadata": {},
     "output_type": "display_data"
    },
    {
     "data": {
      "image/png": "[encoded data removed]",
      "text/latex": [
       "$\\displaystyle M_{t} g \\left(\\mu_{c} + \\left(- \\mu_{c} + \\mu_{s}\\right) e^{- \\left(\\frac{\\dot{x}}{v_{s}}\\right)^{i}}\\right) \\operatorname{sign}{\\left(\\dot{x} \\right)} + b \\dot{x}$"
      ],
      "text/plain": [
       "     ⎛                        i⎞              \n",
       "     ⎜                    ⎛ẋ⎞ ⎟              \n",
       "     ⎜                   -⎜──⎟ ⎟              \n",
       "     ⎜                    ⎝vₛ⎠ ⎟              \n",
       "Mₜ⋅g⋅⎝μ_c + (-μ_c + μₛ)⋅ℯ      ⎠⋅sign(ẋ) + b⋅ẋ"
      ]
     },
     "metadata": {},
     "output_type": "display_data"
    },
    {
     "data": {
      "text/plain": [
       "'Tarcie model Stribeck-a bez signum'"
      ]
     },
     "metadata": {},
     "output_type": "display_data"
    },
    {
     "data": {
      "image/png": "[encoded data removed]",
      "text/latex": [
       "$\\displaystyle M_{t} g \\left(\\mu_{c} + \\left(- \\mu_{c} + \\mu_{s}\\right) e^{- \\left(\\frac{\\dot{x}}{v_{s}}\\right)^{i}}\\right) \\tanh{\\left(\\delta \\dot{x} \\right)} + b \\dot{x}$"
      ],
      "text/plain": [
       "     ⎛                        i⎞                \n",
       "     ⎜                    ⎛ẋ⎞ ⎟                \n",
       "     ⎜                   -⎜──⎟ ⎟                \n",
       "     ⎜                    ⎝vₛ⎠ ⎟                \n",
       "Mₜ⋅g⋅⎝μ_c + (-μ_c + μₛ)⋅ℯ      ⎠⋅tanh(δ⋅ẋ) + b⋅ẋ"
      ]
     },
     "metadata": {},
     "output_type": "display_data"
    }
   ],
   "source": [
    "# state vector, x1 x2 x3 x4\n",
    "state_vec = smp.Matrix([\n",
    "    [x1],\n",
    "    [x2],\n",
    "    [x3],\n",
    "    [x4]\n",
    "])\n",
    "# state vector, x theta ...\n",
    "state_vec_noraml = smp.Matrix([\n",
    "    [x],\n",
    "    [the],\n",
    "    [Dx],\n",
    "    [Dthe]\n",
    "])\n",
    "disp('State vector.')\n",
    "disp( smp.Eq(state_vec, state_vec_noraml) )\n",
    "\n",
    "state_vec_diff = state_vec.diff(t)\n",
    "state_vec_noraml_diff = state_vec_noraml.diff(t)\n",
    "state_equations_normal = smp.Matrix([\n",
    "    [Dx],\n",
    "    [Dthe],\n",
    "    [DDx_ss],\n",
    "    [DDthe_ss]\n",
    "])\n",
    "\n",
    "disp('State equations')\n",
    "disp( smp.Eq( state_vec_noraml_diff, state_equations_normal ) )\n",
    "disp( smp.Eq( DDx, DDx_ss ) )\n",
    "disp( smp.Eq( DDthe, DDthe_ss ) )\n",
    "state_equations = state_equations_normal.subs([(Dx, x3), (Dthe, x4), (x, x1), (the, x2)])\n",
    "\n",
    "print('state_equations w x-ach')\n",
    "disp(state_equations)\n",
    "disp( smp.Eq( state_vec_noraml, state_vec ) )   \n",
    "\n",
    "# TARCIA\n",
    "# viscous friction\n",
    "b = smp.symbols('b')\n",
    "Ff_b = b*Dx\n",
    "\n",
    "# stribeck friction\n",
    "uc, us, vs, i = smp.symbols('mu_c mu_s v_s i')\n",
    "Ff_s = (uc + (us - uc) * smp.exp(-(Dx/vs)**i)) * Mt*g * smp.sign(Dx) + b*Dx\n",
    "\n",
    "# stribeck friction, sign(Dx) ->np.-> tanh(500*Dx)\n",
    "d = d = smp.Symbol('delta')\n",
    "uc, us, vs, i = smp.symbols('mu_c mu_s v_s i')\n",
    "Ff_s2 = (uc + (us - uc) * smp.exp(-(Dx/vs)**i)) * Mt*g * smp.tanh(d*Dx) + b*Dx\n",
    "\n",
    "disp('Tarcie lepkie')\n",
    "disp(Ff_b)\n",
    "\n",
    "disp('Tarcie model Stribeck-a')\n",
    "disp(Ff_s)\n",
    "\n",
    "disp('Tarcie model Stribeck-a bez signum')\n",
    "disp(Ff_s2)"
   ]
  },
  {
   "cell_type": "code",
   "execution_count": 10,
   "id": "743c6955-c79d-49d0-a865-ff3d66a63c9c",
   "metadata": {
    "tags": []
   },
   "outputs": [],
   "source": [
    "Ff_s2 = Ff_s2.subs(d, 400)\n",
    "Ff_s2 = Ff_s2.subs(i, 2)"
   ]
  },
  {
   "cell_type": "code",
   "execution_count": 11,
   "id": "0546395c-303a-414f-ab3a-de55653705a7",
   "metadata": {
    "tags": []
   },
   "outputs": [],
   "source": [
    "# podstawienie tarcia\n",
    "state_equations_visc = state_equations.subs(Ff, Ff_b).subs(Dx, x3)\n",
    "state_equations_stri = state_equations.subs(Ff, Ff_s2).subs(Dx, x3)"
   ]
  },
  {
   "cell_type": "markdown",
   "id": "c2ac81b0-bb61-49cf-aa7f-28e203abb0bc",
   "metadata": {
    "tags": []
   },
   "source": [
    "# ☄️ <b> <u> <font color='YELLOW'> 5. LINEARYZACJA </font>"
   ]
  },
  {
   "cell_type": "markdown",
   "id": "8c8bc6a1-a1a7-40e5-a6b8-3db4e534e2ee",
   "metadata": {
    "jp-MarkdownHeadingCollapsed": true,
    "tags": []
   },
   "source": [
    "## <font color='yellow'> 5.1 PUNKTY PRACY"
   ]
  },
  {
   "cell_type": "markdown",
   "id": "5ea05b7e-6793-4a2c-8508-de99d3f0dcb4",
   "metadata": {
    "tags": []
   },
   "source": [
    "<font size='4' color='#c512e0'> <b> Równania stanu są: </b> </font>   \n",
    "<font color='#e6a819' size='4'> $\\dot{\\boldsymbol{x}} = \\boldsymbol{f}(\\boldsymbol{x}, u, D)$ </font>\n",
    "\n",
    "<font color='orange'>\n",
    "punkty pracy, g-góra, d-dół  \n",
    "<font size=\"4\"> \n",
    "$S_{g/d} = (\\theta_0,\\ \\dot{x}_0,\\ \\dot{\\theta}_0,\\ \\ddot{x}_0,\\ \\ddot{\\theta}_0,\\ u_0,\\ D_0)$  \n",
    "    \n",
    "---\n",
    "górne położenie:   \n",
    "$S_g = (\\ 0,\\ 0,\\ 0,\\ 0,\\ 0,\\ 0,\\ 0\\ )$   \n",
    "\n",
    "Przyrostowe zmienne = oryginalne zmienne  \n",
    "$\\Delta \\theta = \\theta - 0$  \n",
    "...   \n",
    "$\\Delta D = D - 0$\n",
    "    \n",
    "---\n",
    "dolne położenie:   \n",
    "$S_d = (\\ \\pi,\\ 0,\\ 0,\\ 0,\\ 0,\\ 0,\\ 0\\ )$   \n",
    "  \n",
    "Tylko $\\Delta \\theta$ jest inna    \n",
    "$\\Delta \\theta = \\theta - \\pi$  \n",
    "...   \n",
    "$\\Delta D = D - 0$"
   ]
  },
  {
   "cell_type": "markdown",
   "id": "311f1166-e4df-42e0-a7e2-b2f2bfd0f168",
   "metadata": {
    "jp-MarkdownHeadingCollapsed": true,
    "tags": []
   },
   "source": [
    "## <font color='yellow'> 5.2 OBLICZENIA DALEJ"
   ]
  },
  {
   "cell_type": "code",
   "execution_count": 12,
   "id": "dc8d03c6-aad3-4918-bb33-913402ec406b",
   "metadata": {
    "tags": []
   },
   "outputs": [
    {
     "data": {
      "image/png": "[encoded data removed]",
      "text/latex": [
       "$\\displaystyle \\left[\\begin{matrix}x & \\theta & \\dot{x} & \\dot{\\theta}\\end{matrix}\\right]$"
      ],
      "text/plain": [
       "[x  θ  ẋ  θ̇]"
      ]
     },
     "execution_count": 12,
     "metadata": {},
     "output_type": "execute_result"
    }
   ],
   "source": [
    "state_vec_noraml.transpose()"
   ]
  },
  {
   "cell_type": "code",
   "execution_count": 13,
   "id": "cfa7d2f7-c14a-4265-ac60-c9970eb42207",
   "metadata": {
    "tags": []
   },
   "outputs": [],
   "source": [
    "# punkty pracy\n",
    "Sg = [0, 0, 0, 0, 0, 0]\n",
    "Sd = [0, np.pi, 0, 0, 0, 0]\n",
    "# punkt pracy symbolicznie - uzyty do podstawienia punktu pracy z wart. numerycznymi\n",
    "S0 = [x1, x2, x3, x4, u, D]"
   ]
  },
  {
   "cell_type": "code",
   "execution_count": 14,
   "id": "79d6c2cd-6eff-4289-8d70-7483f2d7a030",
   "metadata": {
    "tags": []
   },
   "outputs": [],
   "source": [
    "# zmienne przyrostowe\n",
    "D_u, D_D = smp.symbols(r'\\Delta{u} \\Delta{D}')\n",
    "\n",
    "D_x1, D_x2, D_x3, D_x4 = smp.symbols(r'\\Delta{x_1} \\Delta{x_2} \\Delta{x_3} \\Delta{x_4}')\n",
    "\n",
    "# kolejność zmiennych przyrostowych musi być taka sama jak kolejność symboli w punkcie pracy\n",
    "zmienne_przyrostowe = [D_x1, D_x2, D_x3, D_x4, D_u, D_D]"
   ]
  },
  {
   "cell_type": "markdown",
   "id": "c427e25c-4962-4b06-9ec1-d7d266ff7ed6",
   "metadata": {
    "jp-MarkdownHeadingCollapsed": true,
    "tags": []
   },
   "source": [
    "## 🛰️ <font color='yellow'> 5.3 TARCIE LEPKI </font>"
   ]
  },
  {
   "cell_type": "markdown",
   "id": "04022b3e-49a5-4ead-8e87-f619b398b182",
   "metadata": {
    "jp-MarkdownHeadingCollapsed": true,
    "tags": []
   },
   "source": [
    "### <b> <font color='orange'> 5.3.1 T. lepkie, górne położenie </font>"
   ]
  },
  {
   "cell_type": "code",
   "execution_count": 15,
   "id": "ddb4d2de-be73-4ccd-b2d7-437fd29417a3",
   "metadata": {
    "tags": []
   },
   "outputs": [],
   "source": [
    "# do podstawienia symboli z punktu pracy\n",
    "symb_val_dict = dict(zip(S0, Sg))"
   ]
  },
  {
   "cell_type": "code",
   "execution_count": 16,
   "id": "e01740de-9f20-4aab-8a9b-243b2abd8d59",
   "metadata": {
    "tags": []
   },
   "outputs": [],
   "source": [
    "df_dx = state_equations_visc.jacobian(state_vec)\n",
    "df_du = state_equations_visc.jacobian([u])\n",
    "df_dD = state_equations_visc.jacobian([D])"
   ]
  },
  {
   "cell_type": "code",
   "execution_count": 17,
   "id": "7d78c3af-a5b4-454d-aabb-b49ebd2e5a96",
   "metadata": {
    "tags": []
   },
   "outputs": [],
   "source": [
    "A_v_g = df_dx.subs(symb_val_dict)\n",
    "B_v_g = df_du.subs(symb_val_dict)\n",
    "H_v_g = df_dD.subs(symb_val_dict)"
   ]
  },
  {
   "cell_type": "code",
   "execution_count": 18,
   "id": "a306f785-8a46-4dbf-b12f-bf460eb41d2e",
   "metadata": {
    "tags": []
   },
   "outputs": [
    {
     "data": {
      "image/png": "[encoded data removed]",
      "text/latex": [
       "$\\displaystyle \\left[\\begin{matrix}0\\\\0\\\\\\frac{J_{t}}{J_{t} M_{t} - L^{2} m_{r}^{2}}\\\\- \\frac{L m_{r}}{J_{t} M_{t} - L^{2} m_{r}^{2}}\\end{matrix}\\right]$"
      ],
      "text/plain": [
       "⎡      0       ⎤\n",
       "⎢              ⎥\n",
       "⎢      0       ⎥\n",
       "⎢              ⎥\n",
       "⎢      Jₜ      ⎥\n",
       "⎢──────────────⎥\n",
       "⎢         2   2⎥\n",
       "⎢Jₜ⋅Mₜ - L ⋅mᵣ ⎥\n",
       "⎢              ⎥\n",
       "⎢    -L⋅mᵣ     ⎥\n",
       "⎢──────────────⎥\n",
       "⎢         2   2⎥\n",
       "⎣Jₜ⋅Mₜ - L ⋅mᵣ ⎦"
      ]
     },
     "execution_count": 18,
     "metadata": {},
     "output_type": "execute_result"
    }
   ],
   "source": [
    "B_v_g"
   ]
  },
  {
   "cell_type": "code",
   "execution_count": 34,
   "id": "3c00c520-1e93-4cb3-a74e-ac09aa207bec",
   "metadata": {
    "tags": []
   },
   "outputs": [
    {
     "data": {
      "image/png": "[encoded data removed]",
      "text/latex": [
       "$\\displaystyle \\left[\\begin{matrix}0\\\\0\\\\\\frac{J_{t} - L L_{c} m_{r}}{J_{t} M_{t} - L^{2} m_{r}^{2}}\\\\\\frac{- L m_{r} + L_{c} M_{t}}{J_{t} M_{t} - L^{2} m_{r}^{2}}\\end{matrix}\\right]$"
      ],
      "text/plain": [
       "⎡      0       ⎤\n",
       "⎢              ⎥\n",
       "⎢      0       ⎥\n",
       "⎢              ⎥\n",
       "⎢Jₜ - L⋅L_c⋅mᵣ ⎥\n",
       "⎢──────────────⎥\n",
       "⎢         2   2⎥\n",
       "⎢Jₜ⋅Mₜ - L ⋅mᵣ ⎥\n",
       "⎢              ⎥\n",
       "⎢-L⋅mᵣ + L_c⋅Mₜ⎥\n",
       "⎢──────────────⎥\n",
       "⎢         2   2⎥\n",
       "⎣Jₜ⋅Mₜ - L ⋅mᵣ ⎦"
      ]
     },
     "execution_count": 34,
     "metadata": {},
     "output_type": "execute_result"
    }
   ],
   "source": [
    "H_v_g"
   ]
  },
  {
   "cell_type": "code",
   "execution_count": 19,
   "id": "a76c4632-c094-4f92-aeb8-767d6ca95e93",
   "metadata": {
    "tags": []
   },
   "outputs": [
    {
     "data": {
      "image/png": "[encoded data removed]",
      "text/latex": [
       "$\\displaystyle \\left[\\begin{matrix}\\Delta{x_1}\\\\\\Delta{x_2}\\\\\\Delta{x_3}\\\\\\Delta{x_4}\\end{matrix}\\right] = \\left[\\begin{matrix}0 & 0 & 1 & 0\\\\0 & 0 & 0 & 1\\\\0 & - \\frac{L^{2} g m_{r}^{2}}{J_{t} M_{t} - L^{2} m_{r}^{2}} & - \\frac{J_{t} b}{J_{t} M_{t} - L^{2} m_{r}^{2}} & \\frac{L \\gamma m_{r}}{J_{t} M_{t} - L^{2} m_{r}^{2}}\\\\0 & \\frac{L M_{t} g m_{r}}{J_{t} M_{t} - L^{2} m_{r}^{2}} & \\frac{L b m_{r}}{J_{t} M_{t} - L^{2} m_{r}^{2}} & - \\frac{M_{t} \\gamma}{J_{t} M_{t} - L^{2} m_{r}^{2}}\\end{matrix}\\right] \\left[\\begin{matrix}\\Delta{x_1}\\\\\\Delta{x_2}\\\\\\Delta{x_3}\\\\\\Delta{x_4}\\end{matrix}\\right]$"
      ],
      "text/plain": [
       "                ⎡0        0               1               0       ⎤           \n",
       "                ⎢                                                 ⎥           \n",
       "                ⎢0        0               0               1       ⎥           \n",
       "                ⎢                                                 ⎥           \n",
       "⎡\\Delta{x_1}⎤   ⎢       2     2                                   ⎥ ⎡\\Delta{x_\n",
       "⎢           ⎥   ⎢     -L ⋅g⋅mᵣ          -Jₜ⋅b           L⋅γ⋅mᵣ    ⎥ ⎢         \n",
       "⎢\\Delta{x_2}⎥   ⎢0  ──────────────  ──────────────  ──────────────⎥ ⎢\\Delta{x_\n",
       "⎢           ⎥ = ⎢            2   2           2   2           2   2⎥⋅⎢         \n",
       "⎢\\Delta{x_3}⎥   ⎢   Jₜ⋅Mₜ - L ⋅mᵣ   Jₜ⋅Mₜ - L ⋅mᵣ   Jₜ⋅Mₜ - L ⋅mᵣ ⎥ ⎢\\Delta{x_\n",
       "⎢           ⎥   ⎢                                                 ⎥ ⎢         \n",
       "⎣\\Delta{x_4}⎦   ⎢     L⋅Mₜ⋅g⋅mᵣ         L⋅b⋅mᵣ          -Mₜ⋅γ     ⎥ ⎣\\Delta{x_\n",
       "                ⎢0  ──────────────  ──────────────  ──────────────⎥           \n",
       "                ⎢            2   2           2   2           2   2⎥           \n",
       "                ⎣   Jₜ⋅Mₜ - L ⋅mᵣ   Jₜ⋅Mₜ - L ⋅mᵣ   Jₜ⋅Mₜ - L ⋅mᵣ ⎦           \n",
       "\n",
       "   \n",
       "   \n",
       "   \n",
       "   \n",
       "1}⎤\n",
       "  ⎥\n",
       "2}⎥\n",
       "  ⎥\n",
       "3}⎥\n",
       "  ⎥\n",
       "4}⎦\n",
       "   \n",
       "   \n",
       "   "
      ]
     },
     "execution_count": 19,
     "metadata": {},
     "output_type": "execute_result"
    }
   ],
   "source": [
    "state_vec_przyrostowe = smp.Matrix([[D_x1], [D_x2], [D_x3], [D_x4]])\n",
    "ROWNANIE_STANU = smp.Eq(state_vec_przyrostowe, smp.MatMul(A_v_g, state_vec_przyrostowe, evaluate=False), evaluate=False)\n",
    "ROWNANIE_STANU"
   ]
  },
  {
   "cell_type": "code",
   "execution_count": 20,
   "id": "ceaebd9e-53f2-4e3b-8367-9efb4b86d87e",
   "metadata": {
    "tags": []
   },
   "outputs": [
    {
     "data": {
      "image/png": "[encoded data removed]",
      "text/latex": [
       "$\\displaystyle \\left[\\begin{matrix}\\Delta{x_3}\\\\\\Delta{x_4}\\\\\\frac{- J_{t} \\Delta{x_3} b - L^{2} \\Delta{x_2} g m_{r}^{2} + L \\Delta{x_4} \\gamma m_{r}}{J_{t} M_{t} - L^{2} m_{r}^{2}}\\\\\\frac{L M_{t} \\Delta{x_2} g m_{r} + L \\Delta{x_3} b m_{r} - M_{t} \\Delta{x_4} \\gamma}{J_{t} M_{t} - L^{2} m_{r}^{2}}\\end{matrix}\\right]$"
      ],
      "text/plain": [
       "⎡                         \\Delta{x_3}                         ⎤\n",
       "⎢                                                             ⎥\n",
       "⎢                         \\Delta{x_4}                         ⎥\n",
       "⎢                                                             ⎥\n",
       "⎢                     2                 2                     ⎥\n",
       "⎢-Jₜ⋅\\Delta{x_3}⋅b - L ⋅\\Delta{x_2}⋅g⋅mᵣ  + L⋅\\Delta{x_4}⋅γ⋅mᵣ⎥\n",
       "⎢─────────────────────────────────────────────────────────────⎥\n",
       "⎢                                 2   2                       ⎥\n",
       "⎢                        Jₜ⋅Mₜ - L ⋅mᵣ                        ⎥\n",
       "⎢                                                             ⎥\n",
       "⎢L⋅Mₜ⋅\\Delta{x_2}⋅g⋅mᵣ + L⋅\\Delta{x_3}⋅b⋅mᵣ - Mₜ⋅\\Delta{x_4}⋅γ⎥\n",
       "⎢─────────────────────────────────────────────────────────────⎥\n",
       "⎢                                 2   2                       ⎥\n",
       "⎣                        Jₜ⋅Mₜ - L ⋅mᵣ                        ⎦"
      ]
     },
     "execution_count": 20,
     "metadata": {},
     "output_type": "execute_result"
    }
   ],
   "source": [
    "smp.MatMul(A_v_g, state_vec_przyrostowe).doit().simplify()"
   ]
  },
  {
   "cell_type": "markdown",
   "id": "1f3714ca-2368-44bf-8b6d-b5c2e3b20a8a",
   "metadata": {
    "jp-MarkdownHeadingCollapsed": true,
    "tags": []
   },
   "source": [
    "### <b> <font color='orange'> 5.3.2 T. lepkie, dolne położenie </font>"
   ]
  },
  {
   "cell_type": "code",
   "execution_count": 21,
   "id": "0e41f608-28de-4040-86da-4d657ce910ea",
   "metadata": {
    "tags": []
   },
   "outputs": [],
   "source": [
    "symb_val_dict = dict(zip(S0, Sd))"
   ]
  },
  {
   "cell_type": "code",
   "execution_count": 22,
   "id": "28e66bc3-f79a-44c2-b6be-11a447ce419e",
   "metadata": {
    "tags": []
   },
   "outputs": [],
   "source": [
    "A_v_d = df_dx.subs(symb_val_dict)\n",
    "A_v_d.simplify()\n",
    "B_v_d = df_du.subs(symb_val_dict)\n",
    "H_v_d = df_dD.subs(symb_val_dict)"
   ]
  },
  {
   "cell_type": "code",
   "execution_count": 23,
   "id": "718c704d-7a7c-4082-b17f-0fb657cf7a0c",
   "metadata": {
    "tags": []
   },
   "outputs": [
    {
     "data": {
      "image/png": "[encoded data removed]",
      "text/latex": [
       "$\\displaystyle \\left[\\begin{matrix}\\Delta{x_1}\\\\\\Delta{x_2}\\\\\\Delta{x_3}\\\\\\Delta{x_4}\\end{matrix}\\right] = \\left[\\begin{matrix}0 & 0 & 1 & 0\\\\0 & 0 & 0 & 1\\\\0 & - \\frac{1.0 L^{2} g m_{r}^{2}}{J_{t} M_{t} - L^{2} m_{r}^{2}} & - \\frac{J_{t} b}{J_{t} M_{t} - 1.0 L^{2} m_{r}^{2}} & - \\frac{1.0 L \\gamma m_{r}}{J_{t} M_{t} - L^{2} m_{r}^{2}}\\\\0 & - \\frac{1.0 L M_{t} g m_{r}}{J_{t} M_{t} - L^{2} m_{r}^{2}} & - \\frac{1.0 L b m_{r}}{J_{t} M_{t} - L^{2} m_{r}^{2}} & - \\frac{M_{t} \\gamma}{J_{t} M_{t} - 1.0 L^{2} m_{r}^{2}}\\end{matrix}\\right] \\left[\\begin{matrix}\\Delta{x_1}\\\\\\Delta{x_2}\\\\\\Delta{x_3}\\\\\\Delta{x_4}\\end{matrix}\\right]$"
      ],
      "text/plain": [
       "                ⎡0         0               1               0       ⎤          \n",
       "                ⎢                                                  ⎥          \n",
       "                ⎢0         0               0               1       ⎥          \n",
       "                ⎢                                                  ⎥          \n",
       "⎡\\Delta{x_1}⎤   ⎢         2     2                                  ⎥ ⎡\\Delta{x\n",
       "⎢           ⎥   ⎢   -1.0⋅L ⋅g⋅mᵣ         -Jₜ⋅b        -1.0⋅L⋅γ⋅mᵣ  ⎥ ⎢        \n",
       "⎢\\Delta{x_2}⎥   ⎢0  ──────────────   ──────────────  ──────────────⎥ ⎢\\Delta{x\n",
       "⎢           ⎥ = ⎢            2   2            2   2           2   2⎥⋅⎢        \n",
       "⎢\\Delta{x_3}⎥   ⎢   Jₜ⋅Mₜ - L ⋅mᵣ    Jₜ⋅Mₜ - L ⋅mᵣ   Jₜ⋅Mₜ - L ⋅mᵣ ⎥ ⎢\\Delta{x\n",
       "⎢           ⎥   ⎢                                                  ⎥ ⎢        \n",
       "⎣\\Delta{x_4}⎦   ⎢   -1.0⋅L⋅Mₜ⋅g⋅mᵣ    -1.0⋅L⋅b⋅mᵣ        -Mₜ⋅γ     ⎥ ⎣\\Delta{x\n",
       "                ⎢0  ───────────────  ──────────────  ──────────────⎥          \n",
       "                ⎢             2   2           2   2           2   2⎥          \n",
       "                ⎣    Jₜ⋅Mₜ - L ⋅mᵣ   Jₜ⋅Mₜ - L ⋅mᵣ   Jₜ⋅Mₜ - L ⋅mᵣ ⎦          \n",
       "\n",
       "    \n",
       "    \n",
       "    \n",
       "    \n",
       "_1}⎤\n",
       "   ⎥\n",
       "_2}⎥\n",
       "   ⎥\n",
       "_3}⎥\n",
       "   ⎥\n",
       "_4}⎦\n",
       "    \n",
       "    \n",
       "    "
      ]
     },
     "execution_count": 23,
     "metadata": {},
     "output_type": "execute_result"
    }
   ],
   "source": [
    "state_vec_przyrostowe = smp.Matrix([[D_x1], [D_x2], [D_x3], [D_x4]])\n",
    "\n",
    "ROWNANIE_STANU = smp.Eq(state_vec_przyrostowe,\n",
    "                        smp.MatMul(A_v_d, state_vec_przyrostowe, evaluate=False),\n",
    "                        evaluate=False)\n",
    "ROWNANIE_STANU"
   ]
  },
  {
   "cell_type": "code",
   "execution_count": 35,
   "id": "0559300d-d28f-4930-8219-a391d857810c",
   "metadata": {
    "tags": []
   },
   "outputs": [
    {
     "data": {
      "image/png": "[encoded data removed]",
      "text/latex": [
       "$\\displaystyle \\left[\\begin{matrix}0\\\\0\\\\\\frac{J_{t}}{J_{t} M_{t} - 1.0 L^{2} m_{r}^{2}}\\\\\\frac{1.0 L m_{r}}{J_{t} M_{t} - 1.0 L^{2} m_{r}^{2}}\\end{matrix}\\right]$"
      ],
      "text/plain": [
       "⎡      0       ⎤\n",
       "⎢              ⎥\n",
       "⎢      0       ⎥\n",
       "⎢              ⎥\n",
       "⎢      Jₜ      ⎥\n",
       "⎢──────────────⎥\n",
       "⎢         2   2⎥\n",
       "⎢Jₜ⋅Mₜ - L ⋅mᵣ ⎥\n",
       "⎢              ⎥\n",
       "⎢   1.0⋅L⋅mᵣ   ⎥\n",
       "⎢──────────────⎥\n",
       "⎢         2   2⎥\n",
       "⎣Jₜ⋅Mₜ - L ⋅mᵣ ⎦"
      ]
     },
     "execution_count": 35,
     "metadata": {},
     "output_type": "execute_result"
    }
   ],
   "source": [
    "B_v_d"
   ]
  },
  {
   "cell_type": "code",
   "execution_count": 36,
   "id": "bcef1197-f164-4c1d-ac45-3477b6a71643",
   "metadata": {
    "tags": []
   },
   "outputs": [
    {
     "data": {
      "image/png": "[encoded data removed]",
      "text/latex": [
       "$\\displaystyle \\left[\\begin{matrix}0\\\\0\\\\\\frac{- 1.0 J_{t} + 1.0 L L_{c} m_{r}}{J_{t} M_{t} - 1.0 L^{2} m_{r}^{2}}\\\\\\frac{- 1.0 L m_{r} + L_{c} M_{t}}{J_{t} M_{t} - 1.0 L^{2} m_{r}^{2}}\\end{matrix}\\right]$"
      ],
      "text/plain": [
       "⎡        0         ⎤\n",
       "⎢                  ⎥\n",
       "⎢        0         ⎥\n",
       "⎢                  ⎥\n",
       "⎢-Jₜ + 1.0⋅L⋅L_c⋅mᵣ⎥\n",
       "⎢──────────────────⎥\n",
       "⎢           2   2  ⎥\n",
       "⎢  Jₜ⋅Mₜ - L ⋅mᵣ   ⎥\n",
       "⎢                  ⎥\n",
       "⎢  -L⋅mᵣ + L_c⋅Mₜ  ⎥\n",
       "⎢  ──────────────  ⎥\n",
       "⎢           2   2  ⎥\n",
       "⎣  Jₜ⋅Mₜ - L ⋅mᵣ   ⎦"
      ]
     },
     "execution_count": 36,
     "metadata": {},
     "output_type": "execute_result"
    }
   ],
   "source": [
    "H_v_d"
   ]
  },
  {
   "cell_type": "code",
   "execution_count": 24,
   "id": "214ad89a-2aa6-4b93-b4dd-d8f7d212a93e",
   "metadata": {
    "tags": []
   },
   "outputs": [
    {
     "data": {
      "image/png": "[encoded data removed]",
      "text/latex": [
       "$\\displaystyle \\left[\\begin{matrix}\\Delta{x_3}\\\\\\Delta{x_4}\\\\\\frac{1.0 \\left(- J_{t} \\Delta{x_3} b - L^{2} \\Delta{x_2} g m_{r}^{2} - L \\Delta{x_4} \\gamma m_{r}\\right)}{J_{t} M_{t} - L^{2} m_{r}^{2}}\\\\\\frac{1.0 \\left(- L M_{t} \\Delta{x_2} g m_{r} - L \\Delta{x_3} b m_{r} - M_{t} \\Delta{x_4} \\gamma\\right)}{J_{t} M_{t} - L^{2} m_{r}^{2}}\\end{matrix}\\right]$"
      ],
      "text/plain": [
       "⎡                            \\Delta{x_3}                             ⎤\n",
       "⎢                                                                    ⎥\n",
       "⎢                            \\Delta{x_4}                             ⎥\n",
       "⎢                                                                    ⎥\n",
       "⎢    ⎛                     2                 2                     ⎞ ⎥\n",
       "⎢1.0⋅⎝-Jₜ⋅\\Delta{x_3}⋅b - L ⋅\\Delta{x_2}⋅g⋅mᵣ  - L⋅\\Delta{x_4}⋅γ⋅mᵣ⎠ ⎥\n",
       "⎢─────────────────────────────────────────────────────────────────── ⎥\n",
       "⎢                                    2   2                           ⎥\n",
       "⎢                           Jₜ⋅Mₜ - L ⋅mᵣ                            ⎥\n",
       "⎢                                                                    ⎥\n",
       "⎢1.0⋅(-L⋅Mₜ⋅\\Delta{x_2}⋅g⋅mᵣ - L⋅\\Delta{x_3}⋅b⋅mᵣ - Mₜ⋅\\Delta{x_4}⋅γ)⎥\n",
       "⎢────────────────────────────────────────────────────────────────────⎥\n",
       "⎢                                    2   2                           ⎥\n",
       "⎣                           Jₜ⋅Mₜ - L ⋅mᵣ                            ⎦"
      ]
     },
     "execution_count": 24,
     "metadata": {},
     "output_type": "execute_result"
    }
   ],
   "source": [
    "smp.MatMul(A_v_d, state_vec_przyrostowe).doit().simplify()"
   ]
  },
  {
   "cell_type": "markdown",
   "id": "a1ef0270-3449-49b2-a758-2f659b90fdde",
   "metadata": {
    "jp-MarkdownHeadingCollapsed": true,
    "tags": []
   },
   "source": [
    "## 🛰️ <font color='yellow'> 5.4 TARCIE STRIBECKA </font>"
   ]
  },
  {
   "cell_type": "markdown",
   "id": "caf73688-3ffe-4478-af4a-bcd65d23d1be",
   "metadata": {
    "jp-MarkdownHeadingCollapsed": true,
    "tags": []
   },
   "source": [
    "### <b> <font color='orange'> 5.4.1 T. stribecka, górne położenie </font>"
   ]
  },
  {
   "cell_type": "code",
   "execution_count": 25,
   "id": "59b3f3a9-5cbc-4f87-8736-49d2c6f53724",
   "metadata": {
    "tags": []
   },
   "outputs": [],
   "source": [
    "symb_val_dict = dict(zip(S0, Sg))"
   ]
  },
  {
   "cell_type": "code",
   "execution_count": 26,
   "id": "3986be14-a81a-4b04-ad92-5862c9362a28",
   "metadata": {
    "tags": []
   },
   "outputs": [],
   "source": [
    "state_equations_stri.subs(i, 2)\n",
    "df_dx = state_equations_stri.jacobian(state_vec)\n",
    "df_du = state_equations_stri.jacobian([u])\n",
    "df_dD = state_equations_stri.jacobian([D])"
   ]
  },
  {
   "cell_type": "code",
   "execution_count": 27,
   "id": "6631eec5-9b0e-494c-9dc8-ad06d863db46",
   "metadata": {
    "tags": []
   },
   "outputs": [],
   "source": [
    "A_s_g = df_dx.subs(symb_val_dict)\n",
    "B_s_g = df_du.subs(symb_val_dict)\n",
    "H_s_g = df_dD.subs(symb_val_dict)"
   ]
  },
  {
   "cell_type": "code",
   "execution_count": 28,
   "id": "a4aa7997-eed8-4efd-be79-247886ea8253",
   "metadata": {
    "tags": []
   },
   "outputs": [
    {
     "data": {
      "image/png": "[encoded data removed]",
      "text/latex": [
       "$\\displaystyle \\left[\\begin{matrix}\\Delta{x_1}\\\\\\Delta{x_2}\\\\\\Delta{x_3}\\\\\\Delta{x_4}\\end{matrix}\\right] = \\left[\\begin{matrix}0 & 0 & 1 & 0\\\\0 & 0 & 0 & 1\\\\0 & - \\frac{L^{2} g m_{r}^{2}}{J_{t} M_{t} - L^{2} m_{r}^{2}} & \\frac{J_{t} \\left(- 400 M_{t} g \\mu_{s} - b\\right)}{J_{t} M_{t} - L^{2} m_{r}^{2}} & \\frac{L \\gamma m_{r}}{J_{t} M_{t} - L^{2} m_{r}^{2}}\\\\0 & \\frac{L M_{t} g m_{r}}{J_{t} M_{t} - L^{2} m_{r}^{2}} & - \\frac{L m_{r} \\left(- 400 M_{t} g \\mu_{s} - b\\right)}{J_{t} M_{t} - L^{2} m_{r}^{2}} & - \\frac{M_{t} \\gamma}{J_{t} M_{t} - L^{2} m_{r}^{2}}\\end{matrix}\\right] \\left[\\begin{matrix}\\Delta{x_1}\\\\\\Delta{x_2}\\\\\\Delta{x_3}\\\\\\Delta{x_4}\\end{matrix}\\right]$"
      ],
      "text/plain": [
       "                ⎡0        0                     1                    0       ⎤\n",
       "                ⎢                                                            ⎥\n",
       "                ⎢0        0                     0                    1       ⎥\n",
       "                ⎢                                                            ⎥\n",
       "⎡\\Delta{x_1}⎤   ⎢       2     2                                              ⎥\n",
       "⎢           ⎥   ⎢     -L ⋅g⋅mᵣ        Jₜ⋅(-400⋅Mₜ⋅g⋅μₛ - b)        L⋅γ⋅mᵣ    ⎥\n",
       "⎢\\Delta{x_2}⎥   ⎢0  ──────────────    ─────────────────────    ──────────────⎥\n",
       "⎢           ⎥ = ⎢            2   2                 2   2                2   2⎥\n",
       "⎢\\Delta{x_3}⎥   ⎢   Jₜ⋅Mₜ - L ⋅mᵣ         Jₜ⋅Mₜ - L ⋅mᵣ        Jₜ⋅Mₜ - L ⋅mᵣ ⎥\n",
       "⎢           ⎥   ⎢                                                            ⎥\n",
       "⎣\\Delta{x_4}⎦   ⎢     L⋅Mₜ⋅g⋅mᵣ     -L⋅mᵣ⋅(-400⋅Mₜ⋅g⋅μₛ - b)       -Mₜ⋅γ     ⎥\n",
       "                ⎢0  ──────────────  ─────────────────────────  ──────────────⎥\n",
       "                ⎢            2   2                 2   2                2   2⎥\n",
       "                ⎣   Jₜ⋅Mₜ - L ⋅mᵣ         Jₜ⋅Mₜ - L ⋅mᵣ        Jₜ⋅Mₜ - L ⋅mᵣ ⎦\n",
       "\n",
       "              \n",
       "              \n",
       "              \n",
       "              \n",
       " ⎡\\Delta{x_1}⎤\n",
       " ⎢           ⎥\n",
       " ⎢\\Delta{x_2}⎥\n",
       "⋅⎢           ⎥\n",
       " ⎢\\Delta{x_3}⎥\n",
       " ⎢           ⎥\n",
       " ⎣\\Delta{x_4}⎦\n",
       "              \n",
       "              \n",
       "              "
      ]
     },
     "execution_count": 28,
     "metadata": {},
     "output_type": "execute_result"
    }
   ],
   "source": [
    "state_vec_przyrostowe = smp.Matrix([[D_x1], [D_x2], [D_x3], [D_x4]])\n",
    "ROWNANIE_STANU = smp.Eq(state_vec_przyrostowe, smp.MatMul(A_s_g, state_vec_przyrostowe, evaluate=False), evaluate=False)\n",
    "ROWNANIE_STANU"
   ]
  },
  {
   "cell_type": "code",
   "execution_count": 37,
   "id": "bf574058-85cc-4c9c-b6f9-371d53832484",
   "metadata": {
    "tags": []
   },
   "outputs": [
    {
     "data": {
      "image/png": "[encoded data removed]",
      "text/latex": [
       "$\\displaystyle \\left[\\begin{matrix}0\\\\0\\\\\\frac{J_{t}}{J_{t} M_{t} - L^{2} m_{r}^{2}}\\\\- \\frac{L m_{r}}{J_{t} M_{t} - L^{2} m_{r}^{2}}\\end{matrix}\\right]$"
      ],
      "text/plain": [
       "⎡      0       ⎤\n",
       "⎢              ⎥\n",
       "⎢      0       ⎥\n",
       "⎢              ⎥\n",
       "⎢      Jₜ      ⎥\n",
       "⎢──────────────⎥\n",
       "⎢         2   2⎥\n",
       "⎢Jₜ⋅Mₜ - L ⋅mᵣ ⎥\n",
       "⎢              ⎥\n",
       "⎢    -L⋅mᵣ     ⎥\n",
       "⎢──────────────⎥\n",
       "⎢         2   2⎥\n",
       "⎣Jₜ⋅Mₜ - L ⋅mᵣ ⎦"
      ]
     },
     "execution_count": 37,
     "metadata": {},
     "output_type": "execute_result"
    }
   ],
   "source": [
    "B_s_g"
   ]
  },
  {
   "cell_type": "code",
   "execution_count": 38,
   "id": "ba13b5ab-cae8-48ae-903e-8f62b1d3b163",
   "metadata": {
    "tags": []
   },
   "outputs": [
    {
     "data": {
      "image/png": "[encoded data removed]",
      "text/latex": [
       "$\\displaystyle \\left[\\begin{matrix}0\\\\0\\\\\\frac{J_{t} - L L_{c} m_{r}}{J_{t} M_{t} - L^{2} m_{r}^{2}}\\\\\\frac{- L m_{r} + L_{c} M_{t}}{J_{t} M_{t} - L^{2} m_{r}^{2}}\\end{matrix}\\right]$"
      ],
      "text/plain": [
       "⎡      0       ⎤\n",
       "⎢              ⎥\n",
       "⎢      0       ⎥\n",
       "⎢              ⎥\n",
       "⎢Jₜ - L⋅L_c⋅mᵣ ⎥\n",
       "⎢──────────────⎥\n",
       "⎢         2   2⎥\n",
       "⎢Jₜ⋅Mₜ - L ⋅mᵣ ⎥\n",
       "⎢              ⎥\n",
       "⎢-L⋅mᵣ + L_c⋅Mₜ⎥\n",
       "⎢──────────────⎥\n",
       "⎢         2   2⎥\n",
       "⎣Jₜ⋅Mₜ - L ⋅mᵣ ⎦"
      ]
     },
     "execution_count": 38,
     "metadata": {},
     "output_type": "execute_result"
    }
   ],
   "source": [
    "H_s_g"
   ]
  },
  {
   "cell_type": "code",
   "execution_count": 29,
   "id": "42cbbace-a568-414e-bbef-b336d09f2758",
   "metadata": {
    "tags": []
   },
   "outputs": [
    {
     "data": {
      "image/png": "[encoded data removed]",
      "text/latex": [
       "$\\displaystyle \\left[\\begin{matrix}\\Delta{x_3}\\\\\\Delta{x_4}\\\\\\frac{- J_{t} \\Delta{x_3} \\cdot \\left(400 M_{t} g \\mu_{s} + b\\right) - L^{2} \\Delta{x_2} g m_{r}^{2} + L \\Delta{x_4} \\gamma m_{r}}{J_{t} M_{t} - L^{2} m_{r}^{2}}\\\\\\frac{L M_{t} \\Delta{x_2} g m_{r} + L \\Delta{x_3} m_{r} \\left(400 M_{t} g \\mu_{s} + b\\right) - M_{t} \\Delta{x_4} \\gamma}{J_{t} M_{t} - L^{2} m_{r}^{2}}\\end{matrix}\\right]$"
      ],
      "text/plain": [
       "⎡                                 \\Delta{x_3}                                 \n",
       "⎢                                                                             \n",
       "⎢                                 \\Delta{x_4}                                 \n",
       "⎢                                                                             \n",
       "⎢                                     2                 2                     \n",
       "⎢-Jₜ⋅\\Delta{x_3}⋅(400⋅Mₜ⋅g⋅μₛ + b) - L ⋅\\Delta{x_2}⋅g⋅mᵣ  + L⋅\\Delta{x_4}⋅γ⋅mᵣ\n",
       "⎢─────────────────────────────────────────────────────────────────────────────\n",
       "⎢                                         2   2                               \n",
       "⎢                                Jₜ⋅Mₜ - L ⋅mᵣ                                \n",
       "⎢                                                                             \n",
       "⎢L⋅Mₜ⋅\\Delta{x_2}⋅g⋅mᵣ + L⋅\\Delta{x_3}⋅mᵣ⋅(400⋅Mₜ⋅g⋅μₛ + b) - Mₜ⋅\\Delta{x_4}⋅γ\n",
       "⎢─────────────────────────────────────────────────────────────────────────────\n",
       "⎢                                         2   2                               \n",
       "⎣                                Jₜ⋅Mₜ - L ⋅mᵣ                                \n",
       "\n",
       "⎤\n",
       "⎥\n",
       "⎥\n",
       "⎥\n",
       "⎥\n",
       "⎥\n",
       "⎥\n",
       "⎥\n",
       "⎥\n",
       "⎥\n",
       "⎥\n",
       "⎥\n",
       "⎥\n",
       "⎦"
      ]
     },
     "execution_count": 29,
     "metadata": {},
     "output_type": "execute_result"
    }
   ],
   "source": [
    "smp.MatMul(A_s_g, state_vec_przyrostowe).doit().simplify()"
   ]
  },
  {
   "cell_type": "markdown",
   "id": "8012d6fc-b26f-4fc7-829a-1f3460f35c96",
   "metadata": {
    "jp-MarkdownHeadingCollapsed": true,
    "tags": []
   },
   "source": [
    "### <b> <font color='orange'> 5.4.2 T. stribecka, dolne położenie </font>"
   ]
  },
  {
   "cell_type": "code",
   "execution_count": 30,
   "id": "f2f7fb5d-7244-4bf1-b81e-4b091bdbbe20",
   "metadata": {
    "tags": []
   },
   "outputs": [],
   "source": [
    "symb_val_dict = dict(zip(S0, Sd))"
   ]
  },
  {
   "cell_type": "code",
   "execution_count": 31,
   "id": "d0cab325-bc0e-4685-baa3-536e67ab7beb",
   "metadata": {
    "tags": []
   },
   "outputs": [],
   "source": [
    "A_s_d = df_dx.subs(symb_val_dict)\n",
    "B_s_d = df_du.subs(symb_val_dict)\n",
    "H_s_d = df_dD.subs(symb_val_dict)\n",
    "A_s_d.simplify()"
   ]
  },
  {
   "cell_type": "code",
   "execution_count": 39,
   "id": "d88d808b-d0af-4919-9004-721cb970b4ce",
   "metadata": {
    "tags": []
   },
   "outputs": [
    {
     "data": {
      "image/png": "[encoded data removed]",
      "text/latex": [
       "$\\displaystyle \\left[\\begin{matrix}\\Delta{x_1}\\\\\\Delta{x_2}\\\\\\Delta{x_3}\\\\\\Delta{x_4}\\end{matrix}\\right] = \\left[\\begin{matrix}0 & 0 & 1 & 0\\\\0 & 0 & 0 & 1\\\\0 & - \\frac{1.0 L^{2} g m_{r}^{2}}{J_{t} M_{t} - L^{2} m_{r}^{2}} & - \\frac{J_{t} \\left(400 M_{t} g \\mu_{s} + b\\right)}{J_{t} M_{t} - 1.0 L^{2} m_{r}^{2}} & - \\frac{1.0 L \\gamma m_{r}}{J_{t} M_{t} - L^{2} m_{r}^{2}}\\\\0 & - \\frac{1.0 L M_{t} g m_{r}}{J_{t} M_{t} - L^{2} m_{r}^{2}} & - \\frac{1.0 L m_{r} \\left(400 M_{t} g \\mu_{s} + b\\right)}{J_{t} M_{t} - 1.0 L^{2} m_{r}^{2}} & - \\frac{M_{t} \\gamma}{J_{t} M_{t} - 1.0 L^{2} m_{r}^{2}}\\end{matrix}\\right] \\left[\\begin{matrix}\\Delta{x_1}\\\\\\Delta{x_2}\\\\\\Delta{x_3}\\\\\\Delta{x_4}\\end{matrix}\\right]$"
      ],
      "text/plain": [
       "                ⎡0         0                      1                      0    \n",
       "                ⎢                                                             \n",
       "                ⎢0         0                      0                      1    \n",
       "                ⎢                                                             \n",
       "⎡\\Delta{x_1}⎤   ⎢         2     2                                             \n",
       "⎢           ⎥   ⎢   -1.0⋅L ⋅g⋅mᵣ        -Jₜ⋅(400⋅Mₜ⋅g⋅μₛ + b)       -1.0⋅L⋅γ⋅m\n",
       "⎢\\Delta{x_2}⎥   ⎢0  ──────────────      ──────────────────────     ───────────\n",
       "⎢           ⎥ = ⎢            2   2                   2   2                  2 \n",
       "⎢\\Delta{x_3}⎥   ⎢   Jₜ⋅Mₜ - L ⋅mᵣ           Jₜ⋅Mₜ - L ⋅mᵣ          Jₜ⋅Mₜ - L ⋅\n",
       "⎢           ⎥   ⎢                                                             \n",
       "⎣\\Delta{x_4}⎦   ⎢   -1.0⋅L⋅Mₜ⋅g⋅mᵣ   -1.0⋅L⋅mᵣ⋅(400⋅Mₜ⋅g⋅μₛ + b)       -Mₜ⋅γ  \n",
       "                ⎢0  ───────────────  ────────────────────────────  ───────────\n",
       "                ⎢             2   2                  2   2                  2 \n",
       "                ⎣    Jₜ⋅Mₜ - L ⋅mᵣ          Jₜ⋅Mₜ - L ⋅mᵣ          Jₜ⋅Mₜ - L ⋅\n",
       "\n",
       "   ⎤              \n",
       "   ⎥              \n",
       "   ⎥              \n",
       "   ⎥              \n",
       "   ⎥ ⎡\\Delta{x_1}⎤\n",
       "ᵣ  ⎥ ⎢           ⎥\n",
       "───⎥ ⎢\\Delta{x_2}⎥\n",
       "  2⎥⋅⎢           ⎥\n",
       "mᵣ ⎥ ⎢\\Delta{x_3}⎥\n",
       "   ⎥ ⎢           ⎥\n",
       "   ⎥ ⎣\\Delta{x_4}⎦\n",
       "───⎥              \n",
       "  2⎥              \n",
       "mᵣ ⎦              "
      ]
     },
     "execution_count": 39,
     "metadata": {},
     "output_type": "execute_result"
    }
   ],
   "source": [
    "state_vec_przyrostowe = smp.Matrix([[D_x1], [D_x2], [D_x3], [D_x4]])\n",
    "ROWNANIE_STANU = smp.Eq(state_vec_przyrostowe, smp.MatMul(A_s_d, state_vec_przyrostowe, evaluate=False), evaluate=False)\n",
    "ROWNANIE_STANU"
   ]
  },
  {
   "cell_type": "code",
   "execution_count": 40,
   "id": "43b35029-b690-4701-97e6-a9d16ec7e35a",
   "metadata": {
    "tags": []
   },
   "outputs": [
    {
     "data": {
      "image/png": "[encoded data removed]",
      "text/latex": [
       "$\\displaystyle \\left[\\begin{matrix}0\\\\0\\\\\\frac{J_{t}}{J_{t} M_{t} - 1.0 L^{2} m_{r}^{2}}\\\\\\frac{1.0 L m_{r}}{J_{t} M_{t} - 1.0 L^{2} m_{r}^{2}}\\end{matrix}\\right]$"
      ],
      "text/plain": [
       "⎡      0       ⎤\n",
       "⎢              ⎥\n",
       "⎢      0       ⎥\n",
       "⎢              ⎥\n",
       "⎢      Jₜ      ⎥\n",
       "⎢──────────────⎥\n",
       "⎢         2   2⎥\n",
       "⎢Jₜ⋅Mₜ - L ⋅mᵣ ⎥\n",
       "⎢              ⎥\n",
       "⎢   1.0⋅L⋅mᵣ   ⎥\n",
       "⎢──────────────⎥\n",
       "⎢         2   2⎥\n",
       "⎣Jₜ⋅Mₜ - L ⋅mᵣ ⎦"
      ]
     },
     "execution_count": 40,
     "metadata": {},
     "output_type": "execute_result"
    }
   ],
   "source": [
    "B_s_d"
   ]
  },
  {
   "cell_type": "code",
   "execution_count": 41,
   "id": "bd445092-5ffc-493c-9fe8-86a900b54a8b",
   "metadata": {
    "tags": []
   },
   "outputs": [
    {
     "data": {
      "image/png": "[encoded data removed]",
      "text/latex": [
       "$\\displaystyle \\left[\\begin{matrix}0\\\\0\\\\\\frac{- 1.0 J_{t} + 1.0 L L_{c} m_{r}}{J_{t} M_{t} - 1.0 L^{2} m_{r}^{2}}\\\\\\frac{- 1.0 L m_{r} + L_{c} M_{t}}{J_{t} M_{t} - 1.0 L^{2} m_{r}^{2}}\\end{matrix}\\right]$"
      ],
      "text/plain": [
       "⎡        0         ⎤\n",
       "⎢                  ⎥\n",
       "⎢        0         ⎥\n",
       "⎢                  ⎥\n",
       "⎢-Jₜ + 1.0⋅L⋅L_c⋅mᵣ⎥\n",
       "⎢──────────────────⎥\n",
       "⎢           2   2  ⎥\n",
       "⎢  Jₜ⋅Mₜ - L ⋅mᵣ   ⎥\n",
       "⎢                  ⎥\n",
       "⎢  -L⋅mᵣ + L_c⋅Mₜ  ⎥\n",
       "⎢  ──────────────  ⎥\n",
       "⎢           2   2  ⎥\n",
       "⎣  Jₜ⋅Mₜ - L ⋅mᵣ   ⎦"
      ]
     },
     "execution_count": 41,
     "metadata": {},
     "output_type": "execute_result"
    }
   ],
   "source": [
    "H_s_d"
   ]
  },
  {
   "cell_type": "code",
   "execution_count": 33,
   "id": "69e1b19c-38a9-4634-b82d-8b268b3951a1",
   "metadata": {
    "tags": []
   },
   "outputs": [
    {
     "data": {
      "image/png": "[encoded data removed]",
      "text/latex": [
       "$\\displaystyle \\left[\\begin{matrix}\\Delta{x_3}\\\\\\Delta{x_4}\\\\\\frac{1.0 \\left(- 400.0 J_{t} M_{t} \\Delta{x_3} g \\mu_{s} - 1.0 J_{t} \\Delta{x_3} b - 1.0 L^{2} \\Delta{x_2} g m_{r}^{2} - 1.0 L \\Delta{x_4} \\gamma m_{r}\\right)}{J_{t} M_{t} - L^{2} m_{r}^{2}}\\\\\\frac{1.0 \\left(- 1.0 L M_{t} \\Delta{x_2} g m_{r} - 400.0 L M_{t} \\Delta{x_3} g m_{r} \\mu_{s} - 1.0 L \\Delta{x_3} b m_{r} - 1.0 M_{t} \\Delta{x_4} \\gamma\\right)}{J_{t} M_{t} - L^{2} m_{r}^{2}}\\end{matrix}\\right]$"
      ],
      "text/plain": [
       "⎡                                             \\Delta{x_3}                     \n",
       "⎢                                                                             \n",
       "⎢                                             \\Delta{x_4}                     \n",
       "⎢                                                                             \n",
       "⎢     ⎛                                                    2                 2\n",
       "⎢ 1.0⋅⎝-400.0⋅Jₜ⋅Mₜ⋅\\Delta{x_3}⋅g⋅μₛ - Jₜ⋅\\Delta{x_3}⋅b - L ⋅\\Delta{x_2}⋅g⋅mᵣ \n",
       "⎢ ────────────────────────────────────────────────────────────────────────────\n",
       "⎢                                                    2   2                    \n",
       "⎢                                           Jₜ⋅Mₜ - L ⋅mᵣ                     \n",
       "⎢                                                                             \n",
       "⎢1.0⋅(-L⋅Mₜ⋅\\Delta{x_2}⋅g⋅mᵣ - 400.0⋅L⋅Mₜ⋅\\Delta{x_3}⋅g⋅mᵣ⋅μₛ - L⋅\\Delta{x_3}⋅\n",
       "⎢─────────────────────────────────────────────────────────────────────────────\n",
       "⎢                                                     2   2                   \n",
       "⎣                                            Jₜ⋅Mₜ - L ⋅mᵣ                    \n",
       "\n",
       "                        ⎤\n",
       "                        ⎥\n",
       "                        ⎥\n",
       "                        ⎥\n",
       "                     ⎞  ⎥\n",
       " - L⋅\\Delta{x_4}⋅γ⋅mᵣ⎠  ⎥\n",
       "──────────────────────  ⎥\n",
       "                        ⎥\n",
       "                        ⎥\n",
       "                        ⎥\n",
       "b⋅mᵣ - Mₜ⋅\\Delta{x_4}⋅γ)⎥\n",
       "────────────────────────⎥\n",
       "                        ⎥\n",
       "                        ⎦"
      ]
     },
     "execution_count": 33,
     "metadata": {},
     "output_type": "execute_result"
    }
   ],
   "source": [
    "smp.MatMul(A_s_d, state_vec_przyrostowe).doit().simplify()"
   ]
  }
 ],
 "metadata": {
  "kernelspec": {
   "display_name": "systemsKer",
   "language": "python",
   "name": "systems"
  },
  "language_info": {
   "codemirror_mode": {
    "name": "ipython",
    "version": 3
   },
   "file_extension": ".py",
   "mimetype": "text/x-python",
   "name": "python",
   "nbconvert_exporter": "python",
   "pygments_lexer": "ipython3",
   "version": "3.9.16"
  },
  "toc-autonumbering": false,
  "toc-showcode": true,
  "toc-showmarkdowntxt": true
 },
 "nbformat": 4,
 "nbformat_minor": 5
}
