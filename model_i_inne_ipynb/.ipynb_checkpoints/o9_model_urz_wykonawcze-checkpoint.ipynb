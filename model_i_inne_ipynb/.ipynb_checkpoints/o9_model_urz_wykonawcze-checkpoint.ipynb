{
 "cells": [
  {
   "cell_type": "code",
   "execution_count": 1,
   "id": "f894dde5-ed3a-4ed9-830d-96fb75540a65",
   "metadata": {
    "tags": []
   },
   "outputs": [],
   "source": [
    "# imports\n",
    "from IPython.display import display as disp\n",
    "from sympy import symbols, cos, sin\n",
    "import sympy as smp\n",
    "\n",
    "# Newtown notation for derivatives (dot notation) -> bardzo spowalnia printowanie równań\n",
    "from sympy.physics.mechanics import dynamicsymbols, init_vprinting\n",
    "init_vprinting() "
   ]
  },
  {
   "cell_type": "code",
   "execution_count": null,
   "id": "8a7d6dcf-73aa-4dad-bd98-bdbe1cb92f10",
   "metadata": {},
   "outputs": [],
   "source": []
  },
  {
   "cell_type": "code",
   "execution_count": null,
   "id": "cfee3f75-c586-4d6e-a242-cb201113b566",
   "metadata": {},
   "outputs": [],
   "source": []
  },
  {
   "cell_type": "code",
   "execution_count": null,
   "id": "172c88e3-fe69-4a4c-9aa0-747e8e0f6eb0",
   "metadata": {},
   "outputs": [],
   "source": []
  },
  {
   "cell_type": "code",
   "execution_count": null,
   "id": "8cca1e0a-e439-4ffb-8b1d-1e56b31a439f",
   "metadata": {},
   "outputs": [],
   "source": []
  },
  {
   "cell_type": "code",
   "execution_count": null,
   "id": "43617b04-84f5-4651-a571-1518bb6ae485",
   "metadata": {},
   "outputs": [],
   "source": []
  }
 ],
 "metadata": {
  "kernelspec": {
   "display_name": "systemsKer",
   "language": "python",
   "name": "systems"
  },
  "language_info": {
   "codemirror_mode": {
    "name": "ipython",
    "version": 3
   },
   "file_extension": ".py",
   "mimetype": "text/x-python",
   "name": "python",
   "nbconvert_exporter": "python",
   "pygments_lexer": "ipython3",
   "version": "3.9.16"
  }
 },
 "nbformat": 4,
 "nbformat_minor": 5
}
