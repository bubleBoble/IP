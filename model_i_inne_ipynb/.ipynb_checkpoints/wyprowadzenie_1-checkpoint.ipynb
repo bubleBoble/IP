{
 "cells": [
  {
   "cell_type": "markdown",
   "metadata": {},
   "source": [
    "<img src=\"./obrazek.png\" alt=\"obrazek\" width=\"900\" />\n",
    "<!-- <img src=\"https://drive.google.com/uc?id=1zAAiUPi743u2IE6PpDTfXdOLgWZyQ_0v\" width=\"900\">  -->"
   ]
  },
  {
   "cell_type": "code",
   "execution_count": 1,
   "metadata": {},
   "outputs": [],
   "source": [
    "from IPython.display import display as disp\n",
    "from IPython.display import Math as math"
   ]
  },
  {
   "cell_type": "code",
   "execution_count": 2,
   "metadata": {},
   "outputs": [],
   "source": [
    "import numpy as np\n",
    "from sympy import symbols, cos, sin\n",
    "import sympy as smp\n",
    "from scipy.integrate import odeint\n",
    "import matplotlib.pyplot as plt"
   ]
  },
  {
   "cell_type": "code",
   "execution_count": 3,
   "metadata": {
    "tags": []
   },
   "outputs": [],
   "source": [
    "from sympy import print_latex"
   ]
  },
  {
   "cell_type": "code",
   "execution_count": 4,
   "metadata": {
    "tags": []
   },
   "outputs": [],
   "source": [
    "from IPython.display import Markdown as md"
   ]
  },
  {
   "cell_type": "code",
   "execution_count": 5,
   "metadata": {},
   "outputs": [],
   "source": [
    "# Constants & time\n",
    "m, L, M, gamma, b, g, J = symbols('m L M gamma b g J')\n",
    "t = symbols('t')\n",
    "\n",
    "# Functions\n",
    "x, y, u, xcm, ycm = symbols('x y u x_{cm} y_{cm}', cls=smp.Function)\n",
    "theta = symbols('theta', cls=smp.Function)\n",
    "\n",
    "x = x(t)\n",
    "y = y(t)\n",
    "u = u(t)\n",
    "xcm = xcm(t)\n",
    "ycm = ycm(t)\n",
    "theta = theta(t)\n",
    "\n",
    "# Other\n",
    "Rx, Ry = symbols('R_x R_y')\n",
    "\n",
    "# Pochodne\n",
    "Dx = x.diff(t, 1)\n",
    "DDx = x.diff(t, 2)"
   ]
  },
  {
   "cell_type": "markdown",
   "metadata": {},
   "source": [
    "## <b>Równania dla położenia środka ciężkości wahadła\n",
    "$P_{cm} = (x_{cm}, y_{cm})$\\\n",
    "$x_{cm} = x + L\\sin(\\theta)$\\\n",
    "$y_{cm} = L\\cos(\\theta)$"
   ]
  },
  {
   "cell_type": "code",
   "execution_count": 6,
   "metadata": {
    "tags": []
   },
   "outputs": [
    {
     "data": {
      "text/latex": [
       "$\\displaystyle L \\sin{\\left(\\theta{\\left(t \\right)} \\right)} + x{\\left(t \\right)}$"
      ],
      "text/plain": [
       "L*sin(theta(t)) + x(t)"
      ]
     },
     "metadata": {},
     "output_type": "display_data"
    },
    {
     "data": {
      "text/latex": [
       "$\\displaystyle L \\cos{\\left(\\theta{\\left(t \\right)} \\right)}$"
      ],
      "text/plain": [
       "L*cos(theta(t))"
      ]
     },
     "metadata": {},
     "output_type": "display_data"
    }
   ],
   "source": [
    "xcm = x+L*sin(theta)\n",
    "ycm = L*cos(theta)\n",
    "\n",
    "disp(xcm)\n",
    "disp(ycm)"
   ]
  },
  {
   "cell_type": "markdown",
   "metadata": {},
   "source": [
    "## <b> Bilans sił działających na wózek\n",
    "$M\\ddot{x} = F - F_f - R_x$\\\n",
    "$F = u$\\\n",
    "$F_f = b\\dot{x}$"
   ]
  },
  {
   "cell_type": "code",
   "execution_count": 7,
   "metadata": {},
   "outputs": [
    {
     "data": {
      "text/latex": [
       "$\\displaystyle M \\frac{d^{2}}{d t^{2}} x{\\left(t \\right)} = - R_{x} - b \\frac{d}{d t} x{\\left(t \\right)} + u{\\left(t \\right)}$"
      ],
      "text/plain": [
       "Eq(M*Derivative(x(t), (t, 2)), -R_x - b*Derivative(x(t), t) + u(t))"
      ]
     },
     "metadata": {},
     "output_type": "display_data"
    }
   ],
   "source": [
    "F_f = b*Dx\n",
    "lhs = M*DDx\n",
    "rhs = u - F_f - Rx\n",
    "f_trolley_eq = smp.Eq(lhs=lhs, rhs=rhs)\n",
    "\n",
    "disp(f_trolley_eq)"
   ]
  },
  {
   "cell_type": "markdown",
   "metadata": {},
   "source": [
    "## <b> Bilans sił działających na wahadło\n",
    "$m\\ddot{x}_{cm} = R_x$\\\n",
    "$m\\ddot{y}_{cm} = R_y - mg$"
   ]
  },
  {
   "cell_type": "code",
   "execution_count": 8,
   "metadata": {
    "tags": []
   },
   "outputs": [
    {
     "name": "stdout",
     "output_type": "stream",
     "text": [
      "Rx EXPR:\n"
     ]
    },
    {
     "data": {
      "text/latex": [
       "$\\displaystyle m \\left(- L \\sin{\\left(\\theta{\\left(t \\right)} \\right)} \\left(\\frac{d}{d t} \\theta{\\left(t \\right)}\\right)^{2} + L \\cos{\\left(\\theta{\\left(t \\right)} \\right)} \\frac{d^{2}}{d t^{2}} \\theta{\\left(t \\right)} + \\frac{d^{2}}{d t^{2}} x{\\left(t \\right)}\\right)$"
      ],
      "text/plain": [
       "m*(-L*sin(theta(t))*Derivative(theta(t), t)**2 + L*cos(theta(t))*Derivative(theta(t), (t, 2)) + Derivative(x(t), (t, 2)))"
      ]
     },
     "metadata": {},
     "output_type": "display_data"
    },
    {
     "name": "stdout",
     "output_type": "stream",
     "text": [
      "Pełne równanie\n"
     ]
    },
    {
     "data": {
      "text/latex": [
       "$\\displaystyle R_{x} = m \\left(- L \\sin{\\left(\\theta{\\left(t \\right)} \\right)} \\left(\\frac{d}{d t} \\theta{\\left(t \\right)}\\right)^{2} + L \\cos{\\left(\\theta{\\left(t \\right)} \\right)} \\frac{d^{2}}{d t^{2}} \\theta{\\left(t \\right)} + \\frac{d^{2}}{d t^{2}} x{\\left(t \\right)}\\right)$"
      ],
      "text/plain": [
       "Eq(R_x, m*(-L*sin(theta(t))*Derivative(theta(t), t)**2 + L*cos(theta(t))*Derivative(theta(t), (t, 2)) + Derivative(x(t), (t, 2))))"
      ]
     },
     "metadata": {},
     "output_type": "display_data"
    },
    {
     "name": "stdout",
     "output_type": "stream",
     "text": [
      "Ry EXPR:\n"
     ]
    },
    {
     "data": {
      "text/latex": [
       "$\\displaystyle - L m \\left(\\sin{\\left(\\theta{\\left(t \\right)} \\right)} \\frac{d^{2}}{d t^{2}} \\theta{\\left(t \\right)} + \\cos{\\left(\\theta{\\left(t \\right)} \\right)} \\left(\\frac{d}{d t} \\theta{\\left(t \\right)}\\right)^{2}\\right) + g m$"
      ],
      "text/plain": [
       "-L*m*(sin(theta(t))*Derivative(theta(t), (t, 2)) + cos(theta(t))*Derivative(theta(t), t)**2) + g*m"
      ]
     },
     "metadata": {},
     "output_type": "display_data"
    },
    {
     "name": "stdout",
     "output_type": "stream",
     "text": [
      "Pełne równanie\n"
     ]
    },
    {
     "data": {
      "text/latex": [
       "$\\displaystyle R_{y} = - L m \\left(\\sin{\\left(\\theta{\\left(t \\right)} \\right)} \\frac{d^{2}}{d t^{2}} \\theta{\\left(t \\right)} + \\cos{\\left(\\theta{\\left(t \\right)} \\right)} \\left(\\frac{d}{d t} \\theta{\\left(t \\right)}\\right)^{2}\\right) + g m$"
      ],
      "text/plain": [
       "Eq(R_y, -L*m*(sin(theta(t))*Derivative(theta(t), (t, 2)) + cos(theta(t))*Derivative(theta(t), t)**2) + g*m)"
      ]
     },
     "metadata": {},
     "output_type": "display_data"
    }
   ],
   "source": [
    "Dx_cm = xcm.diff(t, 1)\n",
    "DDx_cm = xcm.diff(t, 2)\n",
    "DDy_cm = ycm.diff(t, 2)\n",
    "\n",
    "Rx_expr = m * DDx_cm\n",
    "Ry_expr = m * DDy_cm + m*g\n",
    "\n",
    "print('Rx EXPR:')\n",
    "disp(Rx_expr)\n",
    "print('Pełne równanie')\n",
    "disp(smp.Eq(Rx, Rx_expr))\n",
    "# print('RX LATEX CODE:')\n",
    "# print_latex(Rx_res)\n",
    "\n",
    "print('Ry EXPR:')\n",
    "disp(Ry_expr)\n",
    "print('Pełne równanie')\n",
    "disp(smp.Eq(Ry, Ry_expr))\n",
    "# print('RY LATEX CODE')\n",
    "# print_latex(Ry_res)\n"
   ]
  },
  {
   "cell_type": "markdown",
   "metadata": {
    "tags": []
   },
   "source": [
    "## <b> Bilans momentów sił działających na wahadło\n",
    "$J\\ddot{\\theta} = LR_y\\sin(\\theta) - LR_x\\cos(\\theta) - \\gamma\\ddot{\\theta}$"
   ]
  },
  {
   "cell_type": "code",
   "execution_count": 9,
   "metadata": {
    "tags": []
   },
   "outputs": [
    {
     "data": {
      "text/latex": [
       "$\\displaystyle J \\frac{d^{2}}{d t^{2}} \\theta{\\left(t \\right)} = - L R_{x} \\cos{\\left(\\theta{\\left(t \\right)} \\right)} + L R_{y} \\sin{\\left(\\theta{\\left(t \\right)} \\right)}$"
      ],
      "text/plain": [
       "Eq(J*Derivative(theta(t), (t, 2)), -L*R_x*cos(theta(t)) + L*R_y*sin(theta(t)))"
      ]
     },
     "execution_count": 9,
     "metadata": {},
     "output_type": "execute_result"
    }
   ],
   "source": [
    "Dtheta = theta.diff(t, 1)\n",
    "DDtheta = theta.diff(t, 2)\n",
    "\n",
    "lhs = J*DDtheta\n",
    "rhs = L*Ry*sin(theta) - L*Rx*cos(theta)\n",
    "bilans_momentow = smp.Eq(lhs=lhs, rhs=rhs)\n",
    "bilans_momentow"
   ]
  },
  {
   "cell_type": "code",
   "execution_count": 10,
   "metadata": {},
   "outputs": [
    {
     "name": "stdout",
     "output_type": "stream",
     "text": [
      "To mam\n"
     ]
    },
    {
     "data": {
      "text/latex": [
       "$\\displaystyle M \\frac{d^{2}}{d t^{2}} x{\\left(t \\right)} = - R_{x} - b \\frac{d}{d t} x{\\left(t \\right)} + u{\\left(t \\right)}$"
      ],
      "text/plain": [
       "Eq(M*Derivative(x(t), (t, 2)), -R_x - b*Derivative(x(t), t) + u(t))"
      ]
     },
     "metadata": {},
     "output_type": "display_data"
    },
    {
     "data": {
      "text/latex": [
       "$\\displaystyle J \\frac{d^{2}}{d t^{2}} \\theta{\\left(t \\right)} = - L R_{x} \\cos{\\left(\\theta{\\left(t \\right)} \\right)} + L R_{y} \\sin{\\left(\\theta{\\left(t \\right)} \\right)}$"
      ],
      "text/plain": [
       "Eq(J*Derivative(theta(t), (t, 2)), -L*R_x*cos(theta(t)) + L*R_y*sin(theta(t)))"
      ]
     },
     "metadata": {},
     "output_type": "display_data"
    },
    {
     "data": {
      "text/latex": [
       "$\\displaystyle R_{x} = m \\left(- L \\sin{\\left(\\theta{\\left(t \\right)} \\right)} \\left(\\frac{d}{d t} \\theta{\\left(t \\right)}\\right)^{2} + L \\cos{\\left(\\theta{\\left(t \\right)} \\right)} \\frac{d^{2}}{d t^{2}} \\theta{\\left(t \\right)} + \\frac{d^{2}}{d t^{2}} x{\\left(t \\right)}\\right)$"
      ],
      "text/plain": [
       "Eq(R_x, m*(-L*sin(theta(t))*Derivative(theta(t), t)**2 + L*cos(theta(t))*Derivative(theta(t), (t, 2)) + Derivative(x(t), (t, 2))))"
      ]
     },
     "metadata": {},
     "output_type": "display_data"
    },
    {
     "data": {
      "text/latex": [
       "$\\displaystyle R_{y} = - L m \\left(\\sin{\\left(\\theta{\\left(t \\right)} \\right)} \\frac{d^{2}}{d t^{2}} \\theta{\\left(t \\right)} + \\cos{\\left(\\theta{\\left(t \\right)} \\right)} \\left(\\frac{d}{d t} \\theta{\\left(t \\right)}\\right)^{2}\\right) + g m$"
      ],
      "text/plain": [
       "Eq(R_y, -L*m*(sin(theta(t))*Derivative(theta(t), (t, 2)) + cos(theta(t))*Derivative(theta(t), t)**2) + g*m)"
      ]
     },
     "metadata": {},
     "output_type": "display_data"
    }
   ],
   "source": [
    "print('To mam')\n",
    "disp(f_trolley_eq)\n",
    "disp(bilans_momentow)\n",
    "disp(smp.Eq(Rx, Rx_expr))\n",
    "disp(smp.Eq(Ry, Ry_expr))"
   ]
  },
  {
   "cell_type": "code",
   "execution_count": 11,
   "metadata": {
    "tags": []
   },
   "outputs": [
    {
     "data": {
      "text/latex": [
       "$\\displaystyle M \\frac{d^{2}}{d t^{2}} x{\\left(t \\right)} = - b \\frac{d}{d t} x{\\left(t \\right)} - m \\left(- L \\sin{\\left(\\theta{\\left(t \\right)} \\right)} \\left(\\frac{d}{d t} \\theta{\\left(t \\right)}\\right)^{2} + L \\cos{\\left(\\theta{\\left(t \\right)} \\right)} \\frac{d^{2}}{d t^{2}} \\theta{\\left(t \\right)} + \\frac{d^{2}}{d t^{2}} x{\\left(t \\right)}\\right) + u{\\left(t \\right)}$"
      ],
      "text/plain": [
       "Eq(M*Derivative(x(t), (t, 2)), -b*Derivative(x(t), t) - m*(-L*sin(theta(t))*Derivative(theta(t), t)**2 + L*cos(theta(t))*Derivative(theta(t), (t, 2)) + Derivative(x(t), (t, 2))) + u(t))"
      ]
     },
     "execution_count": 11,
     "metadata": {},
     "output_type": "execute_result"
    }
   ],
   "source": [
    "f_trolley_eq = f_trolley_eq.subs([(Rx, Rx_expr),\n",
    "                                  (Ry, Ry_expr)])\n",
    "f_trolley_eq.simplify()"
   ]
  },
  {
   "cell_type": "code",
   "execution_count": 12,
   "metadata": {
    "tags": []
   },
   "outputs": [
    {
     "data": {
      "text/latex": [
       "$\\displaystyle J \\frac{d^{2}}{d t^{2}} \\theta{\\left(t \\right)} = L m \\left(- L \\frac{d^{2}}{d t^{2}} \\theta{\\left(t \\right)} + g \\sin{\\left(\\theta{\\left(t \\right)} \\right)} - \\cos{\\left(\\theta{\\left(t \\right)} \\right)} \\frac{d^{2}}{d t^{2}} x{\\left(t \\right)}\\right)$"
      ],
      "text/plain": [
       "Eq(J*Derivative(theta(t), (t, 2)), L*m*(-L*Derivative(theta(t), (t, 2)) + g*sin(theta(t)) - cos(theta(t))*Derivative(x(t), (t, 2))))"
      ]
     },
     "execution_count": 12,
     "metadata": {},
     "output_type": "execute_result"
    }
   ],
   "source": [
    "bilans_momentow = bilans_momentow.subs([(Rx, Rx_expr),\n",
    "                                        (Ry, Ry_expr)])\n",
    "bilans_momentow.simplify()"
   ]
  },
  {
   "cell_type": "code",
   "execution_count": null,
   "metadata": {},
   "outputs": [],
   "source": []
  },
  {
   "cell_type": "markdown",
   "metadata": {},
   "source": [
    "## <b> Co otrzymano\n",
    "\\begin{equation}\n",
    "    (M + m) \\ddot{x} + b\\dot{x} = u + mL\\sin(\\theta)\\ddot{\\theta}^2 - mL\\cos(\\theta)\\ddot{\\theta}\n",
    "\\end{equation}\n",
    "\\begin{equation}\n",
    "    (J + mL^2)\\ddot{\\theta} = mLg\\sin(\\theta) - mL\\cos(\\theta)\\ddot{x}\n",
    "\\end{equation}"
   ]
  },
  {
   "cell_type": "markdown",
   "metadata": {},
   "source": [
    "Inaczej\n",
    "    \n",
    "\\begin{equation}\n",
    "    \\begin{bmatrix}\n",
    "        (M+m) & mL\\cos(\\theta)\\\\\n",
    "        mL\\cos(\\theta) & (J+mL^2) \n",
    "    \\end{bmatrix}\n",
    "    \\begin{bmatrix}\n",
    "        \\ddot{x}\\\\\n",
    "        \\ddot{\\theta}\n",
    "    \\end{bmatrix}\n",
    "    +\n",
    "    \\begin{bmatrix}\n",
    "        b\\dot{x} - mL\\sin(\\theta)\\ddot{\\theta}^2\\\\\n",
    "        mgL\\sin(\\theta)\n",
    "    \\end{bmatrix}\n",
    "    =\n",
    "    \\begin{bmatrix}\n",
    "        u\\\\\n",
    "        0\n",
    "    \\end{bmatrix}\n",
    "\\end{equation}\n",
    "\n",
    "inaczej\n",
    "\\begin{equation}\n",
    "    AB+C = D\n",
    "\\end{equation}"
   ]
  },
  {
   "cell_type": "markdown",
   "metadata": {},
   "source": [
    "\\begin{equation}\n",
    "    \\begin{bmatrix}\n",
    "        \\ddot{x}\\\\\n",
    "        \\ddot{\\theta}\n",
    "    \\end{bmatrix}\n",
    "    =\n",
    "    B\n",
    "    =\n",
    "    A^{-1}\n",
    "    \\left(\n",
    "    D-C\n",
    "    \\right)\n",
    "\\end{equation}"
   ]
  },
  {
   "cell_type": "code",
   "execution_count": 13,
   "metadata": {
    "tags": []
   },
   "outputs": [],
   "source": [
    "A = smp.Matrix([\n",
    "    [M+m, m*L*cos(theta)],\n",
    "    [m*L*cos(theta), J+m*L**2]\n",
    "])\n",
    "B = smp.Matrix([\n",
    "    [DDx],\n",
    "    [DDtheta]\n",
    "])\n",
    "C = smp.Matrix([\n",
    "    [b*Dx - m*L*sin(theta)*DDtheta**2 ],\n",
    "    [m*g*L*sin(theta)]\n",
    "])\n",
    "D = D = smp.Matrix([\n",
    "    [u],\n",
    "    [0]\n",
    "])"
   ]
  },
  {
   "cell_type": "code",
   "execution_count": 14,
   "metadata": {
    "tags": []
   },
   "outputs": [],
   "source": [
    "ddx_ddtheta = A.inv() * (D - C)"
   ]
  },
  {
   "cell_type": "code",
   "execution_count": 15,
   "metadata": {},
   "outputs": [
    {
     "data": {
      "text/latex": [
       "$\\displaystyle \\left[\\begin{matrix}- \\frac{L^{2} g m^{2} \\sin{\\left(\\theta{\\left(t \\right)} \\right)} \\cos{\\left(\\theta{\\left(t \\right)} \\right)}}{- J M - J m - L^{2} M m + L^{2} m^{2} \\cos^{2}{\\left(\\theta{\\left(t \\right)} \\right)} - L^{2} m^{2}} + \\frac{\\left(- J - L^{2} m\\right) \\left(L m \\sin{\\left(\\theta{\\left(t \\right)} \\right)} \\left(\\frac{d^{2}}{d t^{2}} \\theta{\\left(t \\right)}\\right)^{2} - b \\frac{d}{d t} x{\\left(t \\right)} + u{\\left(t \\right)}\\right)}{- J M - J m - L^{2} M m + L^{2} m^{2} \\cos^{2}{\\left(\\theta{\\left(t \\right)} \\right)} - L^{2} m^{2}}\\\\- \\frac{L g m \\left(- M - m\\right) \\sin{\\left(\\theta{\\left(t \\right)} \\right)}}{- J M - J m - L^{2} M m + L^{2} m^{2} \\cos^{2}{\\left(\\theta{\\left(t \\right)} \\right)} - L^{2} m^{2}} + \\frac{L m \\left(L m \\sin{\\left(\\theta{\\left(t \\right)} \\right)} \\left(\\frac{d^{2}}{d t^{2}} \\theta{\\left(t \\right)}\\right)^{2} - b \\frac{d}{d t} x{\\left(t \\right)} + u{\\left(t \\right)}\\right) \\cos{\\left(\\theta{\\left(t \\right)} \\right)}}{- J M - J m - L^{2} M m + L^{2} m^{2} \\cos^{2}{\\left(\\theta{\\left(t \\right)} \\right)} - L^{2} m^{2}}\\end{matrix}\\right]$"
      ],
      "text/plain": [
       "Matrix([\n",
       "[-L**2*g*m**2*sin(theta(t))*cos(theta(t))/(-J*M - J*m - L**2*M*m + L**2*m**2*cos(theta(t))**2 - L**2*m**2) + (-J - L**2*m)*(L*m*sin(theta(t))*Derivative(theta(t), (t, 2))**2 - b*Derivative(x(t), t) + u(t))/(-J*M - J*m - L**2*M*m + L**2*m**2*cos(theta(t))**2 - L**2*m**2)],\n",
       "[       -L*g*m*(-M - m)*sin(theta(t))/(-J*M - J*m - L**2*M*m + L**2*m**2*cos(theta(t))**2 - L**2*m**2) + L*m*(L*m*sin(theta(t))*Derivative(theta(t), (t, 2))**2 - b*Derivative(x(t), t) + u(t))*cos(theta(t))/(-J*M - J*m - L**2*M*m + L**2*m**2*cos(theta(t))**2 - L**2*m**2)]])"
      ]
     },
     "execution_count": 15,
     "metadata": {},
     "output_type": "execute_result"
    }
   ],
   "source": [
    "ddx_ddtheta"
   ]
  },
  {
   "cell_type": "code",
   "execution_count": null,
   "metadata": {
    "tags": []
   },
   "outputs": [],
   "source": []
  },
  {
   "cell_type": "code",
   "execution_count": 16,
   "metadata": {
    "tags": []
   },
   "outputs": [
    {
     "name": "stdout",
     "output_type": "stream",
     "text": [
      "\\left[\\begin{matrix}- \\frac{L^{2} g m^{2} \\sin{\\left(\\theta{\\left(t \\right)} \\right)} \\cos{\\left(\\theta{\\left(t \\right)} \\right)}}{- J M - J m - L^{2} M m + L^{2} m^{2} \\cos^{2}{\\left(\\theta{\\left(t \\right)} \\right)} - L^{2} m^{2}} + \\frac{\\left(- J - L^{2} m\\right) \\left(L m \\sin{\\left(\\theta{\\left(t \\right)} \\right)} \\left(\\frac{d^{2}}{d t^{2}} \\theta{\\left(t \\right)}\\right)^{2} - b \\frac{d}{d t} x{\\left(t \\right)} + u{\\left(t \\right)}\\right)}{- J M - J m - L^{2} M m + L^{2} m^{2} \\cos^{2}{\\left(\\theta{\\left(t \\right)} \\right)} - L^{2} m^{2}}\\\\- \\frac{L g m \\left(- M - m\\right) \\sin{\\left(\\theta{\\left(t \\right)} \\right)}}{- J M - J m - L^{2} M m + L^{2} m^{2} \\cos^{2}{\\left(\\theta{\\left(t \\right)} \\right)} - L^{2} m^{2}} + \\frac{L m \\left(L m \\sin{\\left(\\theta{\\left(t \\right)} \\right)} \\left(\\frac{d^{2}}{d t^{2}} \\theta{\\left(t \\right)}\\right)^{2} - b \\frac{d}{d t} x{\\left(t \\right)} + u{\\left(t \\right)}\\right) \\cos{\\left(\\theta{\\left(t \\right)} \\right)}}{- J M - J m - L^{2} M m + L^{2} m^{2} \\cos^{2}{\\left(\\theta{\\left(t \\right)} \\right)} - L^{2} m^{2}}\\end{matrix}\\right]\n"
     ]
    }
   ],
   "source": [
    "print_latex(ddx_ddtheta)"
   ]
  },
  {
   "cell_type": "code",
   "execution_count": 19,
   "metadata": {
    "tags": []
   },
   "outputs": [
    {
     "data": {
      "text/latex": [
       "$\\displaystyle - \\frac{L^{2} g m^{2} \\sin{\\left(\\theta{\\left(t \\right)} \\right)} \\cos{\\left(\\theta{\\left(t \\right)} \\right)}}{- J M - J m - L^{2} M m + L^{2} m^{2} \\cos^{2}{\\left(\\theta{\\left(t \\right)} \\right)} - L^{2} m^{2}} + \\frac{\\left(- J - L^{2} m\\right) \\left(L m \\sin{\\left(\\theta{\\left(t \\right)} \\right)} \\left(\\frac{d^{2}}{d t^{2}} \\theta{\\left(t \\right)}\\right)^{2} - b \\frac{d}{d t} x{\\left(t \\right)} + u{\\left(t \\right)}\\right)}{- J M - J m - L^{2} M m + L^{2} m^{2} \\cos^{2}{\\left(\\theta{\\left(t \\right)} \\right)} - L^{2} m^{2}}$"
      ],
      "text/plain": [
       "-L**2*g*m**2*sin(theta(t))*cos(theta(t))/(-J*M - J*m - L**2*M*m + L**2*m**2*cos(theta(t))**2 - L**2*m**2) + (-J - L**2*m)*(L*m*sin(theta(t))*Derivative(theta(t), (t, 2))**2 - b*Derivative(x(t), t) + u(t))/(-J*M - J*m - L**2*M*m + L**2*m**2*cos(theta(t))**2 - L**2*m**2)"
      ]
     },
     "execution_count": 19,
     "metadata": {},
     "output_type": "execute_result"
    }
   ],
   "source": [
    "ddx_ddtheta[0]"
   ]
  },
  {
   "cell_type": "code",
   "execution_count": 20,
   "metadata": {
    "tags": []
   },
   "outputs": [
    {
     "data": {
      "text/latex": [
       "$\\displaystyle - \\frac{L g m \\left(- M - m\\right) \\sin{\\left(\\theta{\\left(t \\right)} \\right)}}{- J M - J m - L^{2} M m + L^{2} m^{2} \\cos^{2}{\\left(\\theta{\\left(t \\right)} \\right)} - L^{2} m^{2}} + \\frac{L m \\left(L m \\sin{\\left(\\theta{\\left(t \\right)} \\right)} \\left(\\frac{d^{2}}{d t^{2}} \\theta{\\left(t \\right)}\\right)^{2} - b \\frac{d}{d t} x{\\left(t \\right)} + u{\\left(t \\right)}\\right) \\cos{\\left(\\theta{\\left(t \\right)} \\right)}}{- J M - J m - L^{2} M m + L^{2} m^{2} \\cos^{2}{\\left(\\theta{\\left(t \\right)} \\right)} - L^{2} m^{2}}$"
      ],
      "text/plain": [
       "-L*g*m*(-M - m)*sin(theta(t))/(-J*M - J*m - L**2*M*m + L**2*m**2*cos(theta(t))**2 - L**2*m**2) + L*m*(L*m*sin(theta(t))*Derivative(theta(t), (t, 2))**2 - b*Derivative(x(t), t) + u(t))*cos(theta(t))/(-J*M - J*m - L**2*M*m + L**2*m**2*cos(theta(t))**2 - L**2*m**2)"
      ]
     },
     "execution_count": 20,
     "metadata": {},
     "output_type": "execute_result"
    }
   ],
   "source": [
    "ddx_ddtheta[1]"
   ]
  },
  {
   "cell_type": "code",
   "execution_count": null,
   "metadata": {},
   "outputs": [],
   "source": []
  },
  {
   "cell_type": "code",
   "execution_count": null,
   "metadata": {},
   "outputs": [],
   "source": []
  },
  {
   "cell_type": "code",
   "execution_count": null,
   "metadata": {},
   "outputs": [],
   "source": []
  },
  {
   "cell_type": "code",
   "execution_count": null,
   "metadata": {},
   "outputs": [],
   "source": []
  }
 ],
 "metadata": {
  "kernelspec": {
   "display_name": "systemsKer",
   "language": "python",
   "name": "systems"
  },
  "language_info": {
   "codemirror_mode": {
    "name": "ipython",
    "version": 3
   },
   "file_extension": ".py",
   "mimetype": "text/x-python",
   "name": "python",
   "nbconvert_exporter": "python",
   "pygments_lexer": "ipython3",
   "version": "3.9.16"
  },
  "vscode": {
   "interpreter": {
    "hash": "1a1644aade9e1d826661d79d97f8a96b3be37f68f2e7d0bbeb3d255db6365bb8"
   }
  }
 },
 "nbformat": 4,
 "nbformat_minor": 4
}
